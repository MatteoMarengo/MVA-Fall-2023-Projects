{
  "cells": [
    {
      "cell_type": "markdown",
      "source": [
        "----\n",
        "# <b> Mini Project - ML for Time Series </b>\n",
        "# Matteo MARENGO | matteo.marengo@ens-paris-saclay.fr\n",
        "# Hugo ROBERT | hugo.robert@ens-paris-saclay.fr\n",
        "----"
      ],
      "metadata": {
        "id": "IldTYgRMHnK4"
      },
      "id": "IldTYgRMHnK4"
    },
    {
      "cell_type": "markdown",
      "id": "afb72815-74ef-4b27-b413-26c1c4f20652",
      "metadata": {
        "id": "afb72815-74ef-4b27-b413-26c1c4f20652",
        "tags": []
      },
      "source": [
        "# <b>1 : Setup and Data</b>"
      ]
    },
    {
      "cell_type": "markdown",
      "source": [
        "## <b> 1.1 : Installation </b>"
      ],
      "metadata": {
        "id": "rdj-UGZ6sFk3"
      },
      "id": "rdj-UGZ6sFk3"
    },
    {
      "cell_type": "code",
      "source": [
        "from google.colab import drive\n",
        "drive.mount('/content/drive')"
      ],
      "metadata": {
        "colab": {
          "base_uri": "https://localhost:8080/"
        },
        "id": "s7gU8xQXGcAb",
        "outputId": "6791d27d-70b2-45b0-df51-7eb359f8d05f"
      },
      "id": "s7gU8xQXGcAb",
      "execution_count": 1,
      "outputs": [
        {
          "output_type": "stream",
          "name": "stdout",
          "text": [
            "Mounted at /content/drive\n"
          ]
        }
      ]
    },
    {
      "cell_type": "code",
      "source": [
        "!cd '/content/drive/MyDrive/MVA-2023-2024/TIME_SERIES/TSFEL-LIBRARY/DTW'\n",
        "!pwd"
      ],
      "metadata": {
        "colab": {
          "base_uri": "https://localhost:8080/"
        },
        "id": "LMyS4214HDew",
        "outputId": "6267dbef-a11d-4b58-8495-b8af591d1700"
      },
      "id": "LMyS4214HDew",
      "execution_count": 2,
      "outputs": [
        {
          "output_type": "stream",
          "name": "stdout",
          "text": [
            "/bin/bash: line 1: cd: /content/drive/MyDrive/MVA-2023-2024/TIME_SERIES/TSFEL-LIBRARY/DTW: No such file or directory\n",
            "/content\n"
          ]
        }
      ]
    },
    {
      "cell_type": "code",
      "execution_count": 3,
      "id": "auLH2hPpxpGo",
      "metadata": {
        "colab": {
          "base_uri": "https://localhost:8080/"
        },
        "id": "auLH2hPpxpGo",
        "outputId": "adf7d649-7eea-45ac-cf86-efa98e1af2e3"
      },
      "outputs": [
        {
          "output_type": "stream",
          "name": "stdout",
          "text": [
            "Collecting dtw-python\n",
            "  Downloading dtw_python-1.3.0-cp310-cp310-manylinux_2_17_x86_64.manylinux2014_x86_64.whl (645 kB)\n",
            "\u001b[?25l     \u001b[90m━━━━━━━━━━━━━━━━━━━━━━━━━━━━━━━━━━━━━━━━\u001b[0m \u001b[32m0.0/645.5 kB\u001b[0m \u001b[31m?\u001b[0m eta \u001b[36m-:--:--\u001b[0m\r\u001b[2K     \u001b[91m━\u001b[0m\u001b[91m╸\u001b[0m\u001b[90m━━━━━━━━━━━━━━━━━━━━━━━━━━━━━━━━━━━━━━\u001b[0m \u001b[32m30.7/645.5 kB\u001b[0m \u001b[31m1.2 MB/s\u001b[0m eta \u001b[36m0:00:01\u001b[0m\r\u001b[2K     \u001b[91m━━━━━━━━━━━━━━━━━━━━━━━━\u001b[0m\u001b[91m╸\u001b[0m\u001b[90m━━━━━━━━━━━━━━━\u001b[0m \u001b[32m399.4/645.5 kB\u001b[0m \u001b[31m6.4 MB/s\u001b[0m eta \u001b[36m0:00:01\u001b[0m\r\u001b[2K     \u001b[90m━━━━━━━━━━━━━━━━━━━━━━━━━━━━━━━━━━━━━━━━\u001b[0m \u001b[32m645.5/645.5 kB\u001b[0m \u001b[31m7.9 MB/s\u001b[0m eta \u001b[36m0:00:00\u001b[0m\n",
            "\u001b[?25hRequirement already satisfied: numpy>=1.19 in /usr/local/lib/python3.10/dist-packages (from dtw-python) (1.23.5)\n",
            "Requirement already satisfied: scipy>=1.1 in /usr/local/lib/python3.10/dist-packages (from dtw-python) (1.11.4)\n",
            "Installing collected packages: dtw-python\n",
            "Successfully installed dtw-python-1.3.0\n",
            "Collecting loadmydata\n",
            "  Downloading loadmydata-0.0.11.tar.gz (19 kB)\n",
            "  Installing build dependencies ... \u001b[?25l\u001b[?25hdone\n",
            "  Getting requirements to build wheel ... \u001b[?25l\u001b[?25hdone\n",
            "  Preparing metadata (pyproject.toml) ... \u001b[?25l\u001b[?25hdone\n",
            "Requirement already satisfied: numpy in /usr/local/lib/python3.10/dist-packages (from loadmydata) (1.23.5)\n",
            "Requirement already satisfied: pandas in /usr/local/lib/python3.10/dist-packages (from loadmydata) (1.5.3)\n",
            "Requirement already satisfied: requests in /usr/local/lib/python3.10/dist-packages (from loadmydata) (2.31.0)\n",
            "Requirement already satisfied: scikit-learn>=0.23.0 in /usr/local/lib/python3.10/dist-packages (from loadmydata) (1.2.2)\n",
            "Requirement already satisfied: scipy>=1.3.0 in /usr/local/lib/python3.10/dist-packages (from loadmydata) (1.11.4)\n",
            "Requirement already satisfied: tqdm in /usr/local/lib/python3.10/dist-packages (from loadmydata) (4.66.1)\n",
            "Requirement already satisfied: yarl in /usr/local/lib/python3.10/dist-packages (from loadmydata) (1.9.4)\n",
            "Requirement already satisfied: joblib>=1.1.1 in /usr/local/lib/python3.10/dist-packages (from scikit-learn>=0.23.0->loadmydata) (1.3.2)\n",
            "Requirement already satisfied: threadpoolctl>=2.0.0 in /usr/local/lib/python3.10/dist-packages (from scikit-learn>=0.23.0->loadmydata) (3.2.0)\n",
            "Requirement already satisfied: python-dateutil>=2.8.1 in /usr/local/lib/python3.10/dist-packages (from pandas->loadmydata) (2.8.2)\n",
            "Requirement already satisfied: pytz>=2020.1 in /usr/local/lib/python3.10/dist-packages (from pandas->loadmydata) (2023.3.post1)\n",
            "Requirement already satisfied: charset-normalizer<4,>=2 in /usr/local/lib/python3.10/dist-packages (from requests->loadmydata) (3.3.2)\n",
            "Requirement already satisfied: idna<4,>=2.5 in /usr/local/lib/python3.10/dist-packages (from requests->loadmydata) (3.6)\n",
            "Requirement already satisfied: urllib3<3,>=1.21.1 in /usr/local/lib/python3.10/dist-packages (from requests->loadmydata) (2.0.7)\n",
            "Requirement already satisfied: certifi>=2017.4.17 in /usr/local/lib/python3.10/dist-packages (from requests->loadmydata) (2023.11.17)\n",
            "Requirement already satisfied: multidict>=4.0 in /usr/local/lib/python3.10/dist-packages (from yarl->loadmydata) (6.0.4)\n",
            "Requirement already satisfied: six>=1.5 in /usr/local/lib/python3.10/dist-packages (from python-dateutil>=2.8.1->pandas->loadmydata) (1.16.0)\n",
            "Building wheels for collected packages: loadmydata\n",
            "  Building wheel for loadmydata (pyproject.toml) ... \u001b[?25l\u001b[?25hdone\n",
            "  Created wheel for loadmydata: filename=loadmydata-0.0.11-py3-none-any.whl size=18022 sha256=e0c15519b95ba4815840756a97194ad61f1a4ab3fe15581484e5c214f5f222f2\n",
            "  Stored in directory: /root/.cache/pip/wheels/43/16/85/7c6a4152d2b99f1e83db216f6a0e8116700f0f03cc555f2c7c\n",
            "Successfully built loadmydata\n",
            "Installing collected packages: loadmydata\n",
            "Successfully installed loadmydata-0.0.11\n",
            "Collecting tsfel\n",
            "  Downloading tsfel-0.1.6-py3-none-any.whl (42 kB)\n",
            "\u001b[2K     \u001b[90m━━━━━━━━━━━━━━━━━━━━━━━━━━━━━━━━━━━━━━━━\u001b[0m \u001b[32m42.7/42.7 kB\u001b[0m \u001b[31m1.2 MB/s\u001b[0m eta \u001b[36m0:00:00\u001b[0m\n",
            "\u001b[?25hRequirement already satisfied: ipython>=7.4.0 in /usr/local/lib/python3.10/dist-packages (from tsfel) (7.34.0)\n",
            "Requirement already satisfied: numpy>=1.18.5 in /usr/local/lib/python3.10/dist-packages (from tsfel) (1.23.5)\n",
            "Requirement already satisfied: pandas>=1.5.3 in /usr/local/lib/python3.10/dist-packages (from tsfel) (1.5.3)\n",
            "Requirement already satisfied: scipy>=1.7.3 in /usr/local/lib/python3.10/dist-packages (from tsfel) (1.11.4)\n",
            "Requirement already satisfied: setuptools>=47.1.1 in /usr/local/lib/python3.10/dist-packages (from tsfel) (67.7.2)\n",
            "Collecting jedi>=0.16 (from ipython>=7.4.0->tsfel)\n",
            "  Downloading jedi-0.19.1-py2.py3-none-any.whl (1.6 MB)\n",
            "\u001b[2K     \u001b[90m━━━━━━━━━━━━━━━━━━━━━━━━━━━━━━━━━━━━━━━━\u001b[0m \u001b[32m1.6/1.6 MB\u001b[0m \u001b[31m21.4 MB/s\u001b[0m eta \u001b[36m0:00:00\u001b[0m\n",
            "\u001b[?25hRequirement already satisfied: decorator in /usr/local/lib/python3.10/dist-packages (from ipython>=7.4.0->tsfel) (4.4.2)\n",
            "Requirement already satisfied: pickleshare in /usr/local/lib/python3.10/dist-packages (from ipython>=7.4.0->tsfel) (0.7.5)\n",
            "Requirement already satisfied: traitlets>=4.2 in /usr/local/lib/python3.10/dist-packages (from ipython>=7.4.0->tsfel) (5.7.1)\n",
            "Requirement already satisfied: prompt-toolkit!=3.0.0,!=3.0.1,<3.1.0,>=2.0.0 in /usr/local/lib/python3.10/dist-packages (from ipython>=7.4.0->tsfel) (3.0.43)\n",
            "Requirement already satisfied: pygments in /usr/local/lib/python3.10/dist-packages (from ipython>=7.4.0->tsfel) (2.16.1)\n",
            "Requirement already satisfied: backcall in /usr/local/lib/python3.10/dist-packages (from ipython>=7.4.0->tsfel) (0.2.0)\n",
            "Requirement already satisfied: matplotlib-inline in /usr/local/lib/python3.10/dist-packages (from ipython>=7.4.0->tsfel) (0.1.6)\n",
            "Requirement already satisfied: pexpect>4.3 in /usr/local/lib/python3.10/dist-packages (from ipython>=7.4.0->tsfel) (4.9.0)\n",
            "Requirement already satisfied: python-dateutil>=2.8.1 in /usr/local/lib/python3.10/dist-packages (from pandas>=1.5.3->tsfel) (2.8.2)\n",
            "Requirement already satisfied: pytz>=2020.1 in /usr/local/lib/python3.10/dist-packages (from pandas>=1.5.3->tsfel) (2023.3.post1)\n",
            "Requirement already satisfied: parso<0.9.0,>=0.8.3 in /usr/local/lib/python3.10/dist-packages (from jedi>=0.16->ipython>=7.4.0->tsfel) (0.8.3)\n",
            "Requirement already satisfied: ptyprocess>=0.5 in /usr/local/lib/python3.10/dist-packages (from pexpect>4.3->ipython>=7.4.0->tsfel) (0.7.0)\n",
            "Requirement already satisfied: wcwidth in /usr/local/lib/python3.10/dist-packages (from prompt-toolkit!=3.0.0,!=3.0.1,<3.1.0,>=2.0.0->ipython>=7.4.0->tsfel) (0.2.12)\n",
            "Requirement already satisfied: six>=1.5 in /usr/local/lib/python3.10/dist-packages (from python-dateutil>=2.8.1->pandas>=1.5.3->tsfel) (1.16.0)\n",
            "Installing collected packages: jedi, tsfel\n",
            "Successfully installed jedi-0.19.1 tsfel-0.1.6\n"
          ]
        }
      ],
      "source": [
        "!pip install dtw-python\n",
        "!pip install loadmydata\n",
        "!pip install tsfel"
      ]
    },
    {
      "cell_type": "markdown",
      "id": "77573173-e7b9-46b4-ae78-a0f9b0d87351",
      "metadata": {
        "id": "77573173-e7b9-46b4-ae78-a0f9b0d87351"
      },
      "source": [
        "## <b> 1.2 : Import the library </b>"
      ]
    },
    {
      "cell_type": "code",
      "execution_count": 4,
      "id": "263236fe-6d00-45aa-80f1-e36765758e9a",
      "metadata": {
        "id": "263236fe-6d00-45aa-80f1-e36765758e9a",
        "colab": {
          "base_uri": "https://localhost:8080/"
        },
        "outputId": "b8115ac7-9e36-4816-d648-db173d045076"
      },
      "outputs": [
        {
          "output_type": "stream",
          "name": "stdout",
          "text": [
            "Importing the dtw module. When using in academic works please cite:\n",
            "  T. Giorgino. Computing and Visualizing Dynamic Time Warping Alignments in R: The dtw Package.\n",
            "  J. Stat. Soft., doi:10.18637/jss.v031.i07.\n",
            "\n"
          ]
        }
      ],
      "source": [
        "import numpy as np\n",
        "import matplotlib.pyplot as plt\n",
        "import tsfel\n",
        "from sklearn.decomposition import PCA\n",
        "from dtw import dtw\n",
        "import pandas as pd\n",
        "from sklearn import preprocessing\n",
        "from sklearn.feature_selection import VarianceThreshold\n",
        "from sklearn.ensemble import RandomForestClassifier\n",
        "from sklearn.metrics import confusion_matrix, accuracy_score\n",
        "from sklearn.neighbors import KNeighborsClassifier\n",
        "from loadmydata.load_human_locomotion import (\n",
        "    load_human_locomotion_dataset,\n",
        "    get_code_list,\n",
        ")"
      ]
    },
    {
      "cell_type": "markdown",
      "id": "02ce9a17-6c03-4343-b2d4-c5dc94eac178",
      "metadata": {
        "id": "02ce9a17-6c03-4343-b2d4-c5dc94eac178"
      },
      "source": [
        "----\n",
        "## <b> 1.3 : Utility functions</b>"
      ]
    },
    {
      "cell_type": "code",
      "execution_count": 5,
      "id": "53469a53-92a0-403d-9bb4-544cd0e7a1db",
      "metadata": {
        "id": "53469a53-92a0-403d-9bb4-544cd0e7a1db"
      },
      "outputs": [],
      "source": [
        "def fig_ax(figsize=(15, 5)):\n",
        "    fig, ax = plt.subplots(figsize=figsize)\n",
        "    ax.autoscale(enable=True, axis='x', tight=True)\n",
        "    return fig, ax"
      ]
    },
    {
      "cell_type": "markdown",
      "id": "caf9a94c-244a-470b-b9d6-ce9be480abfa",
      "metadata": {
        "id": "caf9a94c-244a-470b-b9d6-ce9be480abfa",
        "tags": []
      },
      "source": [
        "----\n",
        "----\n",
        "# <b> 2 : Dynamic time warping (DTW)</b>"
      ]
    },
    {
      "cell_type": "markdown",
      "id": "a1dd4390-73c6-47f5-9ddd-2a01bf43d4ec",
      "metadata": {
        "id": "a1dd4390-73c6-47f5-9ddd-2a01bf43d4ec",
        "tags": []
      },
      "source": [
        "## <b> 2.1 : Data</b>\n",
        "\n",
        "This data set consists of signals collected with inertial measurement units (accelerometer+gyroscope), from 230 subjects undergoing a fixed protocol:\n",
        "- standing still,\n",
        "- walking 10 m,\n",
        "- turning around,\n",
        "- walking back,\n",
        "- stopping.\n",
        "\n",
        "In this assignment, we only consider the vertical acceleration of the left foot and all signals are truncated to 20 seconds (as a result, they all have same length).\n",
        "\n",
        "Signals are sampled at <b>100 Hz</b>.\n",
        "\n",
        "The measured population is composed of healthy subjects as well as patients with neurological or orthopedic disorders.\n",
        "\n",
        "The start and end time stamps of thousands of footsteps are available.\n",
        "\n",
        "The data are part of a larger data set described in [1].\n",
        "\n",
        "[1] Truong, C., Barrois-Müller, R., Moreau, T., Provost, C., Vienne-Jumeau, A., Moreau, A., Vidal, P.-P., Vayatis, N., Buffat, S., Yelnik, A., Ricard, D., & Oudre, L. (2019). A data set for the study of human locomotion with inertial measurements units. Image Processing On Line (IPOL), 9."
      ]
    },
    {
      "cell_type": "markdown",
      "id": "0870017f-15e9-45b6-ae13-905810b89f9f",
      "metadata": {
        "id": "0870017f-15e9-45b6-ae13-905810b89f9f"
      },
      "source": [
        "**The task** is to classify footsteps in healthy/non-healthy."
      ]
    },
    {
      "cell_type": "markdown",
      "id": "b2feb6bf-cced-46a7-b6bf-9c04c2cfbeb0",
      "metadata": {
        "id": "b2feb6bf-cced-46a7-b6bf-9c04c2cfbeb0",
        "tags": []
      },
      "source": [
        "The following cell defines the training set `(X_train, y_train)` and testing set `(X_test, y_test)`."
      ]
    },
    {
      "cell_type": "markdown",
      "source": [
        "----\n",
        "## <b> 2.2 : Train and Test Datasets </b>"
      ],
      "metadata": {
        "id": "XjRTxlA-shT5"
      },
      "id": "XjRTxlA-shT5"
    },
    {
      "cell_type": "code",
      "execution_count": 18,
      "id": "0255e82c-dd54-4e9e-bea8-50284f2588d2",
      "metadata": {
        "id": "0255e82c-dd54-4e9e-bea8-50284f2588d2"
      },
      "outputs": [],
      "source": [
        "subset_indexes_train = [95, 619, 441, 149, 951, 803, 214, 34, 37, 630]\n",
        "subset_indexes_test = [683, 259, 59, 387, 634]\n",
        "\n",
        "code_list = get_code_list()\n",
        "\n",
        "X_train_raw = list()  # list of footstep signals\n",
        "y_train_raw = list()  # list of pathologies (the \"labels\")\n",
        "\n",
        "for code in np.take(code_list, subset_indexes_train):\n",
        "    single_trial = load_human_locomotion_dataset(code)\n",
        "    signal = single_trial.signal.LAZ.to_numpy()  # keeping only one dimension (from the left sensor)\n",
        "    steps = single_trial.left_steps\n",
        "    pathology = single_trial.metadata[\"PathologyGroup\"]\n",
        "    label = 0 if pathology==\"Healthy\" else 1  # 0: healthy, 1: non-healthy\n",
        "    for (start, end) in steps:\n",
        "        X_train_raw.append(signal[start:end])\n",
        "        y_train_raw.append(label)\n",
        "\n",
        "\n",
        "X_test_raw = list()  # list of footstep signals\n",
        "y_test_raw = list()  # list of pathologies (the \"labels\")\n",
        "\n",
        "for code in np.take(code_list, subset_indexes_test):\n",
        "    single_trial = load_human_locomotion_dataset(code)\n",
        "    signal = single_trial.signal.LAZ.to_numpy()  # keeping only one dimension (from the left sensor)\n",
        "    steps = single_trial.left_steps\n",
        "    pathology = single_trial.metadata[\"PathologyGroup\"]\n",
        "    label = 0 if pathology==\"Healthy\" else 1  # 0: healthy, 1: non-healthy\n",
        "    for (start, end) in steps:\n",
        "        X_test_raw.append(signal[start:end])\n",
        "        y_test_raw.append(label)"
      ]
    },
    {
      "cell_type": "code",
      "source": [
        "from sklearn.model_selection import train_test_split\n",
        "from sklearn.utils import shuffle\n",
        "\n",
        "X = np.concatenate((X_train_raw, X_test_raw), axis=0)\n",
        "y = np.concatenate((y_train_raw, y_test_raw), axis=0)\n",
        "\n",
        "X_train, X_test, y_train, y_test = train_test_split(X, y, test_size=0.2, random_state=42)\n",
        "X_train, X_test, y_train, y_test = X_train.tolist(), X_test.tolist(), y_train.tolist(), y_test.tolist()"
      ],
      "metadata": {
        "colab": {
          "base_uri": "https://localhost:8080/"
        },
        "id": "qWEc_3GkCEe7",
        "outputId": "086874ce-b4fd-415b-847b-d1b03b5b5d68"
      },
      "id": "qWEc_3GkCEe7",
      "execution_count": 42,
      "outputs": [
        {
          "output_type": "stream",
          "name": "stderr",
          "text": [
            "<__array_function__ internals>:180: VisibleDeprecationWarning: Creating an ndarray from ragged nested sequences (which is a list-or-tuple of lists-or-tuples-or ndarrays with different lengths or shapes) is deprecated. If you meant to do this, you must specify 'dtype=object' when creating the ndarray.\n"
          ]
        }
      ]
    },
    {
      "cell_type": "code",
      "execution_count": 43,
      "id": "MfRGaUxOHdwu",
      "metadata": {
        "id": "MfRGaUxOHdwu"
      },
      "outputs": [],
      "source": [
        "# data normalization\n",
        "for index in range(len(X_train)):\n",
        "    x = np.array(X_train[index])\n",
        "    mean = sum(x) / len(x)\n",
        "    standard_deviation = np.sqrt( sum( (x - mean)**2 ) / len(x))\n",
        "    X_train[index] = (x - mean) / standard_deviation\n",
        "for index in range(len(X_test)):\n",
        "    x = np.array(X_test[index])\n",
        "    mean = sum(x) / len(x)\n",
        "    standard_deviation = np.sqrt( sum( (x - mean)**2 ) / len(x))\n",
        "    X_test[index] = (x - mean) / standard_deviation"
      ]
    },
    {
      "cell_type": "markdown",
      "source": [
        "----\n",
        "## <b> 2.3 : DTW KNN"
      ],
      "metadata": {
        "id": "vi0hyPcctmF4"
      },
      "id": "vi0hyPcctmF4"
    },
    {
      "cell_type": "code",
      "execution_count": 44,
      "id": "OH55OEC9y0b2",
      "metadata": {
        "colab": {
          "base_uri": "https://localhost:8080/"
        },
        "id": "OH55OEC9y0b2",
        "outputId": "d8c5ed6e-5779-4a80-921f-74853f230a2b"
      },
      "outputs": [
        {
          "output_type": "stream",
          "name": "stdout",
          "text": [
            "score for KNeighborsClassifier with\n",
            "\t1 neighbors: 0.8076923076923077\n",
            "\t3 neighbors: 0.7884615384615384\n",
            "\t5 neighbors: 0.8269230769230769\n",
            "\t7 neighbors: 0.7884615384615384\n",
            "\t9 neighbors: 0.7884615384615384\n",
            "Optimal number of neighbor(s): 5\n",
            "Associated F-score: 0.8269230769230769\n"
          ]
        }
      ],
      "source": [
        "k_values = [1, 3, 5, 7, 9]\n",
        "best_score, best_k = 0,0\n",
        "\n",
        "X_train_matrix = np.zeros((len(X_train),len(X_train)))\n",
        "for i in range(len(X_train)):\n",
        "    for j in range(len(X_train)):\n",
        "        X_train_matrix[i,j] = dtw(X_train[i], X_train[j]).distance\n",
        "\n",
        "X_test_matrix = np.zeros((len(X_test),len(X_train)))\n",
        "for i in range(len(X_test)):\n",
        "    for j in range(len(X_train)):\n",
        "        X_test_matrix[i,j] = dtw(X_test[i], X_train[j]).distance\n",
        "\n",
        "print(\"score for KNeighborsClassifier with\")\n",
        "\n",
        "for k in k_values:\n",
        "    knn = KNeighborsClassifier(n_neighbors=k, metric=\"precomputed\")\n",
        "    knn.fit(X_train_matrix, y_train)\n",
        "    score = knn.score(X_test_matrix, y_test).mean()\n",
        "    print(f\"\\t{k} neighbors: {score}\")\n",
        "    if score > best_score:\n",
        "        best_score=score\n",
        "        best_k = k\n",
        "        best_knn = knn\n",
        "\n",
        "print(f\"Optimal number of neighbor(s): {best_k}\")\n",
        "print(f\"Associated F-score: {best_score}\")\n",
        "accuracy_dtw = best_score"
      ]
    },
    {
      "cell_type": "markdown",
      "source": [
        "----\n",
        "## <b> 2.4 : Plot Healthy vs Non Healthy Patient </b>"
      ],
      "metadata": {
        "id": "myadijaIt-jA"
      },
      "id": "myadijaIt-jA"
    },
    {
      "cell_type": "code",
      "execution_count": null,
      "id": "Pbi_HVTe32PI",
      "metadata": {
        "id": "Pbi_HVTe32PI"
      },
      "outputs": [],
      "source": [
        "y_pred = best_knn.predict(X_test_matrix)\n",
        "\n",
        "bad_healthy_pred = next((i for i, (pred, true) in enumerate(zip(y_pred, y_test)) if pred != true and true == 0), None) # first bad prediction for an healthy patient\n",
        "bad_non_healthy_pred = next((i for i, (pred, true) in enumerate(zip(y_pred, y_test)) if pred != true and true == 1), None) # first bad prediction for a non-healthy patient\n",
        "\n",
        "\n",
        "plt.plot(X_test[bad_healthy_pred])\n",
        "plt.savefig('figuresQ11_badly_classified_healthy_patient.png')\n",
        "plt.clf()\n",
        "plt.plot(X_test[bad_non_healthy_pred])\n",
        "plt.savefig('figuresQ11_badly_classified_non_healthy_patient.png')\n",
        "plt.clf()\n",
        "fig, (ax1, ax2) = plt.subplots(1, 2, figsize=(10, 5))\n",
        "ax1.plot(X_test[bad_healthy_pred])\n",
        "ax1.set_title('badly_classified_healthy_patient.png')\n",
        "ax2.plot(X_test[bad_non_healthy_pred])\n",
        "ax2.set_title('badly classified non-healthy patient')\n",
        "plt.show()"
      ]
    },
    {
      "cell_type": "markdown",
      "id": "anPoA_f03ZtG",
      "metadata": {
        "id": "anPoA_f03ZtG"
      },
      "source": [
        "----\n",
        "----\n",
        "# <b> 3 : TSFEL </b>"
      ]
    },
    {
      "cell_type": "markdown",
      "source": [
        "## <b> 3.1 : Feature Extraction </b>"
      ],
      "metadata": {
        "id": "fEv4VlgHun3J"
      },
      "id": "fEv4VlgHun3J"
    },
    {
      "cell_type": "code",
      "source": [
        "cfg_file = tsfel.get_features_by_domain()\n",
        "\n",
        "X_train_generic = tsfel.time_series_features_extractor(cfg_file, X_train)\n",
        "X_test_generic = tsfel.time_series_features_extractor(cfg_file, X_test)"
      ],
      "metadata": {
        "colab": {
          "base_uri": "https://localhost:8080/",
          "height": 296
        },
        "id": "r3caWzOblcCH",
        "outputId": "e9f17442-c990-4488-a5b3-90581efc567c"
      },
      "id": "r3caWzOblcCH",
      "execution_count": 46,
      "outputs": [
        {
          "output_type": "stream",
          "name": "stdout",
          "text": [
            "*** Feature extraction started ***\n"
          ]
        },
        {
          "output_type": "stream",
          "name": "stderr",
          "text": [
            "<ipython-input-46-20b09bffb934>:3: UserWarning: Using default sampling frequency set in configuration file.\n",
            "  X_train_generic = tsfel.time_series_features_extractor(cfg_file, X_train)\n"
          ]
        },
        {
          "output_type": "display_data",
          "data": {
            "text/plain": [
              "<IPython.core.display.HTML object>"
            ],
            "text/html": [
              "\n",
              "              <p>\n",
              "                  Progress: 100% Complete\n",
              "              <p/>\n",
              "              <progress\n",
              "                  value='204'\n",
              "                  max='204',\n",
              "                  style='width: 25%',\n",
              "              >\n",
              "                  204\n",
              "              </progress>\n",
              "\n",
              "    "
            ]
          },
          "metadata": {}
        },
        {
          "output_type": "stream",
          "name": "stdout",
          "text": [
            "\n",
            "*** Feature extraction finished ***\n",
            "*** Feature extraction started ***\n"
          ]
        },
        {
          "output_type": "stream",
          "name": "stderr",
          "text": [
            "<ipython-input-46-20b09bffb934>:4: UserWarning: Using default sampling frequency set in configuration file.\n",
            "  X_test_generic = tsfel.time_series_features_extractor(cfg_file, X_test)\n"
          ]
        },
        {
          "output_type": "display_data",
          "data": {
            "text/plain": [
              "<IPython.core.display.HTML object>"
            ],
            "text/html": [
              "\n",
              "              <p>\n",
              "                  Progress: 100% Complete\n",
              "              <p/>\n",
              "              <progress\n",
              "                  value='52'\n",
              "                  max='52',\n",
              "                  style='width: 25%',\n",
              "              >\n",
              "                  52\n",
              "              </progress>\n",
              "\n",
              "    "
            ]
          },
          "metadata": {}
        },
        {
          "output_type": "stream",
          "name": "stdout",
          "text": [
            "\n",
            "*** Feature extraction finished ***\n"
          ]
        }
      ]
    },
    {
      "cell_type": "code",
      "source": [
        "new_features = [new_feature for new_feature in X_test_generic.columns if new_feature not in X_train_generic.columns]\n",
        "X_test_generic.drop(new_features, axis=1, inplace=True)"
      ],
      "metadata": {
        "id": "u9L5psYjl2tG"
      },
      "id": "u9L5psYjl2tG",
      "execution_count": 47,
      "outputs": []
    },
    {
      "cell_type": "code",
      "source": [
        "# we will keep only columns in common between train and test dataset (this is because the time series are of different lengths)\n",
        "common_columns = X_train_generic.columns.intersection(X_test_generic.columns)\n",
        "\n",
        "X_train_generic = X_train_generic[common_columns]\n",
        "X_test_generic = X_test_generic[common_columns]"
      ],
      "metadata": {
        "id": "dp34buFnGPxj"
      },
      "id": "dp34buFnGPxj",
      "execution_count": 54,
      "outputs": []
    },
    {
      "cell_type": "code",
      "execution_count": 55,
      "id": "maJASRop4tHo",
      "metadata": {
        "id": "maJASRop4tHo",
        "colab": {
          "base_uri": "https://localhost:8080/"
        },
        "outputId": "42b0d656-42b9-4b8d-bcba-ac6f09a82cea"
      },
      "outputs": [
        {
          "output_type": "stream",
          "name": "stderr",
          "text": [
            "<ipython-input-55-658d24295f10>:3: SettingWithCopyWarning: \n",
            "A value is trying to be set on a copy of a slice from a DataFrame\n",
            "\n",
            "See the caveats in the documentation: https://pandas.pydata.org/pandas-docs/stable/user_guide/indexing.html#returning-a-view-versus-a-copy\n",
            "  X_train_generic.drop(corr_features, axis=1, inplace=True)\n"
          ]
        }
      ],
      "source": [
        "# Highly correlated features are removed\n",
        "corr_features = tsfel.correlated_features(X_train_generic)\n",
        "X_train_generic.drop(corr_features, axis=1, inplace=True)\n",
        "X_test_generic.drop(corr_features, axis=1, inplace=True)\n",
        "\n",
        "# Remove low variance features\n",
        "selector = VarianceThreshold()\n",
        "nX_train_generic = selector.fit_transform(X_train_generic)\n",
        "nX_test_generic = selector.transform(X_test_generic)\n",
        "\n",
        "# Normalising Features\n",
        "scaler = preprocessing.StandardScaler()\n",
        "nX_train_generic = scaler.fit_transform(nX_train_generic)\n",
        "nX_test_generic = scaler.transform(nX_test_generic)\n",
        "\n",
        "# drop features with Nan\n",
        "nan_features = np.argwhere(np.isnan(nX_test_generic))\n",
        "nan_features = np.unique(nan_features[:,1])\n",
        "\n",
        "# remove features with NaN values\n",
        "nX_train_generic = np.delete(nX_train_generic, nan_features, axis=1)\n",
        "nX_test_generic = np.delete(nX_test_generic, nan_features, axis=1)\n",
        "\n",
        "nan_features = np.argwhere(np.isnan(nX_train_generic))\n",
        "nan_features = np.unique(nan_features[:,1])\n",
        "\n",
        "# remove features with NaN values\n",
        "nX_train_generic = np.delete(nX_train_generic, nan_features, axis=1)\n",
        "nX_test_generic = np.delete(nX_test_generic, nan_features, axis=1)"
      ]
    },
    {
      "cell_type": "markdown",
      "source": [
        "----\n",
        "## <b> 3.2 : PCA+kNN </b>"
      ],
      "metadata": {
        "id": "KkhcM_p4xIeu"
      },
      "id": "KkhcM_p4xIeu"
    },
    {
      "cell_type": "code",
      "source": [
        "import pandas as pd\n",
        "import numpy as np\n",
        "from sklearn.preprocessing import StandardScaler\n",
        "from sklearn.decomposition import PCA\n",
        "import matplotlib.pyplot as plt\n",
        "from sklearn.neighbors import KNeighborsClassifier\n",
        "from sklearn.metrics import accuracy_score\n",
        "\n",
        "# Choose the number of components (principal components) you want to retain\n",
        "n_components = 5  # You can adjust this value based on your visualization needs\n",
        "\n",
        "pca = PCA(n_components=n_components)\n",
        "X_train_pca = pca.fit_transform(nX_train_generic)\n",
        "X_test_pca = pca.transform(nX_test_generic)\n",
        "\n",
        "\n",
        "explained_variance_ratio = pca.explained_variance_ratio_\n",
        "print(f\"Explained Variance Ratio: {explained_variance_ratio}\")\n",
        "\n",
        "# Plot the explained variance for each component\n",
        "plt.figure(figsize=(8, 6))\n",
        "plt.bar(range(1, n_components + 1), explained_variance_ratio)\n",
        "plt.xlabel('Principal Component')\n",
        "plt.ylabel('Explained Variance Ratio')\n",
        "plt.title('Explained Variance Ratio for Each Principal Component')\n",
        "plt.show()\n"
      ],
      "metadata": {
        "colab": {
          "base_uri": "https://localhost:8080/",
          "height": 581
        },
        "id": "QYAbTTKflhup",
        "outputId": "ec62b510-adac-4554-b39e-a67e04688a47"
      },
      "id": "QYAbTTKflhup",
      "execution_count": 120,
      "outputs": [
        {
          "output_type": "stream",
          "name": "stdout",
          "text": [
            "Explained Variance Ratio: [0.29881517 0.21547914 0.08619176 0.06324873 0.04968022]\n"
          ]
        },
        {
          "output_type": "display_data",
          "data": {
            "text/plain": [
              "<Figure size 800x600 with 1 Axes>"
            ],
            "image/png": "[encoded data removed]"
          },
          "metadata": {}
        }
      ]
    },
    {
      "cell_type": "markdown",
      "source": [
        "Au vu de la répartition des variances, nous allons garder les 2 premieres composantes"
      ],
      "metadata": {
        "id": "WOJ68R28qcM0"
      },
      "id": "WOJ68R28qcM0"
    },
    {
      "cell_type": "code",
      "source": [
        "# Create a kNN classifier (you can choose an appropriate value for k)\n",
        "k = 5\n",
        "knn_classifier = KNeighborsClassifier(n_neighbors=k)\n",
        "\n",
        "# Train the kNN classifier using the PCA-transformed training data\n",
        "knn_classifier.fit(X_train_pca, y_train)  # Assuming you have target labels (y_train)\n",
        "\n",
        "# Make predictions on the PCA-transformed test data\n",
        "y_pred = knn_classifier.predict(X_test_pca)\n",
        "\n",
        "# Evaluate the classifier's performance\n",
        "accuracy_tsfel = accuracy_score(y_test, y_pred)\n",
        "print(f\"Accuracy of kNN classifier: {accuracy_tsfel}\")"
      ],
      "metadata": {
        "colab": {
          "base_uri": "https://localhost:8080/"
        },
        "id": "0T7dHSy0qhoM",
        "outputId": "69223757-082a-4cb3-9bb8-28b7c2365d7b"
      },
      "id": "0T7dHSy0qhoM",
      "execution_count": 121,
      "outputs": [
        {
          "output_type": "stream",
          "name": "stdout",
          "text": [
            "Accuracy of kNN classifier: 0.7115384615384616\n"
          ]
        }
      ]
    },
    {
      "cell_type": "markdown",
      "source": [
        "----\n",
        "----\n",
        "# <b> 4 : TSFRESH </b>"
      ],
      "metadata": {
        "id": "TndXpYFu1Af4"
      },
      "id": "TndXpYFu1Af4"
    },
    {
      "cell_type": "code",
      "source": [
        "!pip install tsfresh\n",
        "!pip install stumpy"
      ],
      "metadata": {
        "colab": {
          "base_uri": "https://localhost:8080/"
        },
        "id": "YHVpsMLs1HIl",
        "outputId": "0a67670d-39ad-4568-c3d2-c5884e799bfe"
      },
      "id": "YHVpsMLs1HIl",
      "execution_count": 58,
      "outputs": [
        {
          "output_type": "stream",
          "name": "stdout",
          "text": [
            "Collecting tsfresh\n",
            "  Downloading tsfresh-0.20.1-py2.py3-none-any.whl (95 kB)\n",
            "\u001b[?25l     \u001b[90m━━━━━━━━━━━━━━━━━━━━━━━━━━━━━━━━━━━━━━━━\u001b[0m \u001b[32m0.0/95.3 kB\u001b[0m \u001b[31m?\u001b[0m eta \u001b[36m-:--:--\u001b[0m\r\u001b[2K     \u001b[91m━━━━━━━━━━━━━━━━━━━━━━━━━\u001b[0m\u001b[91m╸\u001b[0m\u001b[90m━━━━━━━━━━━━━━\u001b[0m \u001b[32m61.4/95.3 kB\u001b[0m \u001b[31m1.8 MB/s\u001b[0m eta \u001b[36m0:00:01\u001b[0m\r\u001b[2K     \u001b[90m━━━━━━━━━━━━━━━━━━━━━━━━━━━━━━━━━━━━━━━━\u001b[0m \u001b[32m95.3/95.3 kB\u001b[0m \u001b[31m2.0 MB/s\u001b[0m eta \u001b[36m0:00:00\u001b[0m\n",
            "\u001b[?25hRequirement already satisfied: requests>=2.9.1 in /usr/local/lib/python3.10/dist-packages (from tsfresh) (2.31.0)\n",
            "Requirement already satisfied: numpy>=1.15.1 in /usr/local/lib/python3.10/dist-packages (from tsfresh) (1.23.5)\n",
            "Requirement already satisfied: pandas>=0.25.0 in /usr/local/lib/python3.10/dist-packages (from tsfresh) (1.5.3)\n",
            "Requirement already satisfied: scipy>=1.2.0 in /usr/local/lib/python3.10/dist-packages (from tsfresh) (1.11.4)\n",
            "Requirement already satisfied: statsmodels>=0.13 in /usr/local/lib/python3.10/dist-packages (from tsfresh) (0.14.0)\n",
            "Requirement already satisfied: patsy>=0.4.1 in /usr/local/lib/python3.10/dist-packages (from tsfresh) (0.5.4)\n",
            "Requirement already satisfied: scikit-learn>=0.22.0 in /usr/local/lib/python3.10/dist-packages (from tsfresh) (1.2.2)\n",
            "Requirement already satisfied: tqdm>=4.10.0 in /usr/local/lib/python3.10/dist-packages (from tsfresh) (4.66.1)\n",
            "Requirement already satisfied: dask[dataframe]>=2.9.0 in /usr/local/lib/python3.10/dist-packages (from tsfresh) (2023.8.1)\n",
            "Requirement already satisfied: distributed>=2.11.0 in /usr/local/lib/python3.10/dist-packages (from tsfresh) (2023.8.1)\n",
            "Collecting stumpy>=1.7.2 (from tsfresh)\n",
            "  Downloading stumpy-1.12.0-py3-none-any.whl (169 kB)\n",
            "\u001b[2K     \u001b[90m━━━━━━━━━━━━━━━━━━━━━━━━━━━━━━━━━━━━━━━━\u001b[0m \u001b[32m169.1/169.1 kB\u001b[0m \u001b[31m8.6 MB/s\u001b[0m eta \u001b[36m0:00:00\u001b[0m\n",
            "\u001b[?25hRequirement already satisfied: cloudpickle in /usr/local/lib/python3.10/dist-packages (from tsfresh) (2.2.1)\n",
            "Requirement already satisfied: click>=8.0 in /usr/local/lib/python3.10/dist-packages (from dask[dataframe]>=2.9.0->tsfresh) (8.1.7)\n",
            "Requirement already satisfied: fsspec>=2021.09.0 in /usr/local/lib/python3.10/dist-packages (from dask[dataframe]>=2.9.0->tsfresh) (2023.6.0)\n",
            "Requirement already satisfied: packaging>=20.0 in /usr/local/lib/python3.10/dist-packages (from dask[dataframe]>=2.9.0->tsfresh) (23.2)\n",
            "Requirement already satisfied: partd>=1.2.0 in /usr/local/lib/python3.10/dist-packages (from dask[dataframe]>=2.9.0->tsfresh) (1.4.1)\n",
            "Requirement already satisfied: pyyaml>=5.3.1 in /usr/local/lib/python3.10/dist-packages (from dask[dataframe]>=2.9.0->tsfresh) (6.0.1)\n",
            "Requirement already satisfied: toolz>=0.10.0 in /usr/local/lib/python3.10/dist-packages (from dask[dataframe]>=2.9.0->tsfresh) (0.12.0)\n",
            "Requirement already satisfied: importlib-metadata>=4.13.0 in /usr/local/lib/python3.10/dist-packages (from dask[dataframe]>=2.9.0->tsfresh) (7.0.0)\n",
            "Requirement already satisfied: jinja2>=2.10.3 in /usr/local/lib/python3.10/dist-packages (from distributed>=2.11.0->tsfresh) (3.1.2)\n",
            "Requirement already satisfied: locket>=1.0.0 in /usr/local/lib/python3.10/dist-packages (from distributed>=2.11.0->tsfresh) (1.0.0)\n",
            "Requirement already satisfied: msgpack>=1.0.0 in /usr/local/lib/python3.10/dist-packages (from distributed>=2.11.0->tsfresh) (1.0.7)\n",
            "Requirement already satisfied: psutil>=5.7.2 in /usr/local/lib/python3.10/dist-packages (from distributed>=2.11.0->tsfresh) (5.9.5)\n",
            "Requirement already satisfied: sortedcontainers>=2.0.5 in /usr/local/lib/python3.10/dist-packages (from distributed>=2.11.0->tsfresh) (2.4.0)\n",
            "Requirement already satisfied: tblib>=1.6.0 in /usr/local/lib/python3.10/dist-packages (from distributed>=2.11.0->tsfresh) (3.0.0)\n",
            "Requirement already satisfied: tornado>=6.0.4 in /usr/local/lib/python3.10/dist-packages (from distributed>=2.11.0->tsfresh) (6.3.2)\n",
            "Requirement already satisfied: urllib3>=1.24.3 in /usr/local/lib/python3.10/dist-packages (from distributed>=2.11.0->tsfresh) (2.0.7)\n",
            "Requirement already satisfied: zict>=2.2.0 in /usr/local/lib/python3.10/dist-packages (from distributed>=2.11.0->tsfresh) (3.0.0)\n",
            "Requirement already satisfied: python-dateutil>=2.8.1 in /usr/local/lib/python3.10/dist-packages (from pandas>=0.25.0->tsfresh) (2.8.2)\n",
            "Requirement already satisfied: pytz>=2020.1 in /usr/local/lib/python3.10/dist-packages (from pandas>=0.25.0->tsfresh) (2023.3.post1)\n",
            "Requirement already satisfied: six in /usr/local/lib/python3.10/dist-packages (from patsy>=0.4.1->tsfresh) (1.16.0)\n",
            "Requirement already satisfied: charset-normalizer<4,>=2 in /usr/local/lib/python3.10/dist-packages (from requests>=2.9.1->tsfresh) (3.3.2)\n",
            "Requirement already satisfied: idna<4,>=2.5 in /usr/local/lib/python3.10/dist-packages (from requests>=2.9.1->tsfresh) (3.6)\n",
            "Requirement already satisfied: certifi>=2017.4.17 in /usr/local/lib/python3.10/dist-packages (from requests>=2.9.1->tsfresh) (2023.11.17)\n",
            "Requirement already satisfied: joblib>=1.1.1 in /usr/local/lib/python3.10/dist-packages (from scikit-learn>=0.22.0->tsfresh) (1.3.2)\n",
            "Requirement already satisfied: threadpoolctl>=2.0.0 in /usr/local/lib/python3.10/dist-packages (from scikit-learn>=0.22.0->tsfresh) (3.2.0)\n",
            "Requirement already satisfied: numba>=0.55.2 in /usr/local/lib/python3.10/dist-packages (from stumpy>=1.7.2->tsfresh) (0.58.1)\n",
            "Requirement already satisfied: zipp>=0.5 in /usr/local/lib/python3.10/dist-packages (from importlib-metadata>=4.13.0->dask[dataframe]>=2.9.0->tsfresh) (3.17.0)\n",
            "Requirement already satisfied: MarkupSafe>=2.0 in /usr/local/lib/python3.10/dist-packages (from jinja2>=2.10.3->distributed>=2.11.0->tsfresh) (2.1.3)\n",
            "Requirement already satisfied: llvmlite<0.42,>=0.41.0dev0 in /usr/local/lib/python3.10/dist-packages (from numba>=0.55.2->stumpy>=1.7.2->tsfresh) (0.41.1)\n",
            "Installing collected packages: stumpy, tsfresh\n",
            "Successfully installed stumpy-1.12.0 tsfresh-0.20.1\n",
            "Requirement already satisfied: stumpy in /usr/local/lib/python3.10/dist-packages (1.12.0)\n",
            "Requirement already satisfied: numpy>=1.18 in /usr/local/lib/python3.10/dist-packages (from stumpy) (1.23.5)\n",
            "Requirement already satisfied: scipy>=1.5 in /usr/local/lib/python3.10/dist-packages (from stumpy) (1.11.4)\n",
            "Requirement already satisfied: numba>=0.55.2 in /usr/local/lib/python3.10/dist-packages (from stumpy) (0.58.1)\n",
            "Requirement already satisfied: llvmlite<0.42,>=0.41.0dev0 in /usr/local/lib/python3.10/dist-packages (from numba>=0.55.2->stumpy) (0.41.1)\n"
          ]
        }
      ]
    },
    {
      "cell_type": "markdown",
      "source": [
        "----\n",
        "## <b> 4.1 : Dataframe Creation </b>"
      ],
      "metadata": {
        "id": "dYlfREt9u1WO"
      },
      "id": "dYlfREt9u1WO"
    },
    {
      "cell_type": "code",
      "source": [
        "import tsfresh\n",
        "from tsfresh import extract_features\n",
        "from tsfresh.utilities.dataframe_functions import impute\n",
        "from tsfresh.feature_extraction import MinimalFCParameters,EfficientFCParameters,ComprehensiveFCParameters\n",
        "from tsfresh import select_features,extract_features,extract_relevant_features\n",
        "from tsfresh.utilities.dataframe_functions import impute\n",
        "\n",
        "# Initialize an empty list to store temporary DataFrames\n",
        "temp_dfs = []\n",
        "fs = 100\n",
        "\n",
        "# Iterate over the series in x_train_sig\n",
        "for i, series in enumerate(X_train):\n",
        "    # Create a temporary DataFrame for each series\n",
        "    temp = pd.DataFrame({\n",
        "        'value': series,\n",
        "        'time': [t * (1 / fs) for t in range(len(series))],  # Corrected line\n",
        "        'id': i\n",
        "    })\n",
        "    # Append the temporary DataFrame to the list\n",
        "    temp_dfs.append(temp)\n",
        "\n",
        "# Concatenate all the temporary DataFrames into one DataFrame\n",
        "df_train = pd.concat(temp_dfs, ignore_index=True)\n",
        "\n",
        "#######\n",
        "#######\n",
        "\n",
        "# Initialize an empty list to store temporary DataFrames\n",
        "temp_dfs = []\n",
        "\n",
        "# Iterate over the series in x_train_sig\n",
        "for i, series in enumerate(X_test):\n",
        "    # Create a temporary DataFrame for each series\n",
        "    temp = pd.DataFrame({\n",
        "        'value': series,\n",
        "        'time': [t * (1 / fs) for t in range(len(series))],  # Corrected line\n",
        "        'id': i\n",
        "    })\n",
        "    # Append the temporary DataFrame to the list\n",
        "    temp_dfs.append(temp)\n",
        "\n",
        "# Concatenate all the temporary DataFrames into one DataFrame\n",
        "df_test = pd.concat(temp_dfs, ignore_index=True)"
      ],
      "metadata": {
        "id": "5Ze5vBP21MCz"
      },
      "id": "5Ze5vBP21MCz",
      "execution_count": 81,
      "outputs": []
    },
    {
      "cell_type": "code",
      "source": [
        "print(df_train.shape)\n",
        "print(df_train.head)\n",
        "print(df_test.shape)\n",
        "print(df_test.head)"
      ],
      "metadata": {
        "colab": {
          "base_uri": "https://localhost:8080/"
        },
        "id": "OYHZdEVHvm2D",
        "outputId": "03968732-1317-4576-a6aa-e08d0029188f"
      },
      "id": "OYHZdEVHvm2D",
      "execution_count": 82,
      "outputs": [
        {
          "output_type": "stream",
          "name": "stdout",
          "text": [
            "(15615, 3)\n",
            "<bound method NDFrame.head of           value  time   id\n",
            "0      0.020636  0.00    0\n",
            "1      0.061881  0.01    0\n",
            "2      0.138682  0.02    0\n",
            "3      0.216052  0.03    0\n",
            "4      0.290862  0.04    0\n",
            "...         ...   ...  ...\n",
            "15610 -0.079436  0.61  203\n",
            "15611  0.260427  0.62  203\n",
            "15612  0.309128  0.63  203\n",
            "15613  0.140731  0.64  203\n",
            "15614 -0.050223  0.65  203\n",
            "\n",
            "[15615 rows x 3 columns]>\n",
            "(4003, 3)\n",
            "<bound method NDFrame.head of          value  time  id\n",
            "0     0.755145  0.00   0\n",
            "1     0.778895  0.01   0\n",
            "2     0.747229  0.02   0\n",
            "3     0.736344  0.03   0\n",
            "4     0.727438  0.04   0\n",
            "...        ...   ...  ..\n",
            "3998  1.717057  0.69  51\n",
            "3999 -0.403885  0.70  51\n",
            "4000  0.433153  0.71  51\n",
            "4001  0.196990  0.72  51\n",
            "4002  0.061554  0.73  51\n",
            "\n",
            "[4003 rows x 3 columns]>\n"
          ]
        }
      ]
    },
    {
      "cell_type": "markdown",
      "source": [
        "----\n",
        "## <b> 4.2 : Mini</b>"
      ],
      "metadata": {
        "id": "jzVpy11pv3Dg"
      },
      "id": "jzVpy11pv3Dg"
    },
    {
      "cell_type": "code",
      "source": [
        "from tsfresh.feature_extraction import MinimalFCParameters,EfficientFCParameters\n",
        "from tsfresh import select_features,extract_features,extract_relevant_features\n",
        "from tsfresh.utilities.dataframe_functions import impute\n",
        "# Use MinimalFCParameters\n",
        "extraction_settings = MinimalFCParameters()\n",
        "\n",
        "# Feature extraction with error handling and progress information\n",
        "try:\n",
        "    X_train_Tsfresh_Mini = extract_features(df_train, column_id='id', column_sort='time', column_value='value',\n",
        "                                    default_fc_parameters=extraction_settings,\n",
        "                                    impute_function=impute,\n",
        "                                    )\n",
        "\n",
        "    print(\"Feature set type:\", type(X_train_Tsfresh_Mini))\n",
        "    print(\"Number of features extracted:\", len(X_train_Tsfresh_Mini.columns))\n",
        "    print(\"Shape of the feature set:\", X_train_Tsfresh_Mini.shape)\n",
        "\n",
        "    # Optionally, save the feature set to a file\n",
        "    # fset_tsfresh.to_csv('feature_set.csv')\n",
        "\n",
        "except Exception as e:\n",
        "    print(f\"An error occurred during feature extraction: {e}\")\n",
        "\n",
        "# Feature extraction with error handling and progress information\n",
        "try:\n",
        "    X_test_Tsfresh_Mini = extract_features(df_test, column_id='id', column_sort='time', column_value='value',\n",
        "                                    default_fc_parameters=extraction_settings,\n",
        "                                    impute_function=impute,\n",
        "                                    )\n",
        "\n",
        "    print(\"Feature set type:\", type(X_test_Tsfresh_Mini))\n",
        "    print(\"Number of features extracted:\", len(X_test_Tsfresh_Mini.columns))\n",
        "    print(\"Shape of the feature set:\", X_test_Tsfresh_Mini.shape)\n",
        "\n",
        "    # Optionally, save the feature set to a file\n",
        "    # fset_tsfresh.to_csv('feature_set.csv')\n",
        "\n",
        "except Exception as e:\n",
        "    print(f\"An error occurred during feature extraction: {e}\")\n",
        "\n"
      ],
      "metadata": {
        "colab": {
          "base_uri": "https://localhost:8080/"
        },
        "id": "KoSnRwhtwI7s",
        "outputId": "1460a8ea-2664-4674-ef46-df61e3042764"
      },
      "id": "KoSnRwhtwI7s",
      "execution_count": 83,
      "outputs": [
        {
          "output_type": "stream",
          "name": "stderr",
          "text": [
            "WARNING:tsfresh.feature_extraction.settings:Dependency not available for matrix_profile, this feature will be disabled!\n",
            "Feature Extraction: 100%|██████████| 204/204 [00:00<00:00, 1037.27it/s]\n"
          ]
        },
        {
          "output_type": "stream",
          "name": "stdout",
          "text": [
            "Feature set type: <class 'pandas.core.frame.DataFrame'>\n",
            "Number of features extracted: 10\n",
            "Shape of the feature set: (204, 10)\n"
          ]
        },
        {
          "output_type": "stream",
          "name": "stderr",
          "text": [
            "Feature Extraction: 100%|██████████| 52/52 [00:00<00:00, 1120.86it/s]"
          ]
        },
        {
          "output_type": "stream",
          "name": "stdout",
          "text": [
            "Feature set type: <class 'pandas.core.frame.DataFrame'>\n",
            "Number of features extracted: 10\n",
            "Shape of the feature set: (52, 10)\n"
          ]
        },
        {
          "output_type": "stream",
          "name": "stderr",
          "text": [
            "\n"
          ]
        }
      ]
    },
    {
      "cell_type": "markdown",
      "source": [
        "----\n",
        "## <b> 4.3 : Efficient </b>"
      ],
      "metadata": {
        "id": "mnn_s8LmwNMy"
      },
      "id": "mnn_s8LmwNMy"
    },
    {
      "cell_type": "code",
      "source": [
        "from tsfresh.feature_extraction import MinimalFCParameters,EfficientFCParameters\n",
        "from tsfresh import select_features,extract_features,extract_relevant_features\n",
        "from tsfresh.utilities.dataframe_functions import impute\n",
        "# Use MinimalFCParameters\n",
        "extraction_settings = EfficientFCParameters()\n",
        "\n",
        "# Feature extraction with error handling and progress information\n",
        "try:\n",
        "    X_train_Tsfresh_Effi = extract_features(df_train, column_id='id', column_sort='time', column_value='value',\n",
        "                                    default_fc_parameters=extraction_settings,\n",
        "                                    impute_function=impute,\n",
        "                                    )\n",
        "\n",
        "    print(\"Feature set type:\", type(X_train_Tsfresh_Effi))\n",
        "    print(\"Number of features extracted:\", len(X_train_Tsfresh_Effi.columns))\n",
        "    print(\"Shape of the feature set:\", X_train_Tsfresh_Effi.shape)\n",
        "\n",
        "    # Optionally, save the feature set to a file\n",
        "    # fset_tsfresh.to_csv('feature_set.csv')\n",
        "\n",
        "except Exception as e:\n",
        "    print(f\"An error occurred during feature extraction: {e}\")\n",
        "\n",
        "# Feature extraction with error handling and progress information\n",
        "try:\n",
        "    X_test_Tsfresh_Effi = extract_features(df_test, column_id='id', column_sort='time', column_value='value',\n",
        "                                    default_fc_parameters=extraction_settings,\n",
        "                                    impute_function=impute,\n",
        "                                    )\n",
        "\n",
        "    print(\"Feature set type:\", type(X_test_Tsfresh_Effi))\n",
        "    print(\"Number of features extracted:\", len(X_test_Tsfresh_Effi.columns))\n",
        "    print(\"Shape of the feature set:\", X_test_Tsfresh_Effi.shape)\n",
        "\n",
        "    # Optionally, save the feature set to a file\n",
        "    # fset_tsfresh.to_csv('feature_set.csv')\n",
        "\n",
        "except Exception as e:\n",
        "    print(f\"An error occurred during feature extraction: {e}\")\n",
        "\n"
      ],
      "metadata": {
        "colab": {
          "base_uri": "https://localhost:8080/"
        },
        "id": "zcNwo872wL3B",
        "outputId": "8255bda1-d398-48c0-d312-5d6afc8bf09b"
      },
      "id": "zcNwo872wL3B",
      "execution_count": 84,
      "outputs": [
        {
          "output_type": "stream",
          "name": "stderr",
          "text": [
            "WARNING:tsfresh.feature_extraction.settings:Dependency not available for matrix_profile, this feature will be disabled!\n",
            "Feature Extraction: 100%|██████████| 204/204 [00:19<00:00, 10.60it/s]\n"
          ]
        },
        {
          "output_type": "stream",
          "name": "stdout",
          "text": [
            "Feature set type: <class 'pandas.core.frame.DataFrame'>\n",
            "Number of features extracted: 777\n",
            "Shape of the feature set: (204, 777)\n"
          ]
        },
        {
          "output_type": "stream",
          "name": "stderr",
          "text": [
            "Feature Extraction: 100%|██████████| 52/52 [00:11<00:00,  4.64it/s]\n"
          ]
        },
        {
          "output_type": "stream",
          "name": "stdout",
          "text": [
            "Feature set type: <class 'pandas.core.frame.DataFrame'>\n",
            "Number of features extracted: 777\n",
            "Shape of the feature set: (52, 777)\n"
          ]
        }
      ]
    },
    {
      "cell_type": "markdown",
      "source": [
        "----\n",
        "## <b> 4.4 : Comprehensive </b>"
      ],
      "metadata": {
        "id": "G0DGeGOowTxA"
      },
      "id": "G0DGeGOowTxA"
    },
    {
      "cell_type": "code",
      "source": [
        "from tsfresh.feature_extraction import MinimalFCParameters,EfficientFCParameters,ComprehensiveFCParameters\n",
        "from tsfresh import select_features,extract_features,extract_relevant_features\n",
        "from tsfresh.utilities.dataframe_functions import impute\n",
        "# Use MinimalFCParameters\n",
        "extraction_settings = ComprehensiveFCParameters()\n",
        "\n",
        "# Feature extraction with error handling and progress information\n",
        "try:\n",
        "    X_train_Tsfresh_Comprehensive = extract_features(df_train, column_id='id', column_sort='time', column_value='value',\n",
        "                                    default_fc_parameters=extraction_settings,\n",
        "                                    impute_function=impute,\n",
        "                                    )\n",
        "\n",
        "    print(\"Feature set type:\", type(X_train_Tsfresh_Comprehensive))\n",
        "    print(\"Number of features extracted:\", len(X_train_Tsfresh_Comprehensive.columns))\n",
        "    print(\"Shape of the feature set:\", X_train_Tsfresh_Comprehensive.shape)\n",
        "\n",
        "    # Optionally, save the feature set to a file\n",
        "    # fset_tsfresh.to_csv('feature_set.csv')\n",
        "\n",
        "except Exception as e:\n",
        "    print(f\"An error occurred during feature extraction: {e}\")\n",
        "\n",
        "# Feature extraction with error handling and progress information\n",
        "try:\n",
        "    X_test_Tsfresh_Comprehensive = extract_features(df_test, column_id='id', column_sort='time', column_value='value',\n",
        "                                    default_fc_parameters=extraction_settings,\n",
        "                                    impute_function=impute,\n",
        "                                    )\n",
        "\n",
        "    print(\"Feature set type:\", type(X_test_Tsfresh_Comprehensive))\n",
        "    print(\"Number of features extracted:\", len(X_test_Tsfresh_Comprehensive.columns))\n",
        "    print(\"Shape of the feature set:\", X_test_Tsfresh_Comprehensive.shape)\n",
        "\n",
        "    # Optionally, save the feature set to a file\n",
        "    # fset_tsfresh.to_csv('feature_set.csv')\n",
        "\n",
        "except Exception as e:\n",
        "    print(f\"An error occurred during feature extraction: {e}\")\n",
        "\n"
      ],
      "metadata": {
        "colab": {
          "base_uri": "https://localhost:8080/"
        },
        "id": "fBczQ6WEwjU-",
        "outputId": "f2e25b72-d716-4dcc-edb1-feb1ef5ebbdd"
      },
      "id": "fBczQ6WEwjU-",
      "execution_count": 85,
      "outputs": [
        {
          "output_type": "stream",
          "name": "stderr",
          "text": [
            "WARNING:tsfresh.feature_extraction.settings:Dependency not available for matrix_profile, this feature will be disabled!\n",
            "Feature Extraction: 100%|██████████| 204/204 [00:22<00:00,  9.21it/s]\n"
          ]
        },
        {
          "output_type": "stream",
          "name": "stdout",
          "text": [
            "Feature set type: <class 'pandas.core.frame.DataFrame'>\n",
            "Number of features extracted: 783\n",
            "Shape of the feature set: (204, 783)\n"
          ]
        },
        {
          "output_type": "stream",
          "name": "stderr",
          "text": [
            "Feature Extraction: 100%|██████████| 52/52 [00:04<00:00, 10.96it/s]\n"
          ]
        },
        {
          "output_type": "stream",
          "name": "stdout",
          "text": [
            "Feature set type: <class 'pandas.core.frame.DataFrame'>\n",
            "Number of features extracted: 783\n",
            "Shape of the feature set: (52, 783)\n"
          ]
        }
      ]
    },
    {
      "cell_type": "markdown",
      "source": [
        "----\n",
        "## <b> 4.5 : Postprocessing </b>"
      ],
      "metadata": {
        "id": "0CYhLbX4wcYD"
      },
      "id": "0CYhLbX4wcYD"
    },
    {
      "cell_type": "code",
      "source": [
        "# Remove low variance features\n",
        "selector = VarianceThreshold()\n",
        "X_train_Tsfresh_Mini = selector.fit_transform(X_train_Tsfresh_Mini)\n",
        "X_test_Tsfresh_Mini = selector.transform(X_test_Tsfresh_Mini)\n",
        "\n",
        "\n",
        "# Normalising Features\n",
        "scaler = preprocessing.StandardScaler()\n",
        "nX_train_Tsfresh_Mini = scaler.fit_transform(X_train_Tsfresh_Mini)\n",
        "print('TRAIN: ',nX_train_Tsfresh_Mini.shape)\n",
        "nX_test_Tsfresh_Mini = scaler.transform(X_test_Tsfresh_Mini)\n",
        "print('TEST: ',nX_test_Tsfresh_Mini.shape)"
      ],
      "metadata": {
        "colab": {
          "base_uri": "https://localhost:8080/"
        },
        "id": "hm_undmo1fNU",
        "outputId": "7d092947-4d3a-4faa-d628-d2cb05ec6850"
      },
      "id": "hm_undmo1fNU",
      "execution_count": 90,
      "outputs": [
        {
          "output_type": "stream",
          "name": "stdout",
          "text": [
            "TRAIN:  (204, 10)\n",
            "TEST:  (52, 10)\n"
          ]
        }
      ]
    },
    {
      "cell_type": "code",
      "source": [
        "# Remove low variance features\n",
        "selector = VarianceThreshold()\n",
        "X_train_Tsfresh_Effi = selector.fit_transform(X_train_Tsfresh_Effi)\n",
        "X_test_Tsfresh_Effi = selector.transform(X_test_Tsfresh_Effi)\n",
        "\n",
        "# Normalising Features\n",
        "scaler = preprocessing.StandardScaler()\n",
        "nX_train_Tsfresh_Effi = scaler.fit_transform(X_train_Tsfresh_Effi)\n",
        "print('TRAIN: ',nX_train_Tsfresh_Effi.shape)\n",
        "nX_test_Tsfresh_Effi = scaler.transform(X_test_Tsfresh_Effi)\n",
        "print('TEST: ',nX_test_Tsfresh_Effi.shape)\n"
      ],
      "metadata": {
        "colab": {
          "base_uri": "https://localhost:8080/"
        },
        "id": "fqmWgzBLxaXS",
        "outputId": "8a862e4b-2607-4dc1-9baa-7b8490e783c2"
      },
      "id": "fqmWgzBLxaXS",
      "execution_count": 94,
      "outputs": [
        {
          "output_type": "stream",
          "name": "stdout",
          "text": [
            "TRAIN:  (204, 567)\n",
            "TEST:  (52, 567)\n"
          ]
        }
      ]
    },
    {
      "cell_type": "code",
      "source": [
        "# Remove low variance features\n",
        "selector = VarianceThreshold()\n",
        "X_train_Tsfresh_Comprehensive = selector.fit_transform(X_train_Tsfresh_Comprehensive)\n",
        "X_test_Tsfresh_Comprehensive = selector.transform(X_test_Tsfresh_Comprehensive)\n",
        "\n",
        "# Normalising Features\n",
        "scaler = preprocessing.StandardScaler()\n",
        "nX_train_Tsfresh_Comprehensive = scaler.fit_transform(X_train_Tsfresh_Comprehensive)\n",
        "print('TRAIN: ',nX_train_Tsfresh_Comprehensive.shape)\n",
        "nX_test_Tsfresh_Comprehensive = scaler.transform(X_test_Tsfresh_Comprehensive)\n",
        "print('TEST: ',nX_test_Tsfresh_Comprehensive.shape)"
      ],
      "metadata": {
        "colab": {
          "base_uri": "https://localhost:8080/"
        },
        "id": "XLbVfLRdyorT",
        "outputId": "eea44638-eae6-4feb-d8ef-94def55b22b2"
      },
      "id": "XLbVfLRdyorT",
      "execution_count": 97,
      "outputs": [
        {
          "output_type": "stream",
          "name": "stdout",
          "text": [
            "TRAIN:  (204, 573)\n",
            "TEST:  (52, 573)\n"
          ]
        }
      ]
    },
    {
      "cell_type": "markdown",
      "source": [
        "----\n",
        "## <b> 4.6 : Classification </b>"
      ],
      "metadata": {
        "id": "qk57zofNyGU6"
      },
      "id": "qk57zofNyGU6"
    },
    {
      "cell_type": "code",
      "source": [
        "import pandas as pd\n",
        "import numpy as np\n",
        "from sklearn.preprocessing import StandardScaler\n",
        "from sklearn.decomposition import PCA\n",
        "import matplotlib.pyplot as plt\n",
        "from sklearn.neighbors import KNeighborsClassifier\n",
        "from sklearn.metrics import accuracy_score\n",
        "\n",
        "# Choose the number of components (principal components) you want to retain\n",
        "n_components = 5 # You can adjust this value based on your visualization needs\n",
        "\n",
        "pca = PCA(n_components=n_components)\n",
        "X_train_pca_Mini = pca.fit_transform(nX_train_Tsfresh_Mini)\n",
        "X_test_pca_Mini = pca.transform(nX_test_Tsfresh_Mini)\n",
        "\n",
        "explained_variance_ratio = pca.explained_variance_ratio_\n",
        "print(f\"Explained Variance Ratio: {explained_variance_ratio}\")\n",
        "\n",
        "# Plot the explained variance for each component\n",
        "plt.figure(figsize=(8, 6))\n",
        "plt.bar(range(1, n_components + 1), explained_variance_ratio)\n",
        "plt.xlabel('Principal Component')\n",
        "plt.ylabel('Explained Variance Ratio')\n",
        "plt.title('Explained Variance Ratio for Each Principal Component')\n",
        "plt.show()\n",
        "\n",
        "pca = PCA(n_components=n_components)\n",
        "X_train_pca_Effi = pca.fit_transform(nX_train_Tsfresh_Effi)\n",
        "X_test_pca_Effi = pca.transform(nX_test_Tsfresh_Effi)\n",
        "\n",
        "explained_variance_ratio = pca.explained_variance_ratio_\n",
        "print(f\"Explained Variance Ratio: {explained_variance_ratio}\")\n",
        "\n",
        "# Plot the explained variance for each component\n",
        "plt.figure(figsize=(8, 6))\n",
        "plt.bar(range(1, n_components + 1), explained_variance_ratio)\n",
        "plt.xlabel('Principal Component')\n",
        "plt.ylabel('Explained Variance Ratio')\n",
        "plt.title('Explained Variance Ratio for Each Principal Component')\n",
        "plt.show()\n",
        "\n",
        "pca = PCA(n_components=n_components)\n",
        "X_train_pca_Comprehensive = pca.fit_transform(nX_train_Tsfresh_Comprehensive)\n",
        "X_test_pca_Comprehensive = pca.transform(nX_test_Tsfresh_Comprehensive)\n",
        "\n",
        "explained_variance_ratio = pca.explained_variance_ratio_\n",
        "print(f\"Explained Variance Ratio: {explained_variance_ratio}\")\n",
        "\n",
        "# Plot the explained variance for each component\n",
        "plt.figure(figsize=(8, 6))\n",
        "plt.bar(range(1, n_components + 1), explained_variance_ratio)\n",
        "plt.xlabel('Principal Component')\n",
        "plt.ylabel('Explained Variance Ratio')\n",
        "plt.title('Explained Variance Ratio for Each Principal Component')\n",
        "plt.show()"
      ],
      "metadata": {
        "colab": {
          "base_uri": "https://localhost:8080/",
          "height": 1000
        },
        "id": "48iqhaK426SH",
        "outputId": "6ba91e4b-498f-4845-c1cd-72995f43fd1f"
      },
      "id": "48iqhaK426SH",
      "execution_count": 127,
      "outputs": [
        {
          "output_type": "stream",
          "name": "stdout",
          "text": [
            "Explained Variance Ratio: [0.34016073 0.23241823 0.22162883 0.11363448 0.07266308]\n"
          ]
        },
        {
          "output_type": "display_data",
          "data": {
            "text/plain": [
              "<Figure size 800x600 with 1 Axes>"
            ],
            "image/png": "[encoded data removed]"
          },
          "metadata": {}
        },
        {
          "output_type": "stream",
          "name": "stdout",
          "text": [
            "Explained Variance Ratio: [0.14910297 0.08253265 0.06289952 0.0503772  0.03810903]\n"
          ]
        },
        {
          "output_type": "display_data",
          "data": {
            "text/plain": [
              "<Figure size 800x600 with 1 Axes>"
            ],
            "image/png": "[encoded data removed]"
          },
          "metadata": {}
        },
        {
          "output_type": "stream",
          "name": "stdout",
          "text": [
            "Explained Variance Ratio: [0.15006033 0.08249446 0.06232153 0.04987812 0.03790513]\n"
          ]
        },
        {
          "output_type": "display_data",
          "data": {
            "text/plain": [
              "<Figure size 800x600 with 1 Axes>"
            ],
            "image/png": "[encoded data removed]"
          },
          "metadata": {}
        }
      ]
    },
    {
      "cell_type": "code",
      "source": [
        "# Create a kNN classifier (you can choose an appropriate value for k)\n",
        "k = 5\n",
        "knn_classifier = KNeighborsClassifier(n_neighbors=k)\n",
        "\n",
        "# Train the kNN classifier using the PCA-transformed training data\n",
        "knn_classifier.fit(X_train_pca_Mini, y_train)  # Assuming you have target labels (y_train)\n",
        "\n",
        "# Make predictions on the PCA-transformed test data\n",
        "y_pred = knn_classifier.predict(X_test_pca_Mini)\n",
        "\n",
        "# Evaluate the classifier's performance\n",
        "accuracy_tsfresh_mini = accuracy_score(y_test, y_pred)\n",
        "print(f\"Accuracy of kNN classifier: {accuracy_tsfresh_mini}\")\n",
        "\n",
        "# Create a kNN classifier (you can choose an appropriate value for k)\n",
        "k = 5\n",
        "knn_classifier = KNeighborsClassifier(n_neighbors=k)\n",
        "\n",
        "# Train the kNN classifier using the PCA-transformed training data\n",
        "knn_classifier.fit(X_train_pca_Effi, y_train)  # Assuming you have target labels (y_train)\n",
        "\n",
        "# Make predictions on the PCA-transformed test data\n",
        "y_pred = knn_classifier.predict(X_test_pca_Effi)\n",
        "\n",
        "# Evaluate the classifier's performance\n",
        "accuracy_tsfresh_efficient = accuracy_score(y_test, y_pred)\n",
        "print(f\"Accuracy of kNN classifier: {accuracy_tsfresh_efficient}\")\n",
        "\n",
        "# Create a kNN classifier (you can choose an appropriate value for k)\n",
        "k = 5\n",
        "knn_classifier = KNeighborsClassifier(n_neighbors=k)\n",
        "\n",
        "# Train the kNN classifier using the PCA-transformed training data\n",
        "knn_classifier.fit(X_train_pca_Comprehensive, y_train)  # Assuming you have target labels (y_train)\n",
        "\n",
        "# Make predictions on the PCA-transformed test data\n",
        "y_pred = knn_classifier.predict(X_test_pca_Comprehensive)\n",
        "\n",
        "# Evaluate the classifier's performance\n",
        "accuracy_tsfresh_comprehensive = accuracy_score(y_test, y_pred)\n",
        "print(f\"Accuracy of kNN classifier: {accuracy_tsfresh_comprehensive}\")"
      ],
      "metadata": {
        "colab": {
          "base_uri": "https://localhost:8080/"
        },
        "id": "X__gQFNr29BJ",
        "outputId": "386e4b3c-f01f-44c1-93c8-1d7d5a406850"
      },
      "id": "X__gQFNr29BJ",
      "execution_count": 128,
      "outputs": [
        {
          "output_type": "stream",
          "name": "stdout",
          "text": [
            "Accuracy of kNN classifier: 0.5961538461538461\n",
            "Accuracy of kNN classifier: 0.6538461538461539\n",
            "Accuracy of kNN classifier: 0.6538461538461539\n"
          ]
        }
      ]
    },
    {
      "cell_type": "markdown",
      "source": [
        "----\n",
        "----\n",
        "# <b> 5 : CESIUM </b>"
      ],
      "metadata": {
        "id": "nfUxhI5c0lsc"
      },
      "id": "nfUxhI5c0lsc"
    },
    {
      "cell_type": "code",
      "source": [
        "!pip install cesium"
      ],
      "metadata": {
        "colab": {
          "base_uri": "https://localhost:8080/"
        },
        "id": "B5NpdBfT1DvH",
        "outputId": "47b62c70-ffed-4d37-e6a6-5c851ae35b3b"
      },
      "id": "B5NpdBfT1DvH",
      "execution_count": 104,
      "outputs": [
        {
          "output_type": "stream",
          "name": "stdout",
          "text": [
            "Collecting cesium\n",
            "  Downloading cesium-0.12.1-cp310-cp310-manylinux_2_17_x86_64.manylinux2014_x86_64.whl (672 kB)\n",
            "\u001b[2K     \u001b[90m━━━━━━━━━━━━━━━━━━━━━━━━━━━━━━━━━━━━━━━━\u001b[0m \u001b[32m672.6/672.6 kB\u001b[0m \u001b[31m8.6 MB/s\u001b[0m eta \u001b[36m0:00:00\u001b[0m\n",
            "\u001b[?25hRequirement already satisfied: numpy>=1.14.3 in /usr/local/lib/python3.10/dist-packages (from cesium) (1.23.5)\n",
            "Requirement already satisfied: scipy>=0.16.0 in /usr/local/lib/python3.10/dist-packages (from cesium) (1.11.4)\n",
            "Requirement already satisfied: scikit-learn>=0.22.1 in /usr/local/lib/python3.10/dist-packages (from cesium) (1.2.2)\n",
            "Requirement already satisfied: pandas>=0.17.0 in /usr/local/lib/python3.10/dist-packages (from cesium) (1.5.3)\n",
            "Requirement already satisfied: dask>=2.5.0 in /usr/local/lib/python3.10/dist-packages (from cesium) (2023.8.1)\n",
            "Requirement already satisfied: toolz in /usr/local/lib/python3.10/dist-packages (from cesium) (0.12.0)\n",
            "Collecting gatspy>=0.3.0 (from cesium)\n",
            "  Downloading gatspy-0.3.tar.gz (554 kB)\n",
            "\u001b[2K     \u001b[90m━━━━━━━━━━━━━━━━━━━━━━━━━━━━━━━━━━━━━━━━\u001b[0m \u001b[32m554.5/554.5 kB\u001b[0m \u001b[31m43.5 MB/s\u001b[0m eta \u001b[36m0:00:00\u001b[0m\n",
            "\u001b[?25h  Preparing metadata (setup.py) ... \u001b[?25l\u001b[?25hdone\n",
            "Requirement already satisfied: cloudpickle in /usr/local/lib/python3.10/dist-packages (from cesium) (2.2.1)\n",
            "Requirement already satisfied: joblib>=0.14.1 in /usr/local/lib/python3.10/dist-packages (from cesium) (1.3.2)\n",
            "Collecting setuptools-scm>=7.1.0 (from cesium)\n",
            "  Using cached setuptools_scm-8.0.4-py3-none-any.whl (42 kB)\n",
            "Requirement already satisfied: click>=8.0 in /usr/local/lib/python3.10/dist-packages (from dask>=2.5.0->cesium) (8.1.7)\n",
            "Requirement already satisfied: fsspec>=2021.09.0 in /usr/local/lib/python3.10/dist-packages (from dask>=2.5.0->cesium) (2023.6.0)\n",
            "Requirement already satisfied: packaging>=20.0 in /usr/local/lib/python3.10/dist-packages (from dask>=2.5.0->cesium) (23.2)\n",
            "Requirement already satisfied: partd>=1.2.0 in /usr/local/lib/python3.10/dist-packages (from dask>=2.5.0->cesium) (1.4.1)\n",
            "Requirement already satisfied: pyyaml>=5.3.1 in /usr/local/lib/python3.10/dist-packages (from dask>=2.5.0->cesium) (6.0.1)\n",
            "Requirement already satisfied: importlib-metadata>=4.13.0 in /usr/local/lib/python3.10/dist-packages (from dask>=2.5.0->cesium) (7.0.0)\n",
            "Requirement already satisfied: python-dateutil>=2.8.1 in /usr/local/lib/python3.10/dist-packages (from pandas>=0.17.0->cesium) (2.8.2)\n",
            "Requirement already satisfied: pytz>=2020.1 in /usr/local/lib/python3.10/dist-packages (from pandas>=0.17.0->cesium) (2023.3.post1)\n",
            "Requirement already satisfied: threadpoolctl>=2.0.0 in /usr/local/lib/python3.10/dist-packages (from scikit-learn>=0.22.1->cesium) (3.2.0)\n",
            "Requirement already satisfied: setuptools in /usr/local/lib/python3.10/dist-packages (from setuptools-scm>=7.1.0->cesium) (67.7.2)\n",
            "Requirement already satisfied: typing-extensions in /usr/local/lib/python3.10/dist-packages (from setuptools-scm>=7.1.0->cesium) (4.5.0)\n",
            "Requirement already satisfied: tomli>=1 in /usr/local/lib/python3.10/dist-packages (from setuptools-scm>=7.1.0->cesium) (2.0.1)\n",
            "Requirement already satisfied: zipp>=0.5 in /usr/local/lib/python3.10/dist-packages (from importlib-metadata>=4.13.0->dask>=2.5.0->cesium) (3.17.0)\n",
            "Requirement already satisfied: locket in /usr/local/lib/python3.10/dist-packages (from partd>=1.2.0->dask>=2.5.0->cesium) (1.0.0)\n",
            "Requirement already satisfied: six>=1.5 in /usr/local/lib/python3.10/dist-packages (from python-dateutil>=2.8.1->pandas>=0.17.0->cesium) (1.16.0)\n",
            "Building wheels for collected packages: gatspy\n",
            "  Building wheel for gatspy (setup.py) ... \u001b[?25l\u001b[?25hdone\n",
            "  Created wheel for gatspy: filename=gatspy-0.3-py3-none-any.whl size=43804 sha256=3be6f4ea0977af20732df079a3d92820dce3325af58b86bb99e08a0e5e4b56ba\n",
            "  Stored in directory: /root/.cache/pip/wheels/13/39/c2/d113611d276bf55252ed5a640e98596d7dcc96535afbf254d5\n",
            "Successfully built gatspy\n",
            "Installing collected packages: gatspy, setuptools-scm, cesium\n",
            "Successfully installed cesium-0.12.1 gatspy-0.3 setuptools-scm-8.0.4\n"
          ]
        }
      ]
    },
    {
      "cell_type": "code",
      "source": [
        "from cesium import featurize\n",
        "\n",
        "features_to_use = [\n",
        "    \"amplitude\",\n",
        "    \"percent_beyond_1_std\",\n",
        "    \"maximum\",\n",
        "    \"max_slope\",\n",
        "    \"median\",\n",
        "    \"median_absolute_deviation\",\n",
        "    \"percent_close_to_median\",\n",
        "    \"minimum\",\n",
        "    \"skew\",\n",
        "    \"std\",\n",
        "    \"weighted_average\",\n",
        "]\n",
        "\n",
        "time_points = [np.arange(len(ts)) / fs for ts in X_train]\n",
        "\n",
        "X_train_Cesium = featurize.featurize_time_series(times=time_points,\n",
        "                                                  values=X_train,\n",
        "                                                  features_to_use=features_to_use)\n",
        "print(\"End of Training Features\")\n",
        "\n",
        "time_points = [np.arange(len(ts)) / fs for ts in X_test]\n",
        "\n",
        "X_test_Cesium = featurize.featurize_time_series(times = time_points,\n",
        "                                                       values=X_test,\n",
        "                                                       features_to_use=features_to_use)\n",
        "\n",
        "print(\"End of Test Features\")"
      ],
      "metadata": {
        "colab": {
          "base_uri": "https://localhost:8080/"
        },
        "id": "8MqLELRl0r2L",
        "outputId": "5fb81636-3022-4340-9d57-5f784d7f465b"
      },
      "id": "8MqLELRl0r2L",
      "execution_count": 105,
      "outputs": [
        {
          "output_type": "stream",
          "name": "stdout",
          "text": [
            "End of Training Features\n",
            "End of Test Features\n"
          ]
        }
      ]
    },
    {
      "cell_type": "code",
      "source": [
        "# Remove low variance features\n",
        "selector = VarianceThreshold()\n",
        "X_train_Cesium = selector.fit_transform(X_train_Cesium)\n",
        "X_test_Cesium = selector.transform(X_test_Cesium)\n",
        "\n",
        "# Normalising Features\n",
        "scaler = preprocessing.StandardScaler()\n",
        "nX_train_Cesium = scaler.fit_transform(X_train_Cesium)\n",
        "print(nX_train_Cesium.shape)\n",
        "nX_test_Cesium = scaler.transform(X_test_Cesium)\n",
        "print(nX_test_Cesium.shape)"
      ],
      "metadata": {
        "colab": {
          "base_uri": "https://localhost:8080/"
        },
        "id": "6oeY37tG1VtD",
        "outputId": "0ad19d44-8163-49c7-c366-658fc1e01914"
      },
      "id": "6oeY37tG1VtD",
      "execution_count": 106,
      "outputs": [
        {
          "output_type": "stream",
          "name": "stdout",
          "text": [
            "(204, 11)\n",
            "(52, 11)\n"
          ]
        }
      ]
    },
    {
      "cell_type": "code",
      "source": [
        "# Choose the number of components (principal components) you want to retain\n",
        "n_components = 5  # You can adjust this value based on your visualization needs\n",
        "\n",
        "pca = PCA(n_components=n_components)\n",
        "X_train_pca_Cesium = pca.fit_transform(nX_train_Cesium)\n",
        "X_test_pca_Cesium = pca.transform(nX_test_Cesium)\n",
        "\n",
        "explained_variance_ratio = pca.explained_variance_ratio_\n",
        "print(f\"Explained Variance Ratio: {explained_variance_ratio}\")\n",
        "\n",
        "# Plot the explained variance for each component\n",
        "plt.figure(figsize=(8, 6))\n",
        "plt.bar(range(1, n_components + 1), explained_variance_ratio)\n",
        "plt.xlabel('Principal Component')\n",
        "plt.ylabel('Explained Variance Ratio')\n",
        "plt.title('Explained Variance Ratio for Each Principal Component')\n",
        "plt.show()"
      ],
      "metadata": {
        "colab": {
          "base_uri": "https://localhost:8080/",
          "height": 581
        },
        "id": "pAuUeSuH1cMp",
        "outputId": "fe4efe80-c5fe-48e3-d21f-ffc4d549ff8c"
      },
      "id": "pAuUeSuH1cMp",
      "execution_count": 135,
      "outputs": [
        {
          "output_type": "stream",
          "name": "stdout",
          "text": [
            "Explained Variance Ratio: [0.38299018 0.29106683 0.10195746 0.09514739 0.05075116]\n"
          ]
        },
        {
          "output_type": "display_data",
          "data": {
            "text/plain": [
              "<Figure size 800x600 with 1 Axes>"
            ],
            "image/png": "[encoded data removed]"
          },
          "metadata": {}
        }
      ]
    },
    {
      "cell_type": "code",
      "source": [
        "# Create a kNN classifier (you can choose an appropriate value for k)\n",
        "k = 5\n",
        "knn_classifier = KNeighborsClassifier(n_neighbors=k)\n",
        "\n",
        "# Train the kNN classifier using the PCA-transformed training data\n",
        "knn_classifier.fit(X_train_pca_Cesium, y_train)  # Assuming you have target labels (y_train)\n",
        "\n",
        "# Make predictions on the PCA-transformed test data\n",
        "y_pred = knn_classifier.predict(X_test_pca_Cesium)\n",
        "\n",
        "# Evaluate the classifier's performance\n",
        "accuracy_cesium = accuracy_score(y_test, y_pred)\n",
        "print(f\"Accuracy of kNN classifier: {accuracy_cesium}\")"
      ],
      "metadata": {
        "colab": {
          "base_uri": "https://localhost:8080/"
        },
        "id": "ePkKa5rb1bqR",
        "outputId": "51cfcea0-24ca-4100-ee70-e9a6ea20c717"
      },
      "id": "ePkKa5rb1bqR",
      "execution_count": 136,
      "outputs": [
        {
          "output_type": "stream",
          "name": "stdout",
          "text": [
            "Accuracy of kNN classifier: 0.6346153846153846\n"
          ]
        }
      ]
    },
    {
      "cell_type": "code",
      "source": [
        "methods = ['DTW','TSFEL','CESIUM','TSFRESH MINI','TSFRESH EFFICIENT', 'TSFRESH COMPREHENSIVE']\n",
        "results = [accuracy_dtw,accuracy_tsfel,accuracy_cesium,accuracy_tsfresh_mini,accuracy_tsfresh_efficient,accuracy_tsfresh_comprehensive]\n",
        "\n",
        "# Create a DataFrame\n",
        "results_df = pd.DataFrame({\n",
        "    'Method': methods,\n",
        "    'Accuracy': results\n",
        "})\n",
        "\n",
        "# Display the DataFrame\n",
        "print(results_df)"
      ],
      "metadata": {
        "colab": {
          "base_uri": "https://localhost:8080/"
        },
        "id": "4njHBeVg1_nb",
        "outputId": "4417673d-97fa-4b1b-ed79-4b335bb6c9f2"
      },
      "id": "4njHBeVg1_nb",
      "execution_count": 137,
      "outputs": [
        {
          "output_type": "stream",
          "name": "stdout",
          "text": [
            "                  Method  Accuracy\n",
            "0                    DTW  0.826923\n",
            "1                  TSFEL  0.711538\n",
            "2                 CESIUM  0.634615\n",
            "3           TSFRESH MINI  0.596154\n",
            "4      TSFRESH EFFICIENT  0.653846\n",
            "5  TSFRESH COMPREHENSIVE  0.653846\n"
          ]
        }
      ]
    },
    {
      "cell_type": "markdown",
      "source": [
        "----\n",
        "----\n",
        "# <b> 6 : Random Forest</b>"
      ],
      "metadata": {
        "id": "WaeZkCIlxFbU"
      },
      "id": "WaeZkCIlxFbU"
    },
    {
      "cell_type": "code",
      "execution_count": 110,
      "id": "ev0CbhSS4fDi",
      "metadata": {
        "id": "ev0CbhSS4fDi",
        "colab": {
          "base_uri": "https://localhost:8080/"
        },
        "outputId": "fdf98bc0-4601-48b3-8e46-9bf04f0f6255"
      },
      "outputs": [
        {
          "output_type": "stream",
          "name": "stdout",
          "text": [
            "Accuracy: 82.6923076923077%\n"
          ]
        }
      ],
      "source": [
        "classifier = RandomForestClassifier()\n",
        "# Train the classifier\n",
        "classifier.fit(nX_train_generic, y_train)\n",
        "\n",
        "# Predict test data\n",
        "y_test_predict = classifier.predict(nX_test_generic)\n",
        "\n",
        "# Get the classification report\n",
        "accuracy = accuracy_score(y_test, y_test_predict) * 100\n",
        "print(\"Accuracy: \" + str(accuracy) + '%')"
      ]
    },
    {
      "cell_type": "code",
      "execution_count": 111,
      "id": "JNIin1nl5J2Q",
      "metadata": {
        "id": "JNIin1nl5J2Q",
        "colab": {
          "base_uri": "https://localhost:8080/",
          "height": 736
        },
        "outputId": "2011ee3d-03c7-4b20-b3f6-0abf12c7d301"
      },
      "outputs": [
        {
          "output_type": "display_data",
          "data": {
            "text/plain": [
              "<Figure size 1200x600 with 1 Axes>"
            ],
            "image/png": "[encoded data removed]"
          },
          "metadata": {}
        }
      ],
      "source": [
        "# Assuming you have already fitted the Random Forest classifier and obtained feature importances\n",
        "feature_importances = classifier.feature_importances_\n",
        "\n",
        "# Get the feature names\n",
        "feature_names = X_train_generic.columns\n",
        "\n",
        "# Sort feature importances and feature names together\n",
        "sorted_indices = feature_importances.argsort()[::-1]  # Sort in descending order\n",
        "sorted_feature_importances = feature_importances[sorted_indices]\n",
        "sorted_feature_names = feature_names[sorted_indices]\n",
        "\n",
        "# Select only the top 10 features\n",
        "top_10_indices = sorted_indices[:10]\n",
        "top_10_feature_importances = sorted_feature_importances[:10]\n",
        "top_10_feature_names = sorted_feature_names[:10]\n",
        "\n",
        "# Create a bar plot to visualize the top 10 feature importances\n",
        "plt.figure(figsize=(12, 6))\n",
        "plt.bar(range(len(top_10_feature_importances)), top_10_feature_importances, tick_label=top_10_feature_names)\n",
        "plt.xlabel('Features')\n",
        "plt.ylabel('Importance')\n",
        "plt.title('Top 10 Feature Importances')\n",
        "plt.xticks(rotation=90)  # Rotate x-axis labels for better readability\n",
        "# Calculate the cumulative sum of feature importances\n",
        "cumulative_variances = np.cumsum(sorted_feature_importances)\n"
      ]
    }
  ],
  "metadata": {
    "colab": {
      "provenance": [],
      "collapsed_sections": [
        "afb72815-74ef-4b27-b413-26c1c4f20652",
        "caf9a94c-244a-470b-b9d6-ce9be480abfa",
        "WaeZkCIlxFbU"
      ]
    },
    "kernelspec": {
      "display_name": "Python 3",
      "name": "python3"
    },
    "language_info": {
      "codemirror_mode": {
        "name": "ipython",
        "version": 3
      },
      "file_extension": ".py",
      "mimetype": "text/x-python",
      "name": "python",
      "nbconvert_exporter": "python",
      "pygments_lexer": "ipython3",
      "version": "3.11.6"
    },
    "toc-autonumbering": true
  },
  "nbformat": 4,
  "nbformat_minor": 5
}