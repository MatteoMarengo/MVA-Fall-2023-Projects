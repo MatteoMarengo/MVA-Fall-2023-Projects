{
  "cells": [
    {
      "cell_type": "markdown",
      "metadata": {
        "id": "UWwuYKfLVVpC"
      },
      "source": [
        "----\n",
        "# <b> Mini Project ML for Time Series\n",
        "# Matteo Marengo | matteo.marengo@ens-paris-saclay.fr\n",
        "# Hugo Robert | hugo.robert@ens-paris-saclay.fr\n",
        "----"
      ]
    },
    {
      "cell_type": "markdown",
      "metadata": {
        "id": "OjLdlRDDlBDd"
      },
      "source": [
        "# <b> 1 : Installation and Libraries </b>"
      ]
    },
    {
      "cell_type": "code",
      "execution_count": 1,
      "metadata": {
        "colab": {
          "base_uri": "https://localhost:8080/"
        },
        "id": "D6zSIfonVhOM",
        "outputId": "8e9b7053-11ed-4ed3-f05a-cd52fc4af8f3"
      },
      "outputs": [
        {
          "output_type": "stream",
          "name": "stdout",
          "text": [
            "Requirement already satisfied: tsfel in /usr/local/lib/python3.10/dist-packages (0.1.6)\n",
            "Requirement already satisfied: ipython>=7.4.0 in /usr/local/lib/python3.10/dist-packages (from tsfel) (7.34.0)\n",
            "Requirement already satisfied: numpy>=1.18.5 in /usr/local/lib/python3.10/dist-packages (from tsfel) (1.23.5)\n",
            "Requirement already satisfied: pandas>=1.5.3 in /usr/local/lib/python3.10/dist-packages (from tsfel) (1.5.3)\n",
            "Requirement already satisfied: scipy>=1.7.3 in /usr/local/lib/python3.10/dist-packages (from tsfel) (1.11.4)\n",
            "Requirement already satisfied: setuptools>=47.1.1 in /usr/local/lib/python3.10/dist-packages (from tsfel) (67.7.2)\n",
            "Requirement already satisfied: jedi>=0.16 in /usr/local/lib/python3.10/dist-packages (from ipython>=7.4.0->tsfel) (0.19.1)\n",
            "Requirement already satisfied: decorator in /usr/local/lib/python3.10/dist-packages (from ipython>=7.4.0->tsfel) (4.4.2)\n",
            "Requirement already satisfied: pickleshare in /usr/local/lib/python3.10/dist-packages (from ipython>=7.4.0->tsfel) (0.7.5)\n",
            "Requirement already satisfied: traitlets>=4.2 in /usr/local/lib/python3.10/dist-packages (from ipython>=7.4.0->tsfel) (5.7.1)\n",
            "Requirement already satisfied: prompt-toolkit!=3.0.0,!=3.0.1,<3.1.0,>=2.0.0 in /usr/local/lib/python3.10/dist-packages (from ipython>=7.4.0->tsfel) (3.0.43)\n",
            "Requirement already satisfied: pygments in /usr/local/lib/python3.10/dist-packages (from ipython>=7.4.0->tsfel) (2.16.1)\n",
            "Requirement already satisfied: backcall in /usr/local/lib/python3.10/dist-packages (from ipython>=7.4.0->tsfel) (0.2.0)\n",
            "Requirement already satisfied: matplotlib-inline in /usr/local/lib/python3.10/dist-packages (from ipython>=7.4.0->tsfel) (0.1.6)\n",
            "Requirement already satisfied: pexpect>4.3 in /usr/local/lib/python3.10/dist-packages (from ipython>=7.4.0->tsfel) (4.9.0)\n",
            "Requirement already satisfied: python-dateutil>=2.8.1 in /usr/local/lib/python3.10/dist-packages (from pandas>=1.5.3->tsfel) (2.8.2)\n",
            "Requirement already satisfied: pytz>=2020.1 in /usr/local/lib/python3.10/dist-packages (from pandas>=1.5.3->tsfel) (2023.3.post1)\n",
            "Requirement already satisfied: parso<0.9.0,>=0.8.3 in /usr/local/lib/python3.10/dist-packages (from jedi>=0.16->ipython>=7.4.0->tsfel) (0.8.3)\n",
            "Requirement already satisfied: ptyprocess>=0.5 in /usr/local/lib/python3.10/dist-packages (from pexpect>4.3->ipython>=7.4.0->tsfel) (0.7.0)\n",
            "Requirement already satisfied: wcwidth in /usr/local/lib/python3.10/dist-packages (from prompt-toolkit!=3.0.0,!=3.0.1,<3.1.0,>=2.0.0->ipython>=7.4.0->tsfel) (0.2.12)\n",
            "Requirement already satisfied: six>=1.5 in /usr/local/lib/python3.10/dist-packages (from python-dateutil>=2.8.1->pandas>=1.5.3->tsfel) (1.16.0)\n",
            "Requirement already satisfied: cesium in /usr/local/lib/python3.10/dist-packages (0.12.1)\n",
            "Requirement already satisfied: numpy>=1.14.3 in /usr/local/lib/python3.10/dist-packages (from cesium) (1.23.5)\n",
            "Requirement already satisfied: scipy>=0.16.0 in /usr/local/lib/python3.10/dist-packages (from cesium) (1.11.4)\n",
            "Requirement already satisfied: scikit-learn>=0.22.1 in /usr/local/lib/python3.10/dist-packages (from cesium) (1.2.2)\n",
            "Requirement already satisfied: pandas>=0.17.0 in /usr/local/lib/python3.10/dist-packages (from cesium) (1.5.3)\n",
            "Requirement already satisfied: dask>=2.5.0 in /usr/local/lib/python3.10/dist-packages (from cesium) (2023.8.1)\n",
            "Requirement already satisfied: toolz in /usr/local/lib/python3.10/dist-packages (from cesium) (0.12.0)\n",
            "Requirement already satisfied: gatspy>=0.3.0 in /usr/local/lib/python3.10/dist-packages (from cesium) (0.3)\n",
            "Requirement already satisfied: cloudpickle in /usr/local/lib/python3.10/dist-packages (from cesium) (2.2.1)\n",
            "Requirement already satisfied: joblib>=0.14.1 in /usr/local/lib/python3.10/dist-packages (from cesium) (1.3.2)\n",
            "Requirement already satisfied: setuptools-scm>=7.1.0 in /usr/local/lib/python3.10/dist-packages (from cesium) (8.0.4)\n",
            "Requirement already satisfied: click>=8.0 in /usr/local/lib/python3.10/dist-packages (from dask>=2.5.0->cesium) (8.1.7)\n",
            "Requirement already satisfied: fsspec>=2021.09.0 in /usr/local/lib/python3.10/dist-packages (from dask>=2.5.0->cesium) (2023.6.0)\n",
            "Requirement already satisfied: packaging>=20.0 in /usr/local/lib/python3.10/dist-packages (from dask>=2.5.0->cesium) (23.2)\n",
            "Requirement already satisfied: partd>=1.2.0 in /usr/local/lib/python3.10/dist-packages (from dask>=2.5.0->cesium) (1.4.1)\n",
            "Requirement already satisfied: pyyaml>=5.3.1 in /usr/local/lib/python3.10/dist-packages (from dask>=2.5.0->cesium) (6.0.1)\n",
            "Requirement already satisfied: importlib-metadata>=4.13.0 in /usr/local/lib/python3.10/dist-packages (from dask>=2.5.0->cesium) (7.0.0)\n",
            "Requirement already satisfied: python-dateutil>=2.8.1 in /usr/local/lib/python3.10/dist-packages (from pandas>=0.17.0->cesium) (2.8.2)\n",
            "Requirement already satisfied: pytz>=2020.1 in /usr/local/lib/python3.10/dist-packages (from pandas>=0.17.0->cesium) (2023.3.post1)\n",
            "Requirement already satisfied: threadpoolctl>=2.0.0 in /usr/local/lib/python3.10/dist-packages (from scikit-learn>=0.22.1->cesium) (3.2.0)\n",
            "Requirement already satisfied: setuptools in /usr/local/lib/python3.10/dist-packages (from setuptools-scm>=7.1.0->cesium) (67.7.2)\n",
            "Requirement already satisfied: typing-extensions in /usr/local/lib/python3.10/dist-packages (from setuptools-scm>=7.1.0->cesium) (4.5.0)\n",
            "Requirement already satisfied: tomli>=1 in /usr/local/lib/python3.10/dist-packages (from setuptools-scm>=7.1.0->cesium) (2.0.1)\n",
            "Requirement already satisfied: zipp>=0.5 in /usr/local/lib/python3.10/dist-packages (from importlib-metadata>=4.13.0->dask>=2.5.0->cesium) (3.17.0)\n",
            "Requirement already satisfied: locket in /usr/local/lib/python3.10/dist-packages (from partd>=1.2.0->dask>=2.5.0->cesium) (1.0.0)\n",
            "Requirement already satisfied: six>=1.5 in /usr/local/lib/python3.10/dist-packages (from python-dateutil>=2.8.1->pandas>=0.17.0->cesium) (1.16.0)\n",
            "Requirement already satisfied: tsfresh in /usr/local/lib/python3.10/dist-packages (0.20.1)\n",
            "Requirement already satisfied: requests>=2.9.1 in /usr/local/lib/python3.10/dist-packages (from tsfresh) (2.31.0)\n",
            "Requirement already satisfied: numpy>=1.15.1 in /usr/local/lib/python3.10/dist-packages (from tsfresh) (1.23.5)\n",
            "Requirement already satisfied: pandas>=0.25.0 in /usr/local/lib/python3.10/dist-packages (from tsfresh) (1.5.3)\n",
            "Requirement already satisfied: scipy>=1.2.0 in /usr/local/lib/python3.10/dist-packages (from tsfresh) (1.11.4)\n",
            "Requirement already satisfied: statsmodels>=0.13 in /usr/local/lib/python3.10/dist-packages (from tsfresh) (0.14.0)\n",
            "Requirement already satisfied: patsy>=0.4.1 in /usr/local/lib/python3.10/dist-packages (from tsfresh) (0.5.4)\n",
            "Requirement already satisfied: scikit-learn>=0.22.0 in /usr/local/lib/python3.10/dist-packages (from tsfresh) (1.2.2)\n",
            "Requirement already satisfied: tqdm>=4.10.0 in /usr/local/lib/python3.10/dist-packages (from tsfresh) (4.66.1)\n",
            "Requirement already satisfied: dask[dataframe]>=2.9.0 in /usr/local/lib/python3.10/dist-packages (from tsfresh) (2023.8.1)\n",
            "Requirement already satisfied: distributed>=2.11.0 in /usr/local/lib/python3.10/dist-packages (from tsfresh) (2023.8.1)\n",
            "Requirement already satisfied: stumpy>=1.7.2 in /usr/local/lib/python3.10/dist-packages (from tsfresh) (1.12.0)\n",
            "Requirement already satisfied: cloudpickle in /usr/local/lib/python3.10/dist-packages (from tsfresh) (2.2.1)\n",
            "Requirement already satisfied: click>=8.0 in /usr/local/lib/python3.10/dist-packages (from dask[dataframe]>=2.9.0->tsfresh) (8.1.7)\n",
            "Requirement already satisfied: fsspec>=2021.09.0 in /usr/local/lib/python3.10/dist-packages (from dask[dataframe]>=2.9.0->tsfresh) (2023.6.0)\n",
            "Requirement already satisfied: packaging>=20.0 in /usr/local/lib/python3.10/dist-packages (from dask[dataframe]>=2.9.0->tsfresh) (23.2)\n",
            "Requirement already satisfied: partd>=1.2.0 in /usr/local/lib/python3.10/dist-packages (from dask[dataframe]>=2.9.0->tsfresh) (1.4.1)\n",
            "Requirement already satisfied: pyyaml>=5.3.1 in /usr/local/lib/python3.10/dist-packages (from dask[dataframe]>=2.9.0->tsfresh) (6.0.1)\n",
            "Requirement already satisfied: toolz>=0.10.0 in /usr/local/lib/python3.10/dist-packages (from dask[dataframe]>=2.9.0->tsfresh) (0.12.0)\n",
            "Requirement already satisfied: importlib-metadata>=4.13.0 in /usr/local/lib/python3.10/dist-packages (from dask[dataframe]>=2.9.0->tsfresh) (7.0.0)\n",
            "Requirement already satisfied: jinja2>=2.10.3 in /usr/local/lib/python3.10/dist-packages (from distributed>=2.11.0->tsfresh) (3.1.2)\n",
            "Requirement already satisfied: locket>=1.0.0 in /usr/local/lib/python3.10/dist-packages (from distributed>=2.11.0->tsfresh) (1.0.0)\n",
            "Requirement already satisfied: msgpack>=1.0.0 in /usr/local/lib/python3.10/dist-packages (from distributed>=2.11.0->tsfresh) (1.0.7)\n",
            "Requirement already satisfied: psutil>=5.7.2 in /usr/local/lib/python3.10/dist-packages (from distributed>=2.11.0->tsfresh) (5.9.5)\n",
            "Requirement already satisfied: sortedcontainers>=2.0.5 in /usr/local/lib/python3.10/dist-packages (from distributed>=2.11.0->tsfresh) (2.4.0)\n",
            "Requirement already satisfied: tblib>=1.6.0 in /usr/local/lib/python3.10/dist-packages (from distributed>=2.11.0->tsfresh) (3.0.0)\n",
            "Requirement already satisfied: tornado>=6.0.4 in /usr/local/lib/python3.10/dist-packages (from distributed>=2.11.0->tsfresh) (6.3.2)\n",
            "Requirement already satisfied: urllib3>=1.24.3 in /usr/local/lib/python3.10/dist-packages (from distributed>=2.11.0->tsfresh) (2.0.7)\n",
            "Requirement already satisfied: zict>=2.2.0 in /usr/local/lib/python3.10/dist-packages (from distributed>=2.11.0->tsfresh) (3.0.0)\n",
            "Requirement already satisfied: python-dateutil>=2.8.1 in /usr/local/lib/python3.10/dist-packages (from pandas>=0.25.0->tsfresh) (2.8.2)\n",
            "Requirement already satisfied: pytz>=2020.1 in /usr/local/lib/python3.10/dist-packages (from pandas>=0.25.0->tsfresh) (2023.3.post1)\n",
            "Requirement already satisfied: six in /usr/local/lib/python3.10/dist-packages (from patsy>=0.4.1->tsfresh) (1.16.0)\n",
            "Requirement already satisfied: charset-normalizer<4,>=2 in /usr/local/lib/python3.10/dist-packages (from requests>=2.9.1->tsfresh) (3.3.2)\n",
            "Requirement already satisfied: idna<4,>=2.5 in /usr/local/lib/python3.10/dist-packages (from requests>=2.9.1->tsfresh) (3.6)\n",
            "Requirement already satisfied: certifi>=2017.4.17 in /usr/local/lib/python3.10/dist-packages (from requests>=2.9.1->tsfresh) (2023.11.17)\n",
            "Requirement already satisfied: joblib>=1.1.1 in /usr/local/lib/python3.10/dist-packages (from scikit-learn>=0.22.0->tsfresh) (1.3.2)\n",
            "Requirement already satisfied: threadpoolctl>=2.0.0 in /usr/local/lib/python3.10/dist-packages (from scikit-learn>=0.22.0->tsfresh) (3.2.0)\n",
            "Requirement already satisfied: numba>=0.55.2 in /usr/local/lib/python3.10/dist-packages (from stumpy>=1.7.2->tsfresh) (0.58.1)\n",
            "Requirement already satisfied: zipp>=0.5 in /usr/local/lib/python3.10/dist-packages (from importlib-metadata>=4.13.0->dask[dataframe]>=2.9.0->tsfresh) (3.17.0)\n",
            "Requirement already satisfied: MarkupSafe>=2.0 in /usr/local/lib/python3.10/dist-packages (from jinja2>=2.10.3->distributed>=2.11.0->tsfresh) (2.1.3)\n",
            "Requirement already satisfied: llvmlite<0.42,>=0.41.0dev0 in /usr/local/lib/python3.10/dist-packages (from numba>=0.55.2->stumpy>=1.7.2->tsfresh) (0.41.1)\n"
          ]
        }
      ],
      "source": [
        "!pip install tsfel\n",
        "!pip install cesium\n",
        "!pip install tsfresh"
      ]
    },
    {
      "cell_type": "code",
      "execution_count": 2,
      "metadata": {
        "id": "Oo9s6-8mU3lA"
      },
      "outputs": [],
      "source": [
        "# Import useful libraries\n",
        "import numpy as np\n",
        "import tsfel\n",
        "import json\n",
        "import matplotlib.pyplot as plt\n",
        "from sklearn.feature_selection import VarianceThreshold\n",
        "from sklearn import preprocessing\n",
        "import pandas as pd\n",
        "from sklearn.metrics import confusion_matrix, accuracy_score\n",
        "from sklearn.metrics import ConfusionMatrixDisplay\n",
        "from sklearn.ensemble import RandomForestClassifier\n",
        "from scipy.signal import argrelmin\n",
        "from sklearn.preprocessing import StandardScaler"
      ]
    },
    {
      "cell_type": "code",
      "execution_count": 3,
      "metadata": {
        "colab": {
          "base_uri": "https://localhost:8080/"
        },
        "id": "ET0Nx55vWGeA",
        "outputId": "5b4304f7-e919-4066-f6b1-2d7643542b41"
      },
      "outputs": [
        {
          "output_type": "stream",
          "name": "stdout",
          "text": [
            "Drive already mounted at /content/drive; to attempt to forcibly remount, call drive.mount(\"/content/drive\", force_remount=True).\n"
          ]
        }
      ],
      "source": [
        "from google.colab import drive\n",
        "drive.mount('/content/drive')"
      ]
    },
    {
      "cell_type": "markdown",
      "metadata": {
        "id": "l7MKnaQ3U3lC"
      },
      "source": [
        "----\n",
        "----\n",
        "#<b> 2 : Dataset</b>\n",
        "\n",
        "Ce datasset est composé de signaux radars. Un signal radar est composé d'impulsions. Le système d'analyse vous permettent de caractériser chaque impulsion reçue par un PDW (Pulse Description Word) qui contient:\n",
        "\n",
        "- la date de début de détection de l'impulsion (en ms)\n",
        "\n",
        "- la largeur ou durée de l'impulsion (en ms)\n",
        "\n",
        "- la puissance de l'impulsion (en dB / référence)\n",
        "\n",
        "- l'angle theta et l'angle phi décrivant la direction dans laquelle l'impulsion est détectée (en radians)\n",
        "\n",
        "- la fréquence de l'impulsion (en Ghz)"
      ]
    },
    {
      "cell_type": "code",
      "execution_count": 4,
      "metadata": {
        "id": "pBKUNsKDU3lD"
      },
      "outputs": [],
      "source": [
        "def naive_pred(i):\n",
        "    \"\"\"for a sample i, return 1 if the model predicts menace, 0 otherwise\n",
        "\n",
        "    Args:\n",
        "        i (int): _description_\n",
        "\n",
        "    Returns:\n",
        "        _type_: _description_\n",
        "    \"\"\"\n",
        "    # pdws = np.load('./radars_data/test/pdw-'+str(i)+'.npz')\n",
        "    pdws = np.load('/content/drive/MyDrive/TSFEL-LIBRARY/RADARS/radars_data/test/pdw-'+str(i)+'.npz')\n",
        "    frequences=pdws['frequence']\n",
        "    if np.std(frequences)>0.025:\n",
        "        return 1\n",
        "    else:\n",
        "        if np.mean(frequences)<2:\n",
        "            return 1\n",
        "    return 0"
      ]
    },
    {
      "cell_type": "code",
      "execution_count": 5,
      "metadata": {
        "colab": {
          "base_uri": "https://localhost:8080/",
          "height": 518
        },
        "id": "lMZUfzh0U3lE",
        "outputId": "6eef7717-1349-4c88-dd5c-77d39759b6e5"
      },
      "outputs": [
        {
          "output_type": "stream",
          "name": "stdout",
          "text": [
            "accuracy: 0.73875\n",
            "precision: 0.6746031746031746\n",
            "recall: 0.8831168831168831\n",
            "f1-score: 0.7649043869516311\n"
          ]
        },
        {
          "output_type": "display_data",
          "data": {
            "text/plain": [
              "<Figure size 640x480 with 2 Axes>"
            ],
            "image/png": "[encoded data removed]"
          },
          "metadata": {}
        }
      ],
      "source": [
        "with open('/content/drive/MyDrive/TSFEL-LIBRARY/RADARS/radars_data/test_labels.json') as f:\n",
        "    test_labels = json.load(f)\n",
        "    test_labels = [test_labels[f'pdw-{i}']=='menace' for i in range(len(test_labels))]\n",
        "\n",
        "\n",
        "total = len(test_labels)\n",
        "score=0\n",
        "preds=[]\n",
        "for i in range(total):\n",
        "    preds.append(naive_pred(i))\n",
        "# plot results\n",
        "disp = ConfusionMatrixDisplay(confusion_matrix=confusion_matrix(test_labels, preds), display_labels=['non-menace', 'menace'])\n",
        "disp = disp.plot(cmap=plt.cm.Blues,values_format='g')\n",
        "from sklearn.metrics import accuracy_score, precision_score, recall_score, f1_score\n",
        "print(f\"accuracy: {accuracy_score(test_labels, preds)}\")\n",
        "print(f\"precision: {precision_score(test_labels, preds)}\")\n",
        "print(f\"recall: {recall_score(test_labels, preds)}\")\n",
        "print(f\"f1-score: {f1_score(test_labels, preds)}\")\n"
      ]
    },
    {
      "cell_type": "code",
      "execution_count": 6,
      "metadata": {
        "colab": {
          "base_uri": "https://localhost:8080/",
          "height": 1000
        },
        "id": "Wvyhedixs6oY",
        "outputId": "6313aeb8-0651-4778-810e-3cb9be5b3abe"
      },
      "outputs": [
        {
          "output_type": "stream",
          "name": "stdout",
          "text": [
            "<class 'numpy.ndarray'>\n",
            "(672,)\n",
            "()\n"
          ]
        },
        {
          "output_type": "display_data",
          "data": {
            "text/plain": [
              "<Figure size 640x480 with 1 Axes>"
            ],
            "image/png": "[encoded data removed]"
          },
          "metadata": {}
        },
        {
          "output_type": "display_data",
          "data": {
            "text/plain": [
              "<Figure size 640x480 with 1 Axes>"
            ],
            "image/png": "[encoded data removed]"
          },
          "metadata": {}
        },
        {
          "output_type": "display_data",
          "data": {
            "text/plain": [
              "<Figure size 640x480 with 1 Axes>"
            ],
            "image/png": "[encoded data removed]"
          },
          "metadata": {}
        }
      ],
      "source": [
        "pdws = np.load('/content/drive/MyDrive/TSFEL-LIBRARY/RADARS/radars_data/train/pdw-'+str(0)+'.npz')\n",
        "frequences=pdws['frequence']\n",
        "largeurs = pdws['largeur']\n",
        "puissances = pdws['puissance']\n",
        "print(type(frequences))\n",
        "print(frequences.shape)\n",
        "print(frequences[0].shape)\n",
        "plt.plot(frequences)\n",
        "plt.show()\n",
        "plt.plot(largeurs)\n",
        "plt.show()\n",
        "plt.plot(puissances)\n",
        "plt.show()"
      ]
    },
    {
      "cell_type": "markdown",
      "metadata": {
        "id": "AVFoo4zCU3lF"
      },
      "source": [
        "----\n",
        "----\n",
        "# <b> 3 : Modèle avec features personnalisés</b>"
      ]
    },
    {
      "cell_type": "markdown",
      "metadata": {
        "id": "NupL6sAsU3lG"
      },
      "source": [
        "## <b> 3.1 : Définition des Features spécialisées </b>"
      ]
    },
    {
      "cell_type": "code",
      "execution_count": 7,
      "metadata": {
        "id": "6Me15PCCU3lG"
      },
      "outputs": [],
      "source": [
        "def compute_T(time):\n",
        "    \"\"\"_summary_\n",
        "\n",
        "    Args:\n",
        "        time (_type_): _description_\n",
        "\n",
        "    Returns:\n",
        "        _type_: _description_\n",
        "    \"\"\"\n",
        "    delta_t = np.diff(time)\n",
        "    # afin d'obtenir d'estimer une valeur de T le plus précisemment et rapidement\n",
        "    # on mesure la moyenne des 20 éléments les plus petits de delta_t qui donnent chacun une estimation de T\n",
        "    delta_t.sort()\n",
        "    return np.mean(delta_t[:20])\n",
        "\n",
        "def compute_large_lob(puissance):\n",
        "    \"\"\"compute caracteristics of puissance curve\n",
        "\n",
        "    Args:\n",
        "        puissance (Any)\n",
        "\n",
        "    Returns:\n",
        "        nb_local_minimum (int): number of local minimum in puissance\n",
        "        weight_large_lob (int): weight of the largest lob\n",
        "        height_large_lob (int): height of the largest lob\n",
        "    \"\"\"\n",
        "    local_min_indexes = argrelmin(puissance, order=2)[0] #  computation of local minimum indexes\n",
        "    # caracteristics of largest lob\n",
        "    index_begin_large_lob = local_min_indexes[np.argmax(np.diff(local_min_indexes))]\n",
        "    index_end_large_lob = local_min_indexes[1+np.argmax(np.diff(local_min_indexes))]\n",
        "    height_large_lob = np.max(puissance[index_begin_large_lob:index_end_large_lob])-puissance[index_end_large_lob]\n",
        "    weight_large_lob = np.max(np.diff(local_min_indexes)) * 10/len(puissance)\n",
        "    return len(local_min_indexes), weight_large_lob, height_large_lob"
      ]
    },
    {
      "cell_type": "markdown",
      "metadata": {
        "id": "xdqD17PnU3lH"
      },
      "source": [
        "----\n",
        "## <b> 3.2 : Preparation des données </b>"
      ]
    },
    {
      "cell_type": "code",
      "execution_count": 9,
      "metadata": {
        "colab": {
          "base_uri": "https://localhost:8080/"
        },
        "id": "vr9fhxEFU3lJ",
        "outputId": "d8a2493e-2b37-43a4-b3da-d45d0e22869a"
      },
      "outputs": [
        {
          "output_type": "stream",
          "name": "stdout",
          "text": [
            "Number of training examples:  2000\n",
            "Number of training examples:  800\n",
            "Création de X_train, y_train, X_test et y_test\n",
            "\n",
            "Format des données:\n",
            "\tFormat de X_train:  (2000, 16)\n",
            "\tFormat de y_train:  (2000, 1)\n",
            "\tFormat de X_test:  (800, 16)\n",
            "\tFormat de y_test:  (800, 1)\n",
            "Data are normalized !\n",
            "\n"
          ]
        }
      ],
      "source": [
        "with open('/content/drive/MyDrive/TSFEL-LIBRARY/RADARS/radars_data/train_labels.json') as f:\n",
        "    dict_labels_train = json.load(f)\n",
        "    print('Number of training examples: ',len(dict_labels_train)) # number of training examples\n",
        "\n",
        "with open('/content/drive/MyDrive/TSFEL-LIBRARY/RADARS/radars_data/test_labels.json') as f:\n",
        "    dict_labels_test = json.load(f)\n",
        "    print('Number of training examples: ',len(dict_labels_test)) # number of testing examples\n",
        "\n",
        "# Load the train data in a dataset to perform binary classification\n",
        "\n",
        "X_train = np.zeros((len(dict_labels_train),16))\n",
        "y_train = np.zeros((len(dict_labels_train),1))\n",
        "X_test = np.zeros((len(dict_labels_test),16))\n",
        "y_test = np.zeros((len(dict_labels_test),1))\n",
        "print ('Création de X_train, y_train, X_test et y_test\\n')\n",
        "print('Format des données:')\n",
        "print('\\tFormat de X_train: ',X_train.shape)\n",
        "print('\\tFormat de y_train: ',y_train.shape)\n",
        "print('\\tFormat de X_test: ',X_test.shape)\n",
        "print('\\tFormat de y_test: ',y_test.shape)\n",
        "\n",
        "for i in range(len(dict_labels_train)):\n",
        "    pdws = np.load('/content/drive/MyDrive/TSFEL-LIBRARY/RADARS/radars_data/train/pdw-'+str(i)+'.npz')\n",
        "    frequences=pdws['frequence']\n",
        "    largeurs = pdws['largeur']\n",
        "    puissances = pdws['puissance']\n",
        "    fft_puissance = abs(np.fft.fft(puissances))\n",
        "    fft_frequence = abs(np.fft.fft(frequences))\n",
        "    phi = pdws['phi']\n",
        "    theta = pdws['theta']\n",
        "\n",
        "    if dict_labels_train[f'pdw-{i}'] == 'menace':\n",
        "        y_train[i] = 1\n",
        "    else:\n",
        "        y_train[i] = 0\n",
        "    X_train[i,0]=np.std(frequences)\n",
        "    X_train[i,1]=np.mean(frequences)\n",
        "    X_train[i,2]=np.mean(largeurs)\n",
        "    X_train[i,3]=np.mean(puissances)\n",
        "    X_train[i,4]=compute_T(pdws['date'])\n",
        "    X_train[i,5]=np.max(fft_puissance)\n",
        "    X_train[i,6]=np.min(fft_puissance)\n",
        "    X_train[i,7]=np.mean(fft_puissance)\n",
        "    X_train[i,8]=np.std(fft_puissance)\n",
        "    X_train[i,9], X_train[i,10], X_train[i,11] = compute_large_lob(puissances)\n",
        "    X_train[i,12]=np.max(fft_frequence)\n",
        "    X_train[i,13]=np.min(fft_frequence)\n",
        "    X_train[i,14]=np.mean(fft_frequence)\n",
        "    X_train[i,15]=np.std(fft_frequence)\n",
        "\n",
        "for i in range(len(dict_labels_test)):\n",
        "    pdws = np.load('/content/drive/MyDrive/TSFEL-LIBRARY/RADARS/radars_data/test/pdw-'+str(i)+'.npz')\n",
        "    frequences=pdws['frequence']\n",
        "    largeurs = pdws['largeur']\n",
        "    puissances = pdws['puissance']\n",
        "    fft_puissance = abs(np.fft.fft(puissances))\n",
        "    fft_frequence = abs(np.fft.fft(frequences))\n",
        "    phi = pdws['phi']\n",
        "    theta = pdws['theta']\n",
        "\n",
        "    if dict_labels_test[f'pdw-{i}'] == 'menace':\n",
        "        y_test[i] = 1\n",
        "    else:\n",
        "        y_test[i] = 0\n",
        "    X_test[i,0]=np.std(frequences)\n",
        "    X_test[i,1]=np.mean(frequences)\n",
        "    X_test[i,2]=np.mean(largeurs)\n",
        "    X_test[i,3]=np.mean(puissances)\n",
        "    X_test[i,4]=compute_T(pdws['date'])\n",
        "    X_test[i,5]=np.max(fft_puissance)\n",
        "    X_test[i,6]=np.min(fft_puissance)\n",
        "    X_test[i,7]=np.mean(fft_puissance)\n",
        "    X_test[i,8]=np.std(fft_puissance)\n",
        "    X_test[i,9], X_test[i,10], X_test[i,11] = compute_large_lob(puissances)\n",
        "    X_test[i,12]=np.max(fft_frequence)\n",
        "    X_test[i,13]=np.min(fft_frequence)\n",
        "    X_test[i,14]=np.mean(fft_frequence)\n",
        "    X_test[i,15]=np.std(fft_frequence)\n",
        "\n",
        "y_train = y_train.ravel()\n",
        "y_test = y_test.ravel()\n",
        "\n",
        "# Normalize the data\n",
        "scaler = StandardScaler()\n",
        "scaler.fit(X_train)\n",
        "X_train = scaler.transform(X_train)\n",
        "X_test = scaler.transform(X_test)\n",
        "print ('Data are normalized !\\n')"
      ]
    },
    {
      "cell_type": "markdown",
      "metadata": {
        "id": "js3xiwIzU3lL"
      },
      "source": [
        "----\n",
        "## <b> 3.3 : Entrainement du modèle </b>"
      ]
    },
    {
      "cell_type": "code",
      "execution_count": 10,
      "metadata": {
        "id": "YAd1-2SeU3lL",
        "colab": {
          "base_uri": "https://localhost:8080/"
        },
        "outputId": "e2df6218-1ba1-41c1-85c7-936d391ff2f9"
      },
      "outputs": [
        {
          "output_type": "stream",
          "name": "stdout",
          "text": [
            "\u001b[32mAccuracy score with RF: 0.88375\u001b[0m\n"
          ]
        }
      ],
      "source": [
        "# random forest classification\n",
        "clf = RandomForestClassifier(max_depth=10, random_state=0).fit(X_train, y_train)\n",
        "y_pred = clf.predict(X_test)\n",
        "accuracy_perso = accuracy_score(y_test,y_pred)\n",
        "print('\\033[32m' + 'Accuracy score with RF: '+str(accuracy_score(y_test, y_pred)) + '\\033[0m')"
      ]
    },
    {
      "cell_type": "markdown",
      "metadata": {
        "id": "1KZm-iJ6U3lN"
      },
      "source": [
        "----\n",
        "----\n",
        "# <b> 4 : Modèle avec features génériques TSFEL </b>"
      ]
    },
    {
      "cell_type": "markdown",
      "metadata": {
        "id": "WNPIN0JGoDrC"
      },
      "source": [
        "## <b> 4.1 : Préparation des données </b>"
      ]
    },
    {
      "cell_type": "code",
      "execution_count": 14,
      "metadata": {
        "colab": {
          "base_uri": "https://localhost:8080/"
        },
        "id": "0dnLRfwNU3lN",
        "outputId": "3bdda388-b51a-4205-de88-fcf473e344d9"
      },
      "outputs": [
        {
          "output_type": "stream",
          "name": "stdout",
          "text": [
            "Number of training examples:  2000\n",
            "Number of test examples:  800\n"
          ]
        }
      ],
      "source": [
        "with open('/content/drive/MyDrive/TSFEL-LIBRARY/RADARS/radars_data/train_labels.json') as f:\n",
        "    dict_labels_train = json.load(f)\n",
        "    print('Number of training examples: ',len(dict_labels_train)) # number of training examples\n",
        "\n",
        "with open('/content/drive/MyDrive/TSFEL-LIBRARY/RADARS/radars_data/test_labels.json') as f:\n",
        "    dict_labels_test = json.load(f)\n",
        "    print('Number of test examples: ',len(dict_labels_test)) # number of test examples\n",
        "\n",
        "\n",
        "fs = 100\n",
        "cfg_file = tsfel.get_features_by_domain()\n",
        "\n",
        "y_train = np.zeros((len(dict_labels_train),1))\n",
        "y_test = np.zeros((len(dict_labels_test),1))\n",
        "freq_train, largeur_train, puissance_train, date_train = [], [], [], []\n",
        "freq_test, largeur_test, puissance_test, date_test = [], [], [], []\n",
        "\n",
        "for i in range(len(dict_labels_train)):\n",
        "    pdw = np.load('/content/drive/MyDrive/TSFEL-LIBRARY/RADARS/radars_data/train/pdw-'+str(i)+'.npz')\n",
        "    freq_train.append(pdw['frequence'])\n",
        "    largeur_train.append(pdw['largeur'])\n",
        "    puissance_train.append(pdw['puissance'])\n",
        "    date_train.append(pdw['date'])\n",
        "    if dict_labels_train[f'pdw-{i}'] == 'menace':\n",
        "        y_train[i] = 1\n",
        "    else:\n",
        "        y_train[i] = 0\n",
        "\n",
        "for i in range(len(dict_labels_test)):\n",
        "    pdw = np.load('/content/drive/MyDrive/TSFEL-LIBRARY/RADARS/radars_data/test/pdw-'+str(i)+'.npz')\n",
        "    freq_test.append(pdw['frequence'])\n",
        "    largeur_test.append(pdw['largeur'])\n",
        "    puissance_test.append(pdw['puissance'])\n",
        "    date_test.append(pdw['date'])\n",
        "    if dict_labels_test[f'pdw-{i}'] == 'menace':\n",
        "        y_test[i] = 1\n",
        "    else:\n",
        "        y_test[i] = 0\n",
        "\n",
        "y_train = y_train.ravel()\n",
        "y_test = y_test.ravel()\n"
      ]
    },
    {
      "cell_type": "markdown",
      "metadata": {
        "id": "DeDrSu5rp4jn"
      },
      "source": [
        "----\n",
        "## <b> 4.2 : Extraction des Features </b>"
      ]
    },
    {
      "cell_type": "code",
      "execution_count": 15,
      "metadata": {
        "colab": {
          "base_uri": "https://localhost:8080/",
          "height": 855
        },
        "id": "mjM20W12U3lN",
        "outputId": "bd0fd923-9694-422d-9d91-fc2b3702497b"
      },
      "outputs": [
        {
          "output_type": "stream",
          "name": "stdout",
          "text": [
            "*** Feature extraction started ***\n"
          ]
        },
        {
          "output_type": "display_data",
          "data": {
            "text/plain": [
              "<IPython.core.display.HTML object>"
            ],
            "text/html": [
              "\n",
              "              <p>\n",
              "                  Progress: 100% Complete\n",
              "              <p/>\n",
              "              <progress\n",
              "                  value='2000'\n",
              "                  max='2000',\n",
              "                  style='width: 25%',\n",
              "              >\n",
              "                  2000\n",
              "              </progress>\n",
              "\n",
              "    "
            ]
          },
          "metadata": {}
        },
        {
          "output_type": "stream",
          "name": "stdout",
          "text": [
            "\n",
            "*** Feature extraction finished ***\n",
            "*** Feature extraction started ***\n"
          ]
        },
        {
          "output_type": "display_data",
          "data": {
            "text/plain": [
              "<IPython.core.display.HTML object>"
            ],
            "text/html": [
              "\n",
              "              <p>\n",
              "                  Progress: 100% Complete\n",
              "              <p/>\n",
              "              <progress\n",
              "                  value='800'\n",
              "                  max='800',\n",
              "                  style='width: 25%',\n",
              "              >\n",
              "                  800\n",
              "              </progress>\n",
              "\n",
              "    "
            ]
          },
          "metadata": {}
        },
        {
          "output_type": "stream",
          "name": "stdout",
          "text": [
            "\n",
            "*** Feature extraction finished ***\n",
            "*** Feature extraction started ***\n"
          ]
        },
        {
          "output_type": "display_data",
          "data": {
            "text/plain": [
              "<IPython.core.display.HTML object>"
            ],
            "text/html": [
              "\n",
              "              <p>\n",
              "                  Progress: 100% Complete\n",
              "              <p/>\n",
              "              <progress\n",
              "                  value='2000'\n",
              "                  max='2000',\n",
              "                  style='width: 25%',\n",
              "              >\n",
              "                  2000\n",
              "              </progress>\n",
              "\n",
              "    "
            ]
          },
          "metadata": {}
        },
        {
          "output_type": "stream",
          "name": "stdout",
          "text": [
            "\n",
            "*** Feature extraction finished ***\n",
            "*** Feature extraction started ***\n"
          ]
        },
        {
          "output_type": "display_data",
          "data": {
            "text/plain": [
              "<IPython.core.display.HTML object>"
            ],
            "text/html": [
              "\n",
              "              <p>\n",
              "                  Progress: 100% Complete\n",
              "              <p/>\n",
              "              <progress\n",
              "                  value='800'\n",
              "                  max='800',\n",
              "                  style='width: 25%',\n",
              "              >\n",
              "                  800\n",
              "              </progress>\n",
              "\n",
              "    "
            ]
          },
          "metadata": {}
        },
        {
          "output_type": "stream",
          "name": "stdout",
          "text": [
            "\n",
            "*** Feature extraction finished ***\n",
            "*** Feature extraction started ***\n"
          ]
        },
        {
          "output_type": "display_data",
          "data": {
            "text/plain": [
              "<IPython.core.display.HTML object>"
            ],
            "text/html": [
              "\n",
              "              <p>\n",
              "                  Progress: 100% Complete\n",
              "              <p/>\n",
              "              <progress\n",
              "                  value='2000'\n",
              "                  max='2000',\n",
              "                  style='width: 25%',\n",
              "              >\n",
              "                  2000\n",
              "              </progress>\n",
              "\n",
              "    "
            ]
          },
          "metadata": {}
        },
        {
          "output_type": "stream",
          "name": "stdout",
          "text": [
            "\n",
            "*** Feature extraction finished ***\n",
            "*** Feature extraction started ***\n"
          ]
        },
        {
          "output_type": "display_data",
          "data": {
            "text/plain": [
              "<IPython.core.display.HTML object>"
            ],
            "text/html": [
              "\n",
              "              <p>\n",
              "                  Progress: 100% Complete\n",
              "              <p/>\n",
              "              <progress\n",
              "                  value='800'\n",
              "                  max='800',\n",
              "                  style='width: 25%',\n",
              "              >\n",
              "                  800\n",
              "              </progress>\n",
              "\n",
              "    "
            ]
          },
          "metadata": {}
        },
        {
          "output_type": "stream",
          "name": "stdout",
          "text": [
            "\n",
            "*** Feature extraction finished ***\n",
            "*** Feature extraction started ***\n"
          ]
        },
        {
          "output_type": "display_data",
          "data": {
            "text/plain": [
              "<IPython.core.display.HTML object>"
            ],
            "text/html": [
              "\n",
              "              <p>\n",
              "                  Progress: 100% Complete\n",
              "              <p/>\n",
              "              <progress\n",
              "                  value='2000'\n",
              "                  max='2000',\n",
              "                  style='width: 25%',\n",
              "              >\n",
              "                  2000\n",
              "              </progress>\n",
              "\n",
              "    "
            ]
          },
          "metadata": {}
        },
        {
          "output_type": "stream",
          "name": "stdout",
          "text": [
            "\n",
            "*** Feature extraction finished ***\n",
            "*** Feature extraction started ***\n"
          ]
        },
        {
          "output_type": "display_data",
          "data": {
            "text/plain": [
              "<IPython.core.display.HTML object>"
            ],
            "text/html": [
              "\n",
              "              <p>\n",
              "                  Progress: 100% Complete\n",
              "              <p/>\n",
              "              <progress\n",
              "                  value='800'\n",
              "                  max='800',\n",
              "                  style='width: 25%',\n",
              "              >\n",
              "                  800\n",
              "              </progress>\n",
              "\n",
              "    "
            ]
          },
          "metadata": {}
        },
        {
          "output_type": "stream",
          "name": "stdout",
          "text": [
            "\n",
            "*** Feature extraction finished ***\n"
          ]
        }
      ],
      "source": [
        "# extraction de l'enssemble des features\n",
        "freq_train_features = tsfel.time_series_features_extractor(cfg_file, freq_train, fs=fs).add_prefix('freq_')\n",
        "freq_test_features = tsfel.time_series_features_extractor(cfg_file, freq_test, fs=fs).add_prefix('freq_')\n",
        "largeur_train_features = tsfel.time_series_features_extractor(cfg_file, largeur_train, fs=fs).add_prefix('largeur_')\n",
        "largeur_test_features = tsfel.time_series_features_extractor(cfg_file, largeur_test, fs=fs).add_prefix('largeur_')\n",
        "puissance_train_features = tsfel.time_series_features_extractor(cfg_file, puissance_train, fs=fs).add_prefix('puissance_')\n",
        "puissance_test_features = tsfel.time_series_features_extractor(cfg_file, puissance_test, fs=fs).add_prefix('puissance_')\n",
        "date_train_features = tsfel.time_series_features_extractor(cfg_file, date_train, fs=fs).add_prefix('date_')\n",
        "date_test_features = tsfel.time_series_features_extractor(cfg_file, date_test, fs=fs).add_prefix('date_')"
      ]
    },
    {
      "cell_type": "code",
      "execution_count": 16,
      "metadata": {
        "id": "GUmu_ojnU3lN"
      },
      "outputs": [],
      "source": [
        "train_dfs = [freq_train_features, largeur_train_features, puissance_train_features, date_train_features]\n",
        "test_dfs = [freq_test_features, largeur_test_features, puissance_test_features, date_test_features]\n",
        "\n",
        "test_features, train_features = pd.DataFrame(), pd.DataFrame()\n",
        "\n",
        "for train_feature, test_feature in zip(train_dfs, test_dfs):\n",
        "\n",
        "    corr_features = tsfel.correlated_features(train_feature)\n",
        "    train_feature.drop(corr_features, axis=1, inplace=True)\n",
        "    test_feature.drop(corr_features, axis=1, inplace=True)\n",
        "\n",
        "    # Save the column names\n",
        "    train_column_names, test_column_names = train_feature.columns, test_feature.columns\n",
        "    selector = VarianceThreshold()\n",
        "    train_feature = selector.fit_transform(train_feature)\n",
        "    test_feature = selector.transform(test_feature)\n",
        "    selected_indices = selector.get_support(indices=True)\n",
        "    scaler = preprocessing.StandardScaler()\n",
        "    train_feature = scaler.fit_transform(train_feature)\n",
        "    test_feature = scaler.transform(test_feature)\n",
        "\n",
        "    train_feature, test_feature = pd.DataFrame(train_feature, columns=[train_column_names[i] for i in selected_indices]), pd.DataFrame(test_feature, columns=[train_column_names[i] for i in selected_indices])\n",
        "\n",
        "    test_features = pd.concat([test_features, pd.DataFrame(test_feature)], axis=1)\n",
        "    train_features = pd.concat([train_features, pd.DataFrame(train_feature)], axis=1)"
      ]
    },
    {
      "cell_type": "code",
      "execution_count": 17,
      "metadata": {
        "id": "oAfULDMhU3lP",
        "colab": {
          "base_uri": "https://localhost:8080/"
        },
        "outputId": "f59c411b-bfd3-46f0-a937-7eed01270c99"
      },
      "outputs": [
        {
          "output_type": "stream",
          "name": "stdout",
          "text": [
            "number of features: 1073\n"
          ]
        }
      ],
      "source": [
        "# find columns where train_features contains NaN values\n",
        "nan_columns = train_features.columns[train_features.isna().any()].tolist()\n",
        "train_features.drop(nan_columns, axis=1, inplace=True)\n",
        "test_features.drop(nan_columns, axis=1, inplace=True)\n",
        "\n",
        "print(f\"number of features: {len(train_features.columns)}\")"
      ]
    },
    {
      "cell_type": "markdown",
      "metadata": {
        "id": "WBCRZD1IU3lP"
      },
      "source": [
        "----\n",
        "## <b> 4.3 : Résultats avec features présélectionnés </b>"
      ]
    },
    {
      "cell_type": "code",
      "execution_count": 18,
      "metadata": {
        "colab": {
          "base_uri": "https://localhost:8080/"
        },
        "id": "32FRs2q_U3lP",
        "outputId": "3967da33-7e54-4ae4-f89a-80d753bc7065"
      },
      "outputs": [
        {
          "output_type": "stream",
          "name": "stdout",
          "text": [
            "\u001b[32mAccuracy score with RF: 0.8875\u001b[0m\n"
          ]
        }
      ],
      "source": [
        "clf = RandomForestClassifier(max_depth=20, random_state=0).fit(train_features, y_train)\n",
        "y_pred = clf.predict(test_features)\n",
        "print('\\033[32m' + 'Accuracy score with RF: '+str(accuracy_score(y_test, y_pred)) + '\\033[0m')"
      ]
    },
    {
      "cell_type": "markdown",
      "metadata": {
        "id": "eEJQXDS1U3lP"
      },
      "source": [
        "----\n",
        "## <b> 4.4 : Résultats en enlevant les features avec de la corrélation entre TS"
      ]
    },
    {
      "cell_type": "code",
      "execution_count": 19,
      "metadata": {
        "colab": {
          "base_uri": "https://localhost:8080/"
        },
        "id": "X-3iUTXSU3lQ",
        "outputId": "3de8f172-348c-46ac-d526-abe008f664aa"
      },
      "outputs": [
        {
          "output_type": "stream",
          "name": "stdout",
          "text": [
            "number of features: 159\n"
          ]
        }
      ],
      "source": [
        "# remove columns of train_features which contains 'FFT mean' in their name\n",
        "train_features.drop(train_features.columns[train_features.columns.str.contains('FFT mean')], axis=1, inplace=True)\n",
        "test_features.drop(test_features.columns[test_features.columns.str.contains('FFT mean')], axis=1, inplace=True)\n",
        "print(f\"number of features: {len(train_features.columns)}\")"
      ]
    },
    {
      "cell_type": "code",
      "source": [
        "corr_features = tsfel.correlated_features(train_features)\n",
        "train_features.drop(corr_features, axis=1, inplace=True)\n",
        "test_features.drop(corr_features, axis=1, inplace=True)\n",
        "print(f\"number of features: {len(train_features.columns)}\")\n",
        "print(f\"features names: {train_features.columns}\")\n",
        "clf = RandomForestClassifier(max_depth=20, random_state=0).fit(train_features, y_train)\n",
        "\n",
        "\n",
        "feature_importances = clf.feature_importances_\n",
        "\n",
        "# Create a DataFrame to display feature names and their importances\n",
        "importance_df = pd.DataFrame({'Feature': train_features.columns, 'Importance': feature_importances})\n",
        "\n",
        "# Sort the DataFrame by importance (descending order)\n",
        "importance_df = importance_df.sort_values(by='Importance', ascending=False)\n",
        "\n",
        "\n",
        "y_pred = clf.predict(test_features)\n",
        "accuracy_tsfel = accuracy_score(y_test, y_pred)\n",
        "print('\\033[32m' + 'Accuracy score with RF: '+str(accuracy_tsfel) + '\\033[0m')"
      ],
      "metadata": {
        "colab": {
          "base_uri": "https://localhost:8080/"
        },
        "id": "-Gq9ST0FH5Fl",
        "outputId": "7ac2e668-cf59-43c4-fb28-caeedcd2425e"
      },
      "execution_count": 20,
      "outputs": [
        {
          "output_type": "stream",
          "name": "stdout",
          "text": [
            "number of features: 149\n",
            "features names: Index(['freq_0_Absolute energy', 'freq_0_Area under the curve',\n",
            "       'freq_0_Average power', 'freq_0_Centroid', 'freq_0_ECDF_0',\n",
            "       'freq_0_Entropy', 'freq_0_Fundamental frequency', 'freq_0_Histogram_7',\n",
            "       'freq_0_Histogram_8', 'freq_0_Histogram_9',\n",
            "       ...\n",
            "       'date_0_Max', 'date_0_Mean absolute deviation', 'date_0_Median',\n",
            "       'date_0_Min', 'date_0_Peak to peak distance', 'date_0_Power bandwidth',\n",
            "       'date_0_Skewness', 'date_0_Spectral decrease',\n",
            "       'date_0_Spectral variation', 'date_0_Wavelet entropy'],\n",
            "      dtype='object', length=149)\n",
            "\u001b[32mAccuracy score with RF: 0.9025\u001b[0m\n"
          ]
        }
      ]
    },
    {
      "cell_type": "markdown",
      "metadata": {
        "id": "Ic74gkRpnMnq"
      },
      "source": [
        "----\n",
        "----\n",
        "# <b> 5 : CESIUM Library </b>"
      ]
    },
    {
      "cell_type": "markdown",
      "metadata": {
        "id": "ldgwDmUrqy3U"
      },
      "source": [
        "----\n",
        "## <b> 5.1 : Data Preparation </b>"
      ]
    },
    {
      "cell_type": "code",
      "execution_count": 23,
      "metadata": {
        "colab": {
          "base_uri": "https://localhost:8080/"
        },
        "id": "Jumbhe_vqyGo",
        "outputId": "ac134fe8-a8db-4ce6-dace-64d6e4774f0a"
      },
      "outputs": [
        {
          "output_type": "stream",
          "name": "stdout",
          "text": [
            "Number of training examples:  2000\n",
            "Number of test examples:  800\n"
          ]
        }
      ],
      "source": [
        "with open('/content/drive/MyDrive/TSFEL-LIBRARY/RADARS/radars_data/train_labels.json') as f:\n",
        "    dict_labels_train = json.load(f)\n",
        "    print('Number of training examples: ',len(dict_labels_train)) # number of training examples\n",
        "\n",
        "with open('/content/drive/MyDrive/TSFEL-LIBRARY/RADARS/radars_data/test_labels.json') as f:\n",
        "    dict_labels_test = json.load(f)\n",
        "    print('Number of test examples: ',len(dict_labels_test)) # number of test examples\n",
        "\n",
        "\n",
        "fs = 100\n",
        "\n",
        "y_train = np.zeros((len(dict_labels_train),1))\n",
        "y_test = np.zeros((len(dict_labels_test),1))\n",
        "freq_train, largeur_train, puissance_train, date_train = [], [], [], []\n",
        "freq_test, largeur_test, puissance_test, date_test = [], [], [], []\n",
        "\n",
        "for i in range(len(dict_labels_train)):\n",
        "    pdw = np.load('/content/drive/MyDrive/TSFEL-LIBRARY/RADARS/radars_data/train/pdw-'+str(i)+'.npz')\n",
        "    freq_train.append(pdw['frequence'])\n",
        "    largeur_train.append(pdw['largeur'])\n",
        "    puissance_train.append(pdw['puissance'])\n",
        "    date_train.append(pdw['date'])\n",
        "    if dict_labels_train[f'pdw-{i}'] == 'menace':\n",
        "        y_train[i] = 1\n",
        "    else:\n",
        "        y_train[i] = 0\n",
        "\n",
        "for i in range(len(dict_labels_test)):\n",
        "    pdw = np.load('/content/drive/MyDrive/TSFEL-LIBRARY/RADARS/radars_data/test/pdw-'+str(i)+'.npz')\n",
        "    freq_test.append(pdw['frequence'])\n",
        "    largeur_test.append(pdw['largeur'])\n",
        "    puissance_test.append(pdw['puissance'])\n",
        "    date_test.append(pdw['date'])\n",
        "    if dict_labels_test[f'pdw-{i}'] == 'menace':\n",
        "        y_test[i] = 1\n",
        "    else:\n",
        "        y_test[i] = 0\n",
        "\n",
        "y_train = y_train.ravel()\n",
        "y_test = y_test.ravel()\n"
      ]
    },
    {
      "cell_type": "markdown",
      "metadata": {
        "id": "bYdG0UThrhPw"
      },
      "source": [
        "----\n",
        "## <b> 5.2 : Feature Extraction </b>"
      ]
    },
    {
      "cell_type": "code",
      "execution_count": 24,
      "metadata": {
        "colab": {
          "base_uri": "https://localhost:8080/"
        },
        "id": "iIecquiisU3z",
        "outputId": "e8f9668f-41a2-4366-f033-2463d9aeb085"
      },
      "outputs": [
        {
          "output_type": "stream",
          "name": "stdout",
          "text": [
            "End of Training Features\n"
          ]
        }
      ],
      "source": [
        "from cesium import featurize\n",
        "\n",
        "features_to_use = [\n",
        "    \"amplitude\",\n",
        "    \"percent_beyond_1_std\",\n",
        "    \"maximum\",\n",
        "    \"max_slope\",\n",
        "    \"median\",\n",
        "    \"median_absolute_deviation\",\n",
        "    \"percent_close_to_median\",\n",
        "    \"minimum\",\n",
        "    \"skew\",\n",
        "    \"std\",\n",
        "    \"weighted_average\",\n",
        "]\n",
        "\n",
        "time_points = [np.arange(len(ts)) / fs for ts in freq_train]\n",
        "\n",
        "freq_train_features = featurize.featurize_time_series(times=time_points,\n",
        "                                                  values=freq_train,\n",
        "                                                  features_to_use=features_to_use)\n",
        "\n",
        "time_points = [np.arange(len(ts)) / fs for ts in largeur_train]\n",
        "\n",
        "largeur_train_features = featurize.featurize_time_series(times=time_points,\n",
        "                                                  values=largeur_train,\n",
        "                                                  features_to_use=features_to_use)\n",
        "\n",
        "time_points = [np.arange(len(ts)) / fs for ts in puissance_train]\n",
        "\n",
        "puissance_train_features = featurize.featurize_time_series(times=time_points,\n",
        "                                                  values=puissance_train,\n",
        "                                                  features_to_use=features_to_use)\n",
        "\n",
        "time_points = [np.arange(len(ts)) / fs for ts in date_train]\n",
        "\n",
        "date_train_features = featurize.featurize_time_series(times=time_points,\n",
        "                                                  values=date_train,\n",
        "                                                  features_to_use=features_to_use)\n",
        "\n",
        "print(\"End of Training Features\")\n",
        "\n",
        "time_points = [np.arange(len(ts)) / fs for ts in freq_test]\n",
        "\n",
        "freq_test_features = featurize.featurize_time_series(times = time_points,\n",
        "                                                       values=freq_test,\n",
        "                                                       features_to_use=features_to_use)\n",
        "\n",
        "time_points = [np.arange(len(ts)) / fs for ts in largeur_test]\n",
        "\n",
        "largeur_test_features = featurize.featurize_time_series(times=time_points,\n",
        "                                                  values=largeur_test,\n",
        "                                                  features_to_use=features_to_use)\n",
        "\n",
        "time_points = [np.arange(len(ts)) / fs for ts in puissance_test]\n",
        "\n",
        "puissance_test_features = featurize.featurize_time_series(times=time_points,\n",
        "                                                  values=puissance_test,\n",
        "                                                  features_to_use=features_to_use)\n",
        "\n",
        "time_points = [np.arange(len(ts)) / fs for ts in date_test]\n",
        "\n",
        "date_test_features = featurize.featurize_time_series(times=time_points,\n",
        "                                                  values=date_test,\n",
        "                                                  features_to_use=features_to_use)\n",
        "\n",
        "print(\"End of Test Features\")\n"
      ]
    },
    {
      "cell_type": "code",
      "execution_count": 25,
      "metadata": {
        "id": "cwTG6W3GvLIa"
      },
      "outputs": [],
      "source": [
        "train_feature = pd.concat([freq_train_features, largeur_train_features, puissance_train_features, date_train_features], axis=1)\n",
        "test_feature = pd.concat([freq_test_features, largeur_test_features, puissance_test_features, date_test_features], axis=1)"
      ]
    },
    {
      "cell_type": "code",
      "execution_count": 26,
      "metadata": {
        "id": "9OZQ6cxrvMsO"
      },
      "outputs": [],
      "source": [
        "# Remove low variance features\n",
        "selector = VarianceThreshold()\n",
        "X_train_Cesium = selector.fit_transform(train_features)\n",
        "X_test_Cesium = selector.transform(test_features)\n",
        "\n",
        "# Normalising Features\n",
        "scaler = preprocessing.StandardScaler()\n",
        "train_features = scaler.fit_transform(train_features)\n",
        "test_features = scaler.transform(test_features)\n"
      ]
    },
    {
      "cell_type": "markdown",
      "metadata": {
        "id": "qf1fRRMVvtrW"
      },
      "source": [
        "----\n",
        "## <b> 5.3 : Classification </b>"
      ]
    },
    {
      "cell_type": "code",
      "execution_count": 27,
      "metadata": {
        "colab": {
          "base_uri": "https://localhost:8080/"
        },
        "id": "BQshiX1Uvdzu",
        "outputId": "e22f11fc-d649-4740-d00c-5f910051369c"
      },
      "outputs": [
        {
          "output_type": "stream",
          "name": "stdout",
          "text": [
            "\u001b[32mAccuracy score with RF: 0.89625\u001b[0m\n"
          ]
        }
      ],
      "source": [
        "clf = RandomForestClassifier(max_depth=20, random_state=0).fit(train_features, y_train)\n",
        "y_pred = clf.predict(test_features)\n",
        "accuracy_cesium = accuracy_score(y_test, y_pred)\n",
        "print('\\033[32m' + 'Accuracy score with RF: '+str(accuracy_cesium) + '\\033[0m')"
      ]
    },
    {
      "cell_type": "markdown",
      "metadata": {
        "id": "nj4vALwTnVs-"
      },
      "source": [
        "----\n",
        "----\n",
        "# <b> 6 : TSFRESH Library </b>"
      ]
    },
    {
      "cell_type": "markdown",
      "metadata": {
        "id": "-ws7oYcfwhdX"
      },
      "source": [
        "## <b> 6.1 : Préparation des données </b>"
      ]
    },
    {
      "cell_type": "code",
      "execution_count": 28,
      "metadata": {
        "colab": {
          "base_uri": "https://localhost:8080/"
        },
        "id": "52XdSBovwn99",
        "outputId": "2b1ebbef-b15e-494f-fd28-8192448fbc37"
      },
      "outputs": [
        {
          "output_type": "stream",
          "name": "stdout",
          "text": [
            "Number of training examples:  2000\n",
            "Number of test examples:  800\n"
          ]
        }
      ],
      "source": [
        "with open('/content/drive/MyDrive/TSFEL-LIBRARY/RADARS/radars_data/train_labels.json') as f:\n",
        "    dict_labels_train = json.load(f)\n",
        "    print('Number of training examples: ',len(dict_labels_train)) # number of training examples\n",
        "\n",
        "with open('/content/drive/MyDrive/TSFEL-LIBRARY/RADARS/radars_data/test_labels.json') as f:\n",
        "    dict_labels_test = json.load(f)\n",
        "    print('Number of test examples: ',len(dict_labels_test)) # number of test examples\n",
        "\n",
        "\n",
        "fs = 100\n",
        "\n",
        "y_train = np.zeros((len(dict_labels_train),1))\n",
        "y_test = np.zeros((len(dict_labels_test),1))\n",
        "freq_train, largeur_train, puissance_train, date_train = [], [], [], []\n",
        "freq_test, largeur_test, puissance_test, date_test = [], [], [], []\n",
        "\n",
        "for i in range(len(dict_labels_train)):\n",
        "    pdw = np.load('/content/drive/MyDrive/TSFEL-LIBRARY/RADARS/radars_data/train/pdw-'+str(i)+'.npz')\n",
        "    freq_train.append(pdw['frequence'])\n",
        "    largeur_train.append(pdw['largeur'])\n",
        "    puissance_train.append(pdw['puissance'])\n",
        "    date_train.append(pdw['date'])\n",
        "    if dict_labels_train[f'pdw-{i}'] == 'menace':\n",
        "        y_train[i] = 1\n",
        "    else:\n",
        "        y_train[i] = 0\n",
        "\n",
        "for i in range(len(dict_labels_test)):\n",
        "    pdw = np.load('/content/drive/MyDrive/TSFEL-LIBRARY/RADARS/radars_data/test/pdw-'+str(i)+'.npz')\n",
        "    freq_test.append(pdw['frequence'])\n",
        "    largeur_test.append(pdw['largeur'])\n",
        "    puissance_test.append(pdw['puissance'])\n",
        "    date_test.append(pdw['date'])\n",
        "    if dict_labels_test[f'pdw-{i}'] == 'menace':\n",
        "        y_test[i] = 1\n",
        "    else:\n",
        "        y_test[i] = 0\n",
        "\n",
        "y_train = y_train.ravel()\n",
        "y_test = y_test.ravel()\n"
      ]
    },
    {
      "cell_type": "markdown",
      "metadata": {
        "id": "I-ROWtFvv2oa"
      },
      "source": [
        "----\n",
        "## <b> 6.2 : Dataframe creation </b>"
      ]
    },
    {
      "cell_type": "code",
      "execution_count": 29,
      "metadata": {
        "id": "iCJIgO_uv1sQ"
      },
      "outputs": [],
      "source": [
        "import tsfresh\n",
        "from tsfresh import extract_features\n",
        "from tsfresh.utilities.dataframe_functions import impute\n",
        "import pandas as pd\n",
        "\n",
        "data = []\n",
        "times_list = []\n",
        "ts = 1/100\n",
        "for i in range(len(freq_train)):\n",
        "  times_list.append(ts*j for j in range(len(freq_train[0])))\n",
        "\n",
        "# Iterate over each time series and its corresponding time list\n",
        "for i, (series, times) in enumerate(zip(freq_train, times_list)):\n",
        "    # Pair each time point with its corresponding value\n",
        "    for time_value, value in zip(times, series):\n",
        "        data.append({'id': i, 'time': time_value, 'value': value})\n",
        "\n",
        "# Creating the DataFrame\n",
        "df_freq_train = pd.DataFrame(data)\n",
        "\n",
        "data = []\n",
        "times_list = []\n",
        "ts = 1/100\n",
        "for i in range(len(freq_train)):\n",
        "  times_list.append(ts*j for j in range(len(largeur_train[0])))\n",
        "\n",
        "# Iterate over each time series and its corresponding time list\n",
        "for i, (series, times) in enumerate(zip(largeur_train, times_list)):\n",
        "\n",
        "    # Pair each time point with its corresponding value\n",
        "    for time_value, value in zip(times, series):\n",
        "        data.append({'id': i, 'time': time_value, 'value': value})\n",
        "\n",
        "# Creating the DataFrame\n",
        "df_largeur_train = pd.DataFrame(data)\n",
        "\n",
        "data = []\n",
        "times_list = []\n",
        "ts = 1/100\n",
        "for i in range(len(puissance_train)):\n",
        "  times_list.append(ts*j for j in range(len(puissance_train[0])))\n",
        "\n",
        "# Iterate over each time series and its corresponding time list\n",
        "for i, (series, times) in enumerate(zip(puissance_train, times_list)):\n",
        "    # Pair each time point with its corresponding value\n",
        "    for time_value, value in zip(times, series):\n",
        "        data.append({'id': i, 'time': time_value, 'value': value})\n",
        "\n",
        "# Creating the DataFrame\n",
        "df_puissance_train = pd.DataFrame(data)\n",
        "\n",
        "data = []\n",
        "times_list = []\n",
        "ts = 1/100\n",
        "for i in range(len(date_train)):\n",
        "  times_list.append(ts*j for j in range(len(date_train[0])))\n",
        "\n",
        "# Iterate over each time series and its corresponding time list\n",
        "for i, (series, times) in enumerate(zip(date_train, times_list)):\n",
        "\n",
        "    # Pair each time point with its corresponding value\n",
        "    for time_value, value in zip(times, series):\n",
        "        data.append({'id': i, 'time': time_value, 'value': value})\n",
        "\n",
        "# Creating the DataFrame\n",
        "df_date_train = pd.DataFrame(data)\n",
        "\n",
        "##### TEST #####\n",
        "\n",
        "data = []\n",
        "times_list = []\n",
        "ts = 1/100\n",
        "for i in range(len(freq_test)):\n",
        "  times_list.append(ts*j for j in range(len(freq_test[0])))\n",
        "\n",
        "# Iterate over each time series and its corresponding time list\n",
        "for i, (series, times) in enumerate(zip(freq_test, times_list)):\n",
        "    # if len(series) != len(times):\n",
        "    #     raise ValueError(f\"Length mismatch in series {i}: {len(series)} measurements, {len(times)} time points.\")\n",
        "\n",
        "    # Pair each time point with its corresponding value\n",
        "    for time_value, value in zip(times, series):\n",
        "        data.append({'id': i, 'time': time_value, 'value': value})\n",
        "\n",
        "# Creating the DataFrame\n",
        "df_freq_test = pd.DataFrame(data)\n",
        "\n",
        "data = []\n",
        "times_list = []\n",
        "ts = 1/100\n",
        "for i in range(len(freq_test)):\n",
        "  times_list.append(ts*j for j in range(len(largeur_test[0])))\n",
        "\n",
        "# Iterate over each time series and its corresponding time list\n",
        "for i, (series, times) in enumerate(zip(largeur_test, times_list)):\n",
        "\n",
        "    # Pair each time point with its corresponding value\n",
        "    for time_value, value in zip(times, series):\n",
        "        data.append({'id': i, 'time': time_value, 'value': value})\n",
        "\n",
        "# Creating the DataFrame\n",
        "df_largeur_test = pd.DataFrame(data)\n",
        "\n",
        "data = []\n",
        "times_list = []\n",
        "ts = 1/100\n",
        "for i in range(len(puissance_test)):\n",
        "  times_list.append(ts*j for j in range(len(puissance_test[0])))\n",
        "\n",
        "# Iterate over each time series and its corresponding time list\n",
        "for i, (series, times) in enumerate(zip(puissance_test, times_list)):\n",
        "\n",
        "    # Pair each time point with its corresponding value\n",
        "    for time_value, value in zip(times, series):\n",
        "        data.append({'id': i, 'time': time_value, 'value': value})\n",
        "\n",
        "# Creating the DataFrame\n",
        "df_puissance_test = pd.DataFrame(data)\n",
        "\n",
        "data = []\n",
        "times_list = []\n",
        "ts = 1/100\n",
        "for i in range(len(date_test)):\n",
        "  times_list.append(ts*j for j in range(len(date_test[0])))\n",
        "\n",
        "# Iterate over each time series and its corresponding time list\n",
        "for i, (series, times) in enumerate(zip(date_test, times_list)):\n",
        "\n",
        "    # Pair each time point with its corresponding value\n",
        "    for time_value, value in zip(times, series):\n",
        "        data.append({'id': i, 'time': time_value, 'value': value})\n",
        "\n",
        "# Creating the DataFrame\n",
        "df_date_test = pd.DataFrame(data)"
      ]
    },
    {
      "cell_type": "code",
      "execution_count": 30,
      "metadata": {
        "id": "yD62_4BXt5ky"
      },
      "outputs": [],
      "source": [
        "df_train = pd.concat([df_freq_train, df_date_train, df_puissance_train, df_largeur_train])\n",
        "df_test = pd.concat([df_freq_test, df_date_test, df_puissance_test, df_largeur_test])"
      ]
    },
    {
      "cell_type": "code",
      "execution_count": 31,
      "metadata": {
        "colab": {
          "base_uri": "https://localhost:8080/"
        },
        "id": "67v2J--Pus7S",
        "outputId": "a48103cb-0fe1-4d93-905c-63e43c43cc0b"
      },
      "outputs": [
        {
          "output_type": "stream",
          "name": "stdout",
          "text": [
            "(5234200, 3)\n"
          ]
        }
      ],
      "source": [
        "print(df_train.shape)"
      ]
    },
    {
      "cell_type": "markdown",
      "metadata": {
        "id": "8RrySfAfwpAo"
      },
      "source": [
        "----\n",
        "## <b> 6.3 : Feature Extraction </b>"
      ]
    },
    {
      "cell_type": "markdown",
      "metadata": {
        "id": "7InjuVxhviSx"
      },
      "source": [
        "### <b> 6.2.1 : Mini</b>"
      ]
    },
    {
      "cell_type": "code",
      "execution_count": 32,
      "metadata": {
        "colab": {
          "base_uri": "https://localhost:8080/"
        },
        "id": "exAqdRgevhar",
        "outputId": "3610c66c-a0c4-4bc2-c3e7-f26b24ff1f25"
      },
      "outputs": [
        {
          "output_type": "stream",
          "name": "stderr",
          "text": [
            "WARNING:tsfresh.feature_extraction.settings:Dependency not available for matrix_profile, this feature will be disabled!\n",
            "Feature Extraction: 100%|██████████| 2000/2000 [00:02<00:00, 699.07it/s]\n"
          ]
        },
        {
          "output_type": "stream",
          "name": "stdout",
          "text": [
            "Feature set type: <class 'pandas.core.frame.DataFrame'>\n",
            "Number of features extracted: 10\n",
            "Shape of the feature set: (2000, 10)\n"
          ]
        },
        {
          "output_type": "stream",
          "name": "stderr",
          "text": [
            "Feature Extraction: 100%|██████████| 800/800 [00:01<00:00, 558.61it/s]"
          ]
        },
        {
          "output_type": "stream",
          "name": "stdout",
          "text": [
            "Feature set type: <class 'pandas.core.frame.DataFrame'>\n",
            "Number of features extracted: 10\n",
            "Shape of the feature set: (800, 10)\n"
          ]
        },
        {
          "output_type": "stream",
          "name": "stderr",
          "text": [
            "\n"
          ]
        }
      ],
      "source": [
        "from tsfresh.feature_extraction import MinimalFCParameters,EfficientFCParameters\n",
        "from tsfresh import select_features,extract_features,extract_relevant_features\n",
        "from tsfresh.utilities.dataframe_functions import impute\n",
        "# Use MinimalFCParameters\n",
        "extraction_settings = MinimalFCParameters()\n",
        "\n",
        "# Feature extraction with error handling and progress information\n",
        "try:\n",
        "    X_train_Tsfresh_Mini = extract_features(df_train, column_id='id', column_sort='time', column_value='value',\n",
        "                                    default_fc_parameters=extraction_settings,\n",
        "                                    impute_function=impute,\n",
        "                                    )\n",
        "\n",
        "    print(\"Feature set type:\", type(X_train_Tsfresh_Mini))\n",
        "    print(\"Number of features extracted:\", len(X_train_Tsfresh_Mini.columns))\n",
        "    print(\"Shape of the feature set:\", X_train_Tsfresh_Mini.shape)\n",
        "\n",
        "    # Optionally, save the feature set to a file\n",
        "    # fset_tsfresh.to_csv('feature_set.csv')\n",
        "\n",
        "except Exception as e:\n",
        "    print(f\"An error occurred during feature extraction: {e}\")\n",
        "\n",
        "# Feature extraction with error handling and progress information\n",
        "try:\n",
        "    X_test_Tsfresh_Mini = extract_features(df_test, column_id='id', column_sort='time', column_value='value',\n",
        "                                    default_fc_parameters=extraction_settings,\n",
        "                                    impute_function=impute,\n",
        "                                    )\n",
        "\n",
        "    print(\"Feature set type:\", type(X_test_Tsfresh_Mini))\n",
        "    print(\"Number of features extracted:\", len(X_test_Tsfresh_Mini.columns))\n",
        "    print(\"Shape of the feature set:\", X_test_Tsfresh_Mini.shape)\n",
        "\n",
        "    # Optionally, save the feature set to a file\n",
        "    # fset_tsfresh.to_csv('feature_set.csv')\n",
        "\n",
        "except Exception as e:\n",
        "    print(f\"An error occurred during feature extraction: {e}\")\n",
        "\n"
      ]
    },
    {
      "cell_type": "code",
      "source": [
        "# Remove low variance features\n",
        "selector = VarianceThreshold()\n",
        "X_train_Tsfresh_Mini = selector.fit_transform(X_train_Tsfresh_Mini)\n",
        "X_test_Tsfresh_Mini = selector.transform(X_test_Tsfresh_Mini)\n",
        "\n",
        "# Normalising Features\n",
        "scaler = preprocessing.StandardScaler()\n",
        "X_train_Tsfresh_Mini = scaler.fit_transform(X_train_Tsfresh_Mini)\n",
        "X_test_Tsfresh_Mini = scaler.transform(X_test_Tsfresh_Mini)\n"
      ],
      "metadata": {
        "id": "o05DxQEeAGN0"
      },
      "execution_count": 33,
      "outputs": []
    },
    {
      "cell_type": "code",
      "source": [
        "clf = RandomForestClassifier(max_depth=20, random_state=0).fit(X_train_Tsfresh_Mini, y_train)\n",
        "y_pred = clf.predict(X_test_Tsfresh_Mini)\n",
        "accuracy_tsfresh_mini = accuracy_score(y_test, y_pred)\n",
        "print('\\033[32m' + 'Accuracy score with RF: '+str(accuracy_tsfresh_mini) + '\\033[0m')"
      ],
      "metadata": {
        "colab": {
          "base_uri": "https://localhost:8080/"
        },
        "id": "X2thlNdZIy9J",
        "outputId": "a5b389cb-854c-460b-be7f-74b42869f9d4"
      },
      "execution_count": 34,
      "outputs": [
        {
          "output_type": "stream",
          "name": "stdout",
          "text": [
            "\u001b[32mAccuracy score with RF: 0.67\u001b[0m\n"
          ]
        }
      ]
    },
    {
      "cell_type": "markdown",
      "source": [
        "### <b> 6.2.2 : Efficient</b>"
      ],
      "metadata": {
        "id": "jO9uLPrVInJP"
      }
    },
    {
      "cell_type": "code",
      "execution_count": 35,
      "metadata": {
        "colab": {
          "base_uri": "https://localhost:8080/"
        },
        "id": "TYE7o-JvvCjH",
        "outputId": "4270d641-f9c2-4d06-f153-b3da4efc861a"
      },
      "outputs": [
        {
          "output_type": "stream",
          "name": "stderr",
          "text": [
            "WARNING:tsfresh.feature_extraction.settings:Dependency not available for matrix_profile, this feature will be disabled!\n",
            "Feature Extraction: 100%|██████████| 2000/2000 [19:15<00:00,  1.73it/s]\n"
          ]
        },
        {
          "output_type": "stream",
          "name": "stdout",
          "text": [
            "Feature set type: <class 'pandas.core.frame.DataFrame'>\n",
            "Number of features extracted: 777\n",
            "Shape of the feature set: (2000, 777)\n"
          ]
        },
        {
          "output_type": "stream",
          "name": "stderr",
          "text": [
            "Feature Extraction: 100%|██████████| 800/800 [09:44<00:00,  1.37it/s]\n"
          ]
        },
        {
          "output_type": "stream",
          "name": "stdout",
          "text": [
            "Feature set type: <class 'pandas.core.frame.DataFrame'>\n",
            "Number of features extracted: 777\n",
            "Shape of the feature set: (800, 777)\n"
          ]
        }
      ],
      "source": [
        "from tsfresh.feature_extraction import MinimalFCParameters,EfficientFCParameters\n",
        "from tsfresh import select_features,extract_features,extract_relevant_features\n",
        "from tsfresh.utilities.dataframe_functions import impute\n",
        "# Use MinimalFCParameters\n",
        "extraction_settings = EfficientFCParameters()\n",
        "\n",
        "# Feature extraction with error handling and progress information\n",
        "try:\n",
        "    X_train_Tsfresh_Effi = extract_features(df_train, column_id='id', column_sort='time', column_value='value',\n",
        "                                    default_fc_parameters=extraction_settings,\n",
        "                                    impute_function=impute,\n",
        "                                    )\n",
        "\n",
        "    print(\"Feature set type:\", type(X_train_Tsfresh_Effi))\n",
        "    print(\"Number of features extracted:\", len(X_train_Tsfresh_Effi.columns))\n",
        "    print(\"Shape of the feature set:\", X_train_Tsfresh_Effi.shape)\n",
        "\n",
        "    # Optionally, save the feature set to a file\n",
        "    # fset_tsfresh.to_csv('feature_set.csv')\n",
        "\n",
        "except Exception as e:\n",
        "    print(f\"An error occurred during feature extraction: {e}\")\n",
        "\n",
        "# Feature extraction with error handling and progress information\n",
        "try:\n",
        "    X_test_Tsfresh_Effi = extract_features(df_test, column_id='id', column_sort='time', column_value='value',\n",
        "                                    default_fc_parameters=extraction_settings,\n",
        "                                    impute_function=impute,\n",
        "                                    )\n",
        "\n",
        "    print(\"Feature set type:\", type(X_test_Tsfresh_Effi))\n",
        "    print(\"Number of features extracted:\", len(X_test_Tsfresh_Effi.columns))\n",
        "    print(\"Shape of the feature set:\", X_test_Tsfresh_Effi.shape)\n",
        "\n",
        "    # Optionally, save the feature set to a file\n",
        "    # fset_tsfresh.to_csv('feature_set.csv')\n",
        "\n",
        "except Exception as e:\n",
        "    print(f\"An error occurred during feature extraction: {e}\")"
      ]
    },
    {
      "cell_type": "code",
      "execution_count": 36,
      "metadata": {
        "id": "_HQzhCkGxx6-"
      },
      "outputs": [],
      "source": [
        "# Remove low variance features\n",
        "selector = VarianceThreshold()\n",
        "X_train_Tsfresh_Effi = selector.fit_transform(X_train_Tsfresh_Effi)\n",
        "X_test_Tsfresh_Effi = selector.transform(X_test_Tsfresh_Effi)\n",
        "\n",
        "# Normalising Features\n",
        "scaler = preprocessing.StandardScaler()\n",
        "X_train_Tsfresh_Effi = scaler.fit_transform(X_train_Tsfresh_Effi)\n",
        "X_test_Tsfresh_Effi = scaler.transform(X_test_Tsfresh_Effi)\n"
      ]
    },
    {
      "cell_type": "code",
      "execution_count": 37,
      "metadata": {
        "colab": {
          "base_uri": "https://localhost:8080/"
        },
        "id": "TjewyhIEuZKc",
        "outputId": "5b7686b6-342b-468b-aca9-cc288f84ce53"
      },
      "outputs": [
        {
          "output_type": "stream",
          "name": "stdout",
          "text": [
            "\u001b[32mAccuracy score with RF: 0.77125\u001b[0m\n"
          ]
        }
      ],
      "source": [
        "clf = RandomForestClassifier(max_depth=20, random_state=0).fit(X_train_Tsfresh_Effi, y_train)\n",
        "y_pred = clf.predict(X_test_Tsfresh_Effi)\n",
        "accuracy_tsfresh_efficient = accuracy_score(y_test, y_pred)\n",
        "print('\\033[32m' + 'Accuracy score with RF: '+str(accuracy_tsfresh_efficient) + '\\033[0m')"
      ]
    },
    {
      "cell_type": "markdown",
      "metadata": {
        "id": "m19LKjBuU3lR"
      },
      "source": [
        "----\n",
        "----\n",
        "# <b> Analyse des résultats :</b>\n"
      ]
    },
    {
      "cell_type": "code",
      "source": [
        "methods = ['personalized','TSFEL','CESIUM','TSFRESH MINI','TSFRESH EFFICIENT']\n",
        "results = [accuracy_perso,accuracy_tsfel,accuracy_cesium,accuracy_tsfresh_mini,accuracy_tsfresh_efficient]\n",
        "\n",
        "# Create a DataFrame\n",
        "results_df = pd.DataFrame({\n",
        "    'Method': methods,\n",
        "    'Accuracy': results\n",
        "})\n",
        "\n",
        "# Display the DataFrame\n",
        "print(results_df)"
      ],
      "metadata": {
        "colab": {
          "base_uri": "https://localhost:8080/"
        },
        "id": "OrB12fXj_7pq",
        "outputId": "4b4a3b00-19db-4e28-c58a-65b7a557e739"
      },
      "execution_count": 38,
      "outputs": [
        {
          "output_type": "stream",
          "name": "stdout",
          "text": [
            "              Method  Accuracy\n",
            "0       personalized   0.88375\n",
            "1              TSFEL   0.90250\n",
            "2             CESIUM   0.89625\n",
            "3       TSFRESH MINI   0.67000\n",
            "4  TSFRESH EFFICIENT   0.77125\n"
          ]
        }
      ]
    },
    {
      "cell_type": "markdown",
      "metadata": {
        "id": "BjcOpJinU3lR"
      },
      "source": [
        "\n",
        "On observe que la même accuracy est obtenu avec les 2 méthodes. Pour un même résultat, voici les avantages et inconvénients de chacune des méthodes :\n",
        "\n",
        "Features personnalisés :\n",
        "+ <span style=\"color: #26B260\">Performant en temps de calcul et en espace mémoire</span>\n",
        "+ <span style=\"color: #26B260\">Facilite l'analyse des résultats</span>\n",
        "- <span style=\"color: #DC3546\">Nécessite plus d'expertise (compréhension du dataset)</span>\n",
        "\n",
        "Features génériques :\n",
        "+ <span style=\"color: #26B260\">Facile à utiliser et peut être appliqués sur de nombreux dataset</span>\n",
        "- <span style=\"color: #DC3546\">Nécessite plus de puissance de calcul (donc plus de temps et d'énergie), et d'espace mémoire</span>\n",
        "- <span style=\"color: #DC3546\">Rends l'analyse de résultats plus opaques</span>\n",
        "\n",
        "\n",
        "\n",
        "En résumé, les features génériques sont plus performantes sur deux petits dataset (car l'explosition en temps de calcul et en mémoire peut être plus facilement évité), tandis que l'utilisation de features personalisés seront plus pertinantes sur de grands datasset"
      ]
    }
  ],
  "metadata": {
    "colab": {
      "provenance": [],
      "collapsed_sections": [
        "OjLdlRDDlBDd",
        "l7MKnaQ3U3lC",
        "AVFoo4zCU3lF",
        "Ic74gkRpnMnq",
        "ldgwDmUrqy3U",
        "m19LKjBuU3lR"
      ]
    },
    "kernelspec": {
      "display_name": "Python 3",
      "language": "python",
      "name": "python3"
    },
    "language_info": {
      "codemirror_mode": {
        "name": "ipython",
        "version": 3
      },
      "file_extension": ".py",
      "mimetype": "text/x-python",
      "name": "python",
      "nbconvert_exporter": "python",
      "pygments_lexer": "ipython3",
      "version": "3.11.6"
    }
  },
  "nbformat": 4,
  "nbformat_minor": 0
}