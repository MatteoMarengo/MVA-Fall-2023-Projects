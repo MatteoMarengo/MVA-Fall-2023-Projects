{
  "nbformat": 4,
  "nbformat_minor": 0,
  "metadata": {
    "colab": {
      "provenance": [],
      "collapsed_sections": [
        "H2W4g5pvb9nu",
        "ct6eTDmvkant",
        "FnQN1QM7Tdqb",
        "BxC1dNMbVakV",
        "ftc19K0ZcbcX",
        "Ujihz690TFCs",
        "brZhrta3DI64",
        "VFsgjJ_IiWVc",
        "gujnZlecYFwd",
        "ieNh5qh8Squl",
        "PofcEPjwCvxU",
        "m9pF5oTSumQ3",
        "gowB0tpXSV_A",
        "MGk5Px98T2pR"
      ],
      "toc_visible": true
    },
    "kernelspec": {
      "name": "python3",
      "display_name": "Python 3"
    },
    "language_info": {
      "name": "python"
    }
  },
  "cells": [
    {
      "cell_type": "markdown",
      "source": [
        "# 🚥 Multi-frame image processing\n",
        "\n",
        "Author: [Balthazar Neveu](balthazarneveu@gmail.com)\n",
        "\n",
        "[Powerpoint presentation](https://docs.google.com/presentation/d/1aJnWTmthv8OmjI7jfUjGIaKsYJYk80_P/edit?usp=share_link&ouid=107424034863786906577&rtpof=true&sd=true) | [Lighter powerpoint](https://docs.google.com/presentation/d/1s720gUXFqbLhahz7etdaUsq97Fb5PABZ/edit?usp=drive_link&ouid=107424034863786906577&rtpof=true&sd=true)\n",
        "\n",
        "[MVA \"The machine intelligence of images\"](https://www.master-mva.com/cours/the-machine-intelligence-of-images/)\n",
        "- First class Second semester = March 2023\n",
        "- Next class First semester = November 10th 2023\n"
      ],
      "metadata": {
        "id": "uGfWfk--UpSA"
      }
    },
    {
      "cell_type": "markdown",
      "source": [
        "-------------------\n",
        "\n",
        "# ⚓ Overview\n",
        "\n",
        "# Intro\n",
        "- Quick overview of some applications: When does your camera need to use multiple frames?\n",
        "  - Photo: Temporal Noise Reduction, High Dynamic Range images, Panorama, multi-cameras fusion, Multi-Frames Super Resolution,…\n",
        "  - Video : Video stabilization, Camera Controls (smoothing, motion blur …)\n",
        "\n",
        "# Image formation model\n",
        "\n",
        "- Image formation model during camera motion\n",
        "  - Pinhole model\n",
        "  - Camera motion\n",
        "    - 3D rotation (panorama)\n",
        "    - translation (synthetic bokeh effect)\n",
        "  - IMU revolution & video stabilization\n",
        "    - Inertial Measurement Unit (IMU)\n",
        "    - Gyro based stabilization\n",
        "  - The real camera\n",
        "    - Distortion\n",
        "    - Auto-focus & lens breathing\n",
        "    - OIS\n",
        "    - Electronic rolling shutter (ERS)\n",
        "\n",
        "## How to measure camera motion?\n",
        "- Parametric Motion Models\n",
        "  - Global model fitting from a vector field:\n",
        "    - Block matching\n",
        "    - Example of a practical implementation (low memory context)\n",
        "       - feature points  (\"SIFT\")\n",
        "       - 1D profiles matching…\n",
        "\n",
        "- Optical Flow\n",
        "  - Principle and usage\n",
        "  - Traditional methods (Lucas Kanade VS Horn Schunck)\n",
        "  - CNN-based methods (PWC-Net for the flow)\n",
        "\n",
        "\n",
        "## Multi-frames applications\n",
        "- Practical implementation of a Temporal Noise Reduction (TNR) and ghosts management\n",
        "- Multi-Frames Super Resolution (MFSR)\n",
        "  - Using aliasing as an ally\n",
        "  - Handheld burst super resolution\n",
        "  - Deep burst super resolution (DBSR)"
      ],
      "metadata": {
        "id": "H2W4g5pvb9nu"
      }
    },
    {
      "cell_type": "markdown",
      "source": [
        "# 🔖 Reading list\n",
        "------------------------------\n",
        "- [Digital Video Stabilization and Rolling Shutter Correction using Gyroscope](https://graphics.stanford.edu/papers/stabilization/karpenko_gyro.pdf) (*Karpenko 2011*)\n",
        "- [PWC-Net -  optical flow](https://arxiv.org/abs/1709.02371) *(Sun 2017)*\n",
        "- [Hanhdeld burst super resolution](https://arxiv.org/pdf/1905.03277.pdf) (*Wronsky 2019*) + *Recently re-implemented from scratch by [Ipol 2023](https://www.ipol.im/pub/pre/460/)*\n",
        "- [Deep burst super resolution](https://arxiv.org/pdf/2101.10997.pdf) *(Goutam 2021)*\n",
        "- [Unsupervised demosaicing+denoising](https://arxiv.org/abs/1905.05092) *(Ehret 2019)*\n",
        "\n",
        "---------------------------"
      ],
      "metadata": {
        "id": "ct6eTDmvkant"
      }
    },
    {
      "cell_type": "markdown",
      "source": [
        "# 1. 📷 Image formation model"
      ],
      "metadata": {
        "id": "5wRgNdUbSwuW"
      }
    },
    {
      "cell_type": "markdown",
      "source": [
        "## Pinhole model\n",
        "Making sure you understand OpenCV's pinhole camera description.\n",
        "![OpenCV's pinhole camera description](https://docs.opencv.org/3.4/pinhole_camera_model.png)\n",
        "## Intrinsic matrix\n",
        "$K = \\begin{bmatrix}\n",
        "f, 0, \\frac{W}{2} \\\\\n",
        "0, f, \\frac{H}{2} \\\\\n",
        "0, 0, 1\\end{bmatrix}$\n",
        "\n",
        "* where f is the focal (expressed in pixels $f=\\frac{focal \\space length_{metric}}{pixel\\space pitch}$)\n",
        "* W & H the width & height of the image\n",
        "\n",
        "Remember the axes:\n",
        "* ➡ X toward the right side\n",
        "* ⬇ Y toward the bottom (matrices, rows toward the bottom! The Eiffel Tower measures -300m in the openCV convention 😉)\n",
        "* ↖ Z forward = towards the scene.\n",
        "\n",
        "## Projection rule\n",
        "$\\vec{x}=[u, v, 1]^T= K. \\vec{X} $\n",
        "where $\\vec{X} = [X, Y, Z]^T$"
      ],
      "metadata": {
        "id": "FnQN1QM7Tdqb"
      }
    },
    {
      "cell_type": "markdown",
      "source": [
        "## Camera under pure rotation\n",
        "\n",
        "Under pure rotation, the projective transform is an homography.\n",
        "$H = KQK^{-1}$ where:\n",
        "* Q is a 3D rotation matrix\n",
        "* K is the intrinsic matrix\n",
        "* H is a 3x3 matrix (*remember the homogeneous coordinates system, you need to divide the first & two coordinates by the third one*)"
      ],
      "metadata": {
        "id": "BxC1dNMbVakV"
      }
    },
    {
      "cell_type": "markdown",
      "source": [
        "## From pinhole theoretical model to the real camera\n",
        "\n",
        "\n",
        "\n",
        "--------------------------\n"
      ],
      "metadata": {
        "id": "ftc19K0ZcbcX"
      }
    },
    {
      "cell_type": "markdown",
      "source": [
        "### References\n",
        "- A short overview of [Fisheye distortion models](https://wiki.panotools.org/Fisheye_Projection) | Detailed explanation on [fisheye projection models](http://michel.thoby.free.fr/Fisheye_history_short/Projections/Models_of_classical_projections.html)\n",
        "- Rolling shutter correction [Removing Rolling Shutter Wobble (Baker 2010) Figure 4](https://www.microsoft.com/en-us/research/wp-content/uploads/2010/03/main.pdf)"
      ],
      "metadata": {
        "id": "Ujihz690TFCs"
      }
    },
    {
      "cell_type": "markdown",
      "source": [
        "### Distortion models\n",
        "* Pinhole $r = f.tan(\\theta)$ (distortion free)\n",
        "* Stereographic $r = 2. f.tan(\\frac{\\theta}{2})$ (like the samyang 8mm)\n",
        "* Equidistant $r = f.\\theta$ (widest fisheyes like Peleng 8mm)"
      ],
      "metadata": {
        "id": "brZhrta3DI64"
      }
    },
    {
      "cell_type": "code",
      "source": [
        "import matplotlib.pyplot as plt\n",
        "import numpy as np"
      ],
      "metadata": {
        "id": "egpWI_iRf2ED"
      },
      "execution_count": null,
      "outputs": []
    },
    {
      "cell_type": "code",
      "source": [
        "x_angle = np.linspace(0, 100, 180)\n",
        "x_angle_rad = np.deg2rad(x_angle)\n",
        "plt.figure(figsize=(10,10))\n",
        "plt.plot(x_angle, x_angle, label=\"Pinhole\")\n",
        "plt.plot(x_angle, np.rad2deg(np.arctan(2.*np.tan(x_angle_rad/2.))), label=\"Stereographic (Samyang)\")\n",
        "plt.plot(x_angle, np.rad2deg(np.arctan(x_angle_rad)), label=\"Equidistant (Peleng 8mm)\")\n",
        "plt.xlabel(\"Incident angle (°)\")\n",
        "plt.ylabel(\"Distorted angle (°)\")\n",
        "plt.legend()\n",
        "plt.grid()\n",
        "plt.axis('equal')\n",
        "plt.show()"
      ],
      "metadata": {
        "colab": {
          "base_uri": "https://localhost:8080/",
          "height": 606
        },
        "id": "mbHDJgM2cf84",
        "outputId": "965b3e29-9043-40c4-8f6c-56538c2df82a"
      },
      "execution_count": null,
      "outputs": [
        {
          "output_type": "display_data",
          "data": {
            "text/plain": [
              "<Figure size 720x720 with 1 Axes>"
            ],
            "image/png": "[encoded data removed]"
          },
          "metadata": {
            "needs_background": "light"
          }
        }
      ]
    },
    {
      "cell_type": "code",
      "source": [
        "x_angle = np.linspace(0, 89, 180)\n",
        "x_angle_rad = np.deg2rad(x_angle)\n",
        "plt.figure(figsize=(10,10))\n",
        "plt.plot(x_angle, np.tan(x_angle_rad), label=\"Pinhole\")\n",
        "plt.plot(x_angle, 2.*np.tan(x_angle_rad/2.), label=\"Stereographic (Samyang)\")\n",
        "plt.plot(x_angle, x_angle_rad, label=\"Equidistant (Peleng 8mm)\")\n",
        "plt.xlabel(\"Incident angle (°)\")\n",
        "plt.ylabel(\"Distorted radius / focal\")\n",
        "plt.legend()\n",
        "plt.ylim(0., 2.)\n",
        "plt.grid()\n",
        "plt.show()"
      ],
      "metadata": {
        "colab": {
          "base_uri": "https://localhost:8080/",
          "height": 610
        },
        "id": "ziHrlLoqf4J-",
        "outputId": "6a59355c-3f5d-420b-94ee-50d46e2d08af"
      },
      "execution_count": null,
      "outputs": [
        {
          "output_type": "display_data",
          "data": {
            "text/plain": [
              "<Figure size 720x720 with 1 Axes>"
            ],
            "image/png": "[encoded data removed]"
          },
          "metadata": {
            "needs_background": "light"
          }
        }
      ]
    },
    {
      "cell_type": "markdown",
      "source": [
        "## Disparity and synthetic bokeh effect\n"
      ],
      "metadata": {
        "id": "WXry1AbPTS_O"
      }
    },
    {
      "cell_type": "markdown",
      "source": [
        "### Synthetic bokeh effect\n",
        "Evaluation of the bokeh effect / portrait mode at DxO Mark :\n",
        "[Whitepaper](https://corp.dxomark.com/wp-content/uploads/2018/02/2018_EI_Image-quality-benchmark-of-computational-bokeh_small.pdf)\n",
        "\n",
        "\n",
        "Most smartphone now have multiple cameras so stereo vision is a the most popular approach to get this effect.\n",
        "\n",
        "There may be some other approaches though such as:\n",
        "* monocular vision (= computer vision)\n",
        "* stereo from dual pixels (used for autofocus usually, baseline is super tiny ~ aperture)\n",
        "* use several frames:\n",
        "  * a single camera & ask the user to perform a translational motion\n",
        "  * use [depth from focus](https://www.youtube.com/watch?v=A-fgaR7vJ-w) (e.g.capture 2 pictures for instance at macro position & at far distance position)\n",
        "\n",
        "Academic work:\n",
        "* [Synthetic bokeh from a single camera](https://arxiv.org/pdf/1806.04171.pdf)\n",
        "* [Learning Single Camera Depth Estimation using Dual-Pixels](https://arxiv.org/pdf/1904.05822.pdf) Use dual phase pixels to help depth estimation\n",
        "* \"recent\" reference  [Bokeh Me](https://github.com/JuewenPeng/BokehMe) : jointly learn to solve depth estimation and the blur application problem.\n",
        "* Rendering Natural Camera Bokeh Effect with Deep Learning\n",
        "Dataset from ETH Zurich / AIM workshope : [pairs of wide aperture (bokeh) / small aperture (high dof)](https://arxiv.org/abs/2006.05698)\n",
        "\n",
        "\n",
        "\n"
      ],
      "metadata": {
        "id": "VFsgjJ_IiWVc"
      }
    },
    {
      "cell_type": "markdown",
      "source": [
        "### Deep learning for deph estimation\n",
        "Note: a lot of research in this domain is related to autonomous driving (because depth is important for pedestrians & other vehicles detection), so you'll see most of the time references to the KITTI dataset & driving videos basically...\n",
        "* Zbontar & Lecun introduced back in [2014](https://arxiv.org/pdf/1409.4326.pdf) the idea that the task of stereo matching could be better approached using learnt feature maps (use the same CNN to process left & right image pairs to compute discriminative features).\n",
        "* Later, the idea was pushed further by formulating the whole depth estimation problem as an end-to-end learning problem. Here's a [work from Alex Kendal & his team](https://openaccess.thecvf.com/content_ICCV_2017/papers/Kendall_End-To-End_Learning_of_ICCV_2017_paper.pdf) which I found very inspiring because it mixes deep learning & classical geometry. Feature maps are still extracted from left/right image pairs using siamese CNN but it's just the begining of a whole differentiable & learnable chain. Cost volumes are built and processed using convolutions, soft-argmin is extracted.\n",
        "\n",
        "### Monocular depth estimation\n",
        "Monocular depth estimation is the task of estimating depth from a single camera.\n",
        "It is useful when there are no stereo systems, for example to blur the background on selfie cameras or during a video meeting.\n",
        "\n",
        "Two interesting approaches to this problem use unsupervised learning (no need for groundtruth depth labels).\n",
        "- [Unsupervised Monocular Depth Estimation With Left-Right Consistency](https://youtu.be/jI1Qf7zMeIs): use a stereo dataset & a stereo reconstruction loss to teach the network how to learn monocular depth estimation.\n",
        "- [Unsupervised Learning of Depth and Ego-Motion From Video ](https://www.youtube.com/watch?v=HWu39YkGKvI): uses videos in the wild (not stereo camera) to jointly estimate a monocular depth map & relative camera poses at training time. Network is taught how to reproject & reconstruct the next/previous frames. The structure from motion problem is used at training time to be able to learn depth data without explicit access to it.\n",
        "\n",
        "⚡ Both these approaches use a warper in their reconstruction loss. To perform gradient descent, this sampling operator needs to be \"differentiable\".\n",
        "\n",
        "👓 Refer to [torch.nn.functional.grid_sample](https://pytorch.org/docs/stable/generated/torch.nn.functional.grid_sample.html) to use the bilinear sampler which was introduced in [Spatial Transformer Networks](https://arxiv.org/abs/1506.02025) back in 2015 in a whole different context. Note that optical flow networks (such as PWC-Net) also use the warp operation a lot so how gradients flow through this differentiable sampling operation is worth checking & understanding correctly."
      ],
      "metadata": {
        "id": "gujnZlecYFwd"
      }
    },
    {
      "cell_type": "markdown",
      "source": [
        "# 2. 📹 Measuring motion"
      ],
      "metadata": {
        "id": "hF4qpZU4j2t4"
      }
    },
    {
      "cell_type": "markdown",
      "source": [
        "## MEMs IMU\n",
        "* **IMU : inertial measurement unit**\n",
        "  * gyroscope measures angular rates.\n",
        "  * accelerometer measures gravity vector (projected in the device referential) + linear acceleation.\n",
        "  * an optional magnetometer acts as a compass.\n",
        "* How were IMU made so tiny (package size ~3x3x1mm³) ? MEMs (micro electronic micro systems) was a revolution. These amazing components became popular & cheap thanks to inkjet nozzles & accelerometers in every car airbag.\n",
        "* How do these miniaturized IMU work? a nice explanatory video on [MEMS IMU technology](https://www.youtube.com/watch?v=eqZgxR6eRjo&t=111s)\n",
        "* What are the typical specs of an IMU in a smartphone device? Check [Bosch BMI-270](https://www.bosch-sensortec.com/products/motion-sensors/imus/bmi270/) datasheet for a good example, ST or Invensense.\n",
        "* What do these datasheets specs mean?\n",
        "  * dps = degrees per second\n",
        "  * ODR = on demand rate = frequency (e.g 1kHz gyro measurements are incredibly fast & accurate)\n",
        "  * ZRO = zero rate offset -> gyro static \"bias\" (you leave the phone on the table and the gyro thinks it's rotating slowly).\n",
        "  * TCO = temperature compensated offset = manufacturers perform calibrations regarding temperature and store these in the IMU memory. But when the component is soldered, usually everything that was calibrated is not fully valid no more.\n",
        "\n",
        "* Can you calibrate the IMU?\n",
        "  * yes, for instance a simple ZRO calibration when the device is at rest: keep the device static & measure the bias.\n",
        "  * online calibration using sensor fusion (example: re-estimate gyroscope parameters by cross checking with accelerometer signals... magnetometer & potentially GPS)"
      ],
      "metadata": {
        "id": "ieNh5qh8Squl"
      }
    },
    {
      "cell_type": "code",
      "source": [
        "# Gyro resolution : 0.004 dps/LSB on 16bits -> 1 bit measures 0.004 °/s\n",
        "print(f\"Maximal resolution 0.004dps/LSB , 16 signed bits ->  +/-{0.004*(2**(16-1)):.1f} dps\")\n",
        "# But if you reduce resolution, you can gain on total range, go up to ±2000 dps\n",
        "# 2000.dps  # a washing machine spins at 1200 rates / minute\n",
        "print(f\"125 dps = {125/360:.1f} rates per second -> {125/360*60:.1f} rate per minute \")\n",
        "print(f\"Decrease resolution, increase dynamic range up to +/-2000 dps = {2000/360:.1f} rates per second -> {2000/360*60:.1f} rate per minute \")"
      ],
      "metadata": {
        "colab": {
          "base_uri": "https://localhost:8080/"
        },
        "id": "ZOZsc15EI_oA",
        "outputId": "cf74a0ff-f160-413f-c111-e59a730da4c0"
      },
      "execution_count": null,
      "outputs": [
        {
          "output_type": "stream",
          "name": "stdout",
          "text": [
            "Maximal resolution 0.004dps/LSB , 16 signed bits ->  +/-131.1 dps\n",
            "125 dps = 0.3 rates per second -> 20.8 rate per minute \n",
            "Decrease resolution, increase dynamic range up to +/-2000 dps = 5.6 rates per second -> 333.3 rate per minute \n"
          ]
        }
      ]
    },
    {
      "cell_type": "markdown",
      "source": [
        "## IMU based Video stabilization\n",
        "- Seminal work on [gyroscope base video stabilization](https://graphics.stanford.edu/papers/stabilization/karpenko_gyro.pdf) done at Stanford\n",
        "\n",
        "- An illustrated article of the [unreleased DxO One video stabilization prototype](https://www.linkedin.com/pulse/secret-dxo-one-unreleased-feature-smooth-videos-tiny-108gr-neveu/).  - [Demo video](https://www.youtube.com/watch?v=7Ptd2h0s3_Y)\n",
        "\n"
      ],
      "metadata": {
        "id": "PofcEPjwCvxU"
      }
    },
    {
      "cell_type": "markdown",
      "source": [
        "## Global transform estimation\n",
        "-----------\n",
        "### 2D Block matching\n",
        "Block matching searches for the position offset which minimizes the distance between the candidate (template) patch and a reference image. This technique is extensively used in video encoders and there are hardware accelerations to do so.\n",
        "There are a few limitations with block matching:\n",
        "- Computation cost\n",
        "- Local only: No regularization\n",
        "- Not able to estimate anything else than translations.\n",
        "\n",
        "**Speed up?** Minimizing L² distance can be accelerated. Maximizing correlation and this can be accelerated using FFT (see. [phase correlation](https://en.wikipedia.org/wiki/Phase_correlation) and [section 3 of HDR+ supplemental material](https://static.googleusercontent.com/media/hdrplusdata.org/fr//hdrplus_supp.pdf)).\n",
        "\n",
        "**Translations only ?** A trick to get an actual global transform is to perform block matching on many blocks and get a vector field $\\vec{u_{t}}$ on a regular grid. Then you can actually fit your global transform to your vector field  . (e.g. for an 8 degrees of freedom homography $ H \\vec{x_{t}} = \\vec{x_{t}} + \\vec{u_{t}}$, you'll need at least 4 points)\n",
        "\n",
        "-----------\n",
        "\n",
        "\n",
        "### Concrete problem: motion estimation on a low budget\n",
        "Estimate motion on a 1920x1080p (full HD) YUV video stream (~3Mb per YUV 4:2:0 frame) with under 200kbytes of allocated \"context\" memory between each call to your algorithm. This is the kind of constraint a Third party algorithm vendor would get from an smartphone company. Basically, you can't keep the whole previous frame.\n",
        "* Why not extracting [SIFT](https://fr.wikipedia.org/wiki/Scale-invariant_feature_transform) descriptors? (you keep only the most salient points and their associated feature vector).\n",
        "* Block matching requires keeping the original image content. Working on thumbnails could work but one may loose a bit of accuracy during motion estimation due to the downsampling operation.\n",
        "* Another alternative is to perform 1D profiles correlations (2*1D profile matching instead of 2D block matching)."
      ],
      "metadata": {
        "id": "m9pF5oTSumQ3"
      }
    },
    {
      "cell_type": "code",
      "source": [
        "h, w = 1920, 1080\n",
        "n = 6\n",
        "# image is slidced into 6x6 (320px x 180px) blocks\n",
        "profile_y, profile_x = h/6, w/6\n",
        "# on each block, we'll compute the 1D profile by getting the 1D average.\n",
        "# Information is simply reduced to\n",
        "float_32_in_bytes = 4\n",
        "print(f\"Image information is simply reduced to\\n{n*n*(profile_y+profile_x)*2*float_32_in_bytes/(2**10):.2f} kb stored 2 x 1D float32 profiles x ({n} x {n} blocks)\\neach block of size {profile_x:.0f}x{profile_y:.0f} pixels\")"
      ],
      "metadata": {
        "colab": {
          "base_uri": "https://localhost:8080/"
        },
        "id": "ZmB9AOU0viFj",
        "outputId": "57dde6b4-b8ea-4d06-e1bb-a02a006bf9c7"
      },
      "execution_count": null,
      "outputs": [
        {
          "output_type": "stream",
          "name": "stdout",
          "text": [
            "Image information is simply reduced to\n",
            "140.62 kb stored 2 x 1D float32 profiles x (6 x 6 blocks)\n",
            "each block of size 180x320 pixels\n"
          ]
        }
      ]
    },
    {
      "cell_type": "markdown",
      "source": [
        "# Optical flow\n",
        "\n",
        "There are more advanced ways to tackle motion estimation.\n",
        "Optical flow is a dense motion vector field.\n",
        "\n",
        "- Variational approaches formulate optical flow estimation as an energy minimization problem. Main component (the data term) is based on the \"brightness constancy\" assumption. A certain regularity on the flow (like gradient smoothness) is imposed to solve the ill-posed nature of this problem.\n",
        "- Recent learning based methods directly learn a mapping from image pairs to optical flow. Dataset are made of synthetic videos + optical flow such as the  [Sintel dataset](http://sintel.is.tue.mpg.de/) or [Spring (CVPR 2023)](https://arxiv.org/pdf/2303.01943.pdf)."
      ],
      "metadata": {
        "id": "iKmxtyQbbzlz"
      }
    },
    {
      "cell_type": "markdown",
      "source": [
        "## Foundations\n",
        "- Variational methods:\n",
        "  - [Horn-Schunk multi-scale](http://www.ipol.im/pub/art/2013/20)\n",
        "  - [Secrets of optical flow](https://medium.com/@black_51980/the-secrets-of-the-secrets-of-optical-flow-45938d0964af) : an interesting blogpost by **Michael Black** on his methodology of analyzing the key components of classical optical flow methods. Completes a very detailed 1 hour 20 minutes long [talk on optical flow](https://www.youtube.com/watch?v=tIwpDuqJqcE).\n",
        "- Patch based methods\n",
        "  - [Lucas Kanade](https://www.ri.cmu.edu/pub_files/pub3/baker_simon_2002_3/baker_simon_2002_3.pdf) also uses the brightness constancy to derive an iterative solution but regularity is enforced at the level of a patch (or globally on the image)... this implies that the optical flow is parametrized using a simple transform.\n",
        "  - Many speed ups have been proposed including [The Inverse Compositional Algorithm for Parametric\n",
        "Registration](https://www.ipol.im/pub/art/2016/153/article.pdf) which avoids some costly operations."
      ],
      "metadata": {
        "id": "jDyMz9MeyxF2"
      }
    },
    {
      "cell_type": "code",
      "source": [],
      "metadata": {
        "id": "WfDC_VQ6VHqH"
      },
      "execution_count": null,
      "outputs": []
    },
    {
      "cell_type": "markdown",
      "source": [
        "## Learning based optical flow methods\n",
        "- [PWC-Net -  optical flow](https://arxiv.org/abs/1709.02371)\n",
        "![PWC Net](https://research.nvidia.com/sites/default/files/styles/wide/public/publications/pwcnet_0.png?itok=GgRFqmGN)\n",
        "  - Feature Pyramid:\n",
        "    - multiscale approach (downsampling \"reduces\" the magnitude of the motion to search)\n",
        "    - replace image pyramids by feature maps which are best suited for optical flow computation.\n",
        "  - Warp (non trainable)\n",
        "    - Refine estimations\n",
        "    - Refer to [torch.nn.functional.grid_sample](https://pytorch.org/docs/stable/generated/torch.nn.functional.grid_sample.html) to use the bilinear sampler which was introduced in [Spatial Transformer Networks](https://arxiv.org/abs/1506.02025) back in 2015 in a whole different context.\n",
        "  - Cost volume\n",
        "    - Correlation volume construction is not trainable.\n",
        "    - ΔX & ΔY is the horizon search (here +/-4 pixels)\n",
        "    - A cost volume shall have a dimension of ΔX, ΔY,H, W but here the authors flatten the 2D costs so the tensor is ΔX*ΔY , H, W . (ΔX * ΔY =9²)\n",
        "    - This looks like a classical image tensor (no use of 3D convolutions)... so this cost volume can be processed with a standard CNN which will take care of reducing these 91 channels to 2 channels (going from the cost volume to the optical flow tensor)\n",
        "  - A 2022 paper by [Deqin Sun](https://arxiv.org/abs/2203.10712) (the author of PWC Net) analyzes that training details can still seriously improve\n",
        "\n",
        "- [RAFT](https://arxiv.org/abs/2003.12039) mimicks iterative approaches seen in variation approaches to optical flow estimation. \"R\" stands for recurrent as in recurrent & RNN... It achieved SOTA results and got best paper award at ECCV2020.\n",
        "\n",
        "- Please note that Optical Flow can also be learnt in an unsupervised manner (please refer to the section on monocular depth estimation to get more intuition)."
      ],
      "metadata": {
        "id": "QsJu0rHpnNoI"
      }
    },
    {
      "cell_type": "markdown",
      "source": [
        "# 3. 🔍 Multiframe super resolution"
      ],
      "metadata": {
        "id": "Ol4ZoS8iSMYB"
      }
    },
    {
      "cell_type": "markdown",
      "source": [
        "## Traditional approach\n",
        "* [Handheld Multi-frame Super-resolution](https://sites.google.com/view/handheld-super-res)\n",
        "* [Peyman Milanfar's keynote at ECCV2020](https://data.vision.ee.ethz.ch/cvl/aim20/PeymanMilanfar_AIM_ECCV20.mov)\n",
        "\n",
        "-----\n",
        "\n",
        "\n",
        "### Conditions\n",
        "- Capture\n",
        "  - Aliased images\n",
        "  - A bit of hand tremor\n",
        "- Algorithm requirements\n",
        "  - Accurate subpixel motion estimation\n",
        "  - Fusion engine to perform joint demosaick & denoising: use adaptive anisotropic interpolation kernels.\n",
        "  - Ghost detection with extra capability to discriminate true ghost versus aliasing."
      ],
      "metadata": {
        "id": "gowB0tpXSV_A"
      }
    },
    {
      "cell_type": "markdown",
      "source": [
        "## Learning based approaches\n",
        "- In 2021, the problem of MFSR has been introduced as a challenge for academy with an associated [dataset](https://github.com/goutamgmb/NTIRE21_BURSTSR) proposed for the NTIRE 2021 challenge.\n",
        "- [Deep burst super resolution](https://github.com/goutamgmb/deep-burst-sr) by ETH Zurich uses:\n",
        "  - PWC-Net for optical flow estimation\n",
        "  - Siamese CNN encoder for each frame of the burst\n",
        "  - A fusion engine based on explicit weigthed sums of burst feature maps (but a CNN is used to compute weights instead of a handcrafted technique).\n",
        "  - A final decoder to upsample the fused burst features.\n",
        "\n",
        "- [Lucas Kanade Reloaded](https://hal.inria.fr/hal-03323885) uses the unrolled optimization method. Put in simple words, details from each burst low resolution frames are interatively added to the high resolution image. But when you add details, you also add some noise. So a denoising CNN (\"the prior\" term) is used to iteratively denoise the noisy super-resolved image. [Deep Reparametrization of Multi-Frame Super-Resolution and Denoising](https://github.com/goutamgmb/deep-rep) is another approach using the \"unrolled technique\"."
      ],
      "metadata": {
        "id": "MGk5Px98T2pR"
      }
    },
    {
      "cell_type": "code",
      "source": [],
      "metadata": {
        "id": "XBDsFFoNj4k8"
      },
      "execution_count": null,
      "outputs": []
    }
  ]
}